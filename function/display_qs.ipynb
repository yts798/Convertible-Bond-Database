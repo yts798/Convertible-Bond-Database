{
 "cells": [
  {
   "cell_type": "code",
   "execution_count": 16,
   "id": "e6b6aa12",
   "metadata": {},
   "outputs": [],
   "source": [
    "# set up\n",
    "import pandas as pd\n",
    "import numpy as np\n",
    "import pickle\n",
    "import time \n",
    "import os\n",
    "import matplotlib.pyplot as plt\n",
    "import datetime\n",
    "from operator import itemgetter\n",
    "import matplotlib.pyplot as plt\n",
    "import matplotlib.ticker as ticker\n",
    "from pylab import *\n",
    "from matplotlib.font_manager import FontProperties  \n",
    "data_folder_path = 'C:\\\\Users\\\\goodluck\\\\Desktop\\\\DB'\n",
    "raw_data_path =  \"C:\\\\Users\\\\goodluck\\\\Desktop\\\\DB\\\\raw_data\"\n",
    "storage_path =  \"C:\\\\Users\\\\goodluck\\\\Desktop\\\\DB\\\\database_storage\"\n",
    "DTBS_path = os.path.join(storage_path, \"DTBS.pkl\")\n",
    "font = FontProperties(fname=r\"simsun.ttf\", size=14)  \n",
    "matplotlib.rcParams['axes.unicode_minus'] =False\n",
    "mpl.rcParams['font.sans-serif'] = ['SimHei']\n",
    "tick_spacing = 4\n",
    "\n",
    "# re-open\n",
    "with open(DTBS_path, 'rb') as f:  \n",
    "    DTBS = pickle.load(f)\n",
    "    \n",
    "def takeFifth(elem):\n",
    "    return elem[4]\n"
   ]
  },
  {
   "cell_type": "code",
   "execution_count": 17,
   "id": "d19fbb74",
   "metadata": {},
   "outputs": [],
   "source": [
    "dt = DTBS['D']['day'][-1]\n",
    "re = []\n",
    "for code in DTBS['A'].keys():\n",
    "    if DTBS['A'][code][dt]['ia'] == 1 and DTBS['A'][code][dt]['qs30'] != 0:\n",
    "        re.append((code, DTBS['B'][code]['cn'], DTBS['A'][code][dt]['qs'],DTBS['A'][code][dt]['qs15'],DTBS['A'][code][dt]['qs30']))\n",
    "\n",
    "re.sort(key = takeFifth, reverse = True)"
   ]
  },
  {
   "cell_type": "code",
   "execution_count": 27,
   "id": "7aed7f22",
   "metadata": {},
   "outputs": [],
   "source": [
    "!python display_xx.py"
   ]
  },
  {
   "cell_type": "code",
   "execution_count": 9,
   "id": "95a73d77",
   "metadata": {},
   "outputs": [],
   "source": [
    "dt = DTBS['D']['day'][-1]\n",
    "re = []\n",
    "for code in DTBS['A'].keys():\n",
    "    if DTBS['A'][code][dt]['ia'] == 1 and DTBS['A'][code][dt]['qs30'] != 0:\n",
    "        re.append((code, DTBS['B'][code]['cn'], DTBS['A'][code][dt]['qs30']))\n",
    "\n",
    "re.sort(key = takeThird, reverse = True)"
   ]
  },
  {
   "cell_type": "code",
   "execution_count": 10,
   "id": "0c5ccf9c",
   "metadata": {},
   "outputs": [
    {
     "data": {
      "text/plain": [
       "[('113025.SH', '明泰转债', 30),\n",
       " ('113534.SH', '鼎胜转债', 30),\n",
       " ('113615.SH', '金诚转债', 30),\n",
       " ('123031.SZ', '晶瑞转债', 30),\n",
       " ('123046.SZ', '天铁转债', 30),\n",
       " ('123118.SZ', '惠城转债', 30),\n",
       " ('128095.SZ', '恩捷转债', 30),\n",
       " ('128111.SZ', '中矿转债', 30),\n",
       " ('110068.SH', '龙净转债', 30),\n",
       " ('127014.SZ', '北方转债', 30),\n",
       " ('127029.SZ', '中钢转债', 30),\n",
       " ('113537.SH', '文灿转债', 30),\n",
       " ('113626.SH', '伯特转债', 30),\n",
       " ('127065.SZ', '瑞鹄转债', 30),\n",
       " ('127069.SZ', '小熊转债', 30),\n",
       " ('110055.SH', '伊力转债', 30),\n",
       " ('128106.SZ', '华统转债', 30),\n",
       " ('123098.SZ', '一品转债', 30),\n",
       " ('127058.SZ', '科伦转债', 30),\n",
       " ('128025.SZ', '特一转债', 30),\n",
       " ('128091.SZ', '新天转债', 30),\n",
       " ('123025.SZ', '精测转债', 30),\n",
       " ('128140.SZ', '润建转债', 30),\n",
       " ('110048.SH', '福能转债', 30),\n",
       " ('110061.SH', '川投转债', 30),\n",
       " ('113039.SH', '嘉泽转债', 30),\n",
       " ('123092.SZ', '天壕转债', 30),\n",
       " ('123176.SZ', '精测转2', 30),\n",
       " ('123013.SZ', '横河转债', 29),\n",
       " ('113582.SH', '火炬转债', 28),\n",
       " ('113598.SH', '法兰转债', 26),\n",
       " ('128041.SZ', '盛路转债', 23),\n",
       " ('118021.SH', '新致转债', 23),\n",
       " ('110077.SH', '洪城转债', 23),\n",
       " ('113016.SH', '小康转债', 20),\n",
       " ('123136.SZ', '城市转债', 17),\n",
       " ('110052.SH', '贵广转债', 16),\n",
       " ('123150.SZ', '九强转债', 16),\n",
       " ('123192.SZ', '科思转债', 16),\n",
       " ('113027.SH', '华钰转债', 14),\n",
       " ('123164.SZ', '法本转债', 13),\n",
       " ('123067.SZ', '斯莱转债', 12),\n",
       " ('113594.SH', '淳中转债', 12),\n",
       " ('127064.SZ', '杭氧转债', 11),\n",
       " ('127028.SZ', '英特转债', 11),\n",
       " ('113646.SH', '永吉转债', 10),\n",
       " ('110057.SH', '现代转债', 9),\n",
       " ('113664.SH', '大元转债', 8),\n",
       " ('127037.SZ', '银轮转债', 7),\n",
       " ('123156.SZ', '博汇转债', 5),\n",
       " ('123181.SZ', '亚康转债', 5),\n",
       " ('128082.SZ', '华锋转债', 4),\n",
       " ('110083.SH', '苏租转债', 4),\n",
       " ('110058.SH', '永鼎转债', 4),\n",
       " ('110091.SH', '合力转债', 3),\n",
       " ('113057.SH', '中银转债', 3),\n",
       " ('128074.SZ', '游族转债', 3),\n",
       " ('110084.SH', '贵燃转债', 3),\n",
       " ('123177.SZ', '测绘转债', 2),\n",
       " ('123162.SZ', '东杰转债', 1),\n",
       " ('123075.SZ', '贝斯转债', 1),\n",
       " ('113648.SH', '巨星转债', 1),\n",
       " ('110053.SH', '苏银转债', 1),\n",
       " ('118030.SH', '睿创转债', 1),\n",
       " ('123140.SZ', '天地转债', 1)]"
      ]
     },
     "execution_count": 10,
     "metadata": {},
     "output_type": "execute_result"
    }
   ],
   "source": [
    "re"
   ]
  },
  {
   "cell_type": "code",
   "execution_count": null,
   "id": "e05e4729",
   "metadata": {},
   "outputs": [],
   "source": []
  }
 ],
 "metadata": {
  "kernelspec": {
   "display_name": "Python 3 (ipykernel)",
   "language": "python",
   "name": "python3"
  },
  "language_info": {
   "codemirror_mode": {
    "name": "ipython",
    "version": 3
   },
   "file_extension": ".py",
   "mimetype": "text/x-python",
   "name": "python",
   "nbconvert_exporter": "python",
   "pygments_lexer": "ipython3",
   "version": "3.10.9"
  }
 },
 "nbformat": 4,
 "nbformat_minor": 5
}
