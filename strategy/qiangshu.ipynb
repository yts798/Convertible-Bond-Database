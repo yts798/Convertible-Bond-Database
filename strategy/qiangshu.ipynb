{
 "cells": [
  {
   "cell_type": "code",
   "execution_count": 1,
   "id": "6a33c9eb",
   "metadata": {},
   "outputs": [],
   "source": [
    "import pandas as pd\n",
    "import numpy as np\n",
    "import pickle\n",
    "import time \n",
    "import os\n",
    "from datetime import datetime\n",
    "from operator import itemgetter\n",
    "data_folder_path = 'C:\\\\Users\\\\goodluck\\\\Desktop\\\\DB'\n",
    "raw_data_path =  \"C:\\\\Users\\\\goodluck\\\\Desktop\\\\DB\\\\raw_data\"\n",
    "storage_path =  \"C:\\\\Users\\\\goodluck\\\\Desktop\\\\DB\\\\database_storage\"\n",
    "DTBS_path = os.path.join(storage_path, \"DTBS.pkl\")\n",
    "with open(DTBS_path, 'rb') as f:  \n",
    "    DTBS = pickle.load(f)\n",
    "    "
   ]
  },
  {
   "cell_type": "code",
   "execution_count": 7,
   "id": "c0997190",
   "metadata": {},
   "outputs": [
    {
     "name": "stdout",
     "output_type": "stream",
     "text": [
      "2023-05-29\n",
      "123156.SZ 博汇转债 1/15 1/30\n",
      "113025.SH 明泰转债 15/15 16/30\n",
      "113534.SH 鼎胜转债 15/15 16/30\n",
      "113615.SH 金诚转债 15/15 16/30\n",
      "123013.SZ 横河转债 15/15 16/30\n",
      "123031.SZ 晶瑞转债 15/15 16/30\n",
      "123046.SZ 天铁转债 15/15 16/30\n",
      "123118.SZ 惠城转债 15/15 16/30\n",
      "128095.SZ 恩捷转债 15/15 16/30\n",
      "128111.SZ 中矿转债 15/15 16/30\n",
      "110068.SH 龙净转债 15/15 16/30\n",
      "113598.SH 法兰转债 15/15 16/30\n",
      "113664.SH 大元转债 2/15 3/30\n",
      "127014.SZ 北方转债 15/15 16/30\n",
      "127029.SZ 中钢转债 15/15 16/30\n",
      "127064.SZ 杭氧转债 5/15 6/30\n",
      "128041.SZ 盛路转债 9/15 10/30\n",
      "113537.SH 文灿转债 15/15 16/30\n",
      "113626.SH 伯特转债 15/15 16/30\n",
      "127065.SZ 瑞鹄转债 15/15 16/30\n",
      "127069.SZ 小熊转债 15/15 16/30\n",
      "110055.SH 伊力转债 15/15 16/30\n",
      "128106.SZ 华统转债 15/15 16/30\n",
      "113585.SH 寿仙转债 15/15 16/30\n",
      "123098.SZ 一品转债 15/15 16/30\n",
      "127058.SZ 科伦转债 15/15 16/30\n",
      "128025.SZ 特一转债 15/15 16/30\n",
      "128091.SZ 新天转债 15/15 16/30\n",
      "110058.SH 永鼎转债 1/15 1/30\n",
      "113582.SH 火炬转债 15/15 16/30\n",
      "118021.SH 新致转债 13/15 14/30\n",
      "123025.SZ 精测转债 15/15 16/30\n",
      "123164.SZ 法本转债 2/15 3/30\n",
      "128140.SZ 润建转债 15/15 16/30\n",
      "110048.SH 福能转债 15/15 16/30\n",
      "110061.SH 川投转债 15/15 16/30\n",
      "110077.SH 洪城转债 12/15 13/30\n",
      "110084.SH 贵燃转债 2/15 2/30\n",
      "113039.SH 嘉泽转债 15/15 16/30\n",
      "123092.SZ 天壕转债 15/15 16/30\n",
      "123176.SZ 精测转2 15/15 16/30\n",
      "123192.SZ 科思转债 7/15 7/30\n"
     ]
    }
   ],
   "source": [
    "dt = DTBS['D']['day'][-1]\n",
    "print(dt)\n",
    "for cd in DTBS['A'].keys():\n",
    "    if DTBS['A'][cd][dt]['ia'] == 1:\n",
    "        if DTBS['A'][cd][dt]['qs'] > 0 :\n",
    "            print(cd, DTBS['B'][cd]['cn'], str(DTBS['A'][cd][dt]['qs15'])+'/15', str(DTBS['A'][cd][dt]['qs30'])+'/30')\n",
    "            "
   ]
  },
  {
   "cell_type": "code",
   "execution_count": null,
   "id": "38496952",
   "metadata": {},
   "outputs": [],
   "source": []
  }
 ],
 "metadata": {
  "kernelspec": {
   "display_name": "Python 3 (ipykernel)",
   "language": "python",
   "name": "python3"
  },
  "language_info": {
   "codemirror_mode": {
    "name": "ipython",
    "version": 3
   },
   "file_extension": ".py",
   "mimetype": "text/x-python",
   "name": "python",
   "nbconvert_exporter": "python",
   "pygments_lexer": "ipython3",
   "version": "3.10.9"
  }
 },
 "nbformat": 4,
 "nbformat_minor": 5
}
