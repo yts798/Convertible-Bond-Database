{
 "cells": [
  {
   "cell_type": "code",
   "execution_count": 1,
   "metadata": {},
   "outputs": [],
   "source": [
    "# set up\n",
    "import pandas as pd\n",
    "import numpy as np\n",
    "import pickle\n",
    "import time \n",
    "import os\n",
    "import matplotlib.pyplot as plt\n",
    "import datetime\n",
    "from operator import itemgetter\n",
    "import matplotlib.pyplot as plt\n",
    "import matplotlib.ticker as ticker\n",
    "from pylab import *\n",
    "from matplotlib.font_manager import FontProperties  \n",
    "data_folder_path = 'C:\\\\Users\\\\goodluck\\\\Desktop\\\\DB'\n",
    "raw_data_path =  \"C:\\\\Users\\\\goodluck\\\\Desktop\\\\DB\\\\raw_data\"\n",
    "storage_path =  \"C:\\\\Users\\\\goodluck\\\\Desktop\\\\DB\\\\database_storage\"\n",
    "DTBS_path = os.path.join(storage_path, \"DTBS.pkl\")\n",
    "font = FontProperties(fname=r\"simsun.ttf\", size=14)  \n",
    "matplotlib.rcParams['axes.unicode_minus'] =False\n",
    "mpl.rcParams['font.sans-serif'] = ['SimHei']\n",
    "tick_spacing = 4\n",
    "\n",
    "# re-open\n",
    "with open(DTBS_path, 'rb') as f:  \n",
    "    DTBS = pickle.load(f)\n",
    "    "
   ]
  },
  {
   "cell_type": "code",
   "execution_count": 2,
   "metadata": {},
   "outputs": [],
   "source": [
    "def select_days(s_d, e_d, wkd, gap):\n",
    "    days = []\n",
    "    flag = 0\n",
    "    sdt = datetime.datetime.strptime(s_d, '%Y-%m-%d').date()\n",
    "    edt = datetime.datetime.strptime(e_d, '%Y-%m-%d').date()\n",
    "    for day in DTBS['D']['day']:\n",
    "        cdt =  datetime.datetime.strptime(day, '%Y-%m-%d').date()\n",
    "        if cdt >= sdt:\n",
    "            flag = 1\n",
    "        \n",
    "        if cdt == edt:\n",
    "            days.append(day)\n",
    "            break\n",
    "        \n",
    "        if cdt > edt:\n",
    "            break \n",
    "            \n",
    "        if flag == 1:\n",
    "            days.append(day)\n",
    "            \n",
    "    s_days = []\n",
    "    count = 0\n",
    "    for day in days:\n",
    "        if day in DTBS['D'][wkd]:\n",
    "            if count % gap == 0:\n",
    "                s_days.append(day)\n",
    "                \n",
    "            count += 1\n",
    "    \n",
    "    \n",
    "    return s_days"
   ]
  },
  {
   "cell_type": "code",
   "execution_count": null,
   "metadata": {},
   "outputs": [],
   "source": [
    "# def sharpe"
   ]
  }
 ],
 "metadata": {
  "kernelspec": {
   "display_name": "Python 3",
   "language": "python",
   "name": "python3"
  },
  "language_info": {
   "codemirror_mode": {
    "name": "ipython",
    "version": 3
   },
   "file_extension": ".py",
   "mimetype": "text/x-python",
   "name": "python",
   "nbconvert_exporter": "python",
   "pygments_lexer": "ipython3",
   "version": "3.6.5"
  }
 },
 "nbformat": 4,
 "nbformat_minor": 2
}
