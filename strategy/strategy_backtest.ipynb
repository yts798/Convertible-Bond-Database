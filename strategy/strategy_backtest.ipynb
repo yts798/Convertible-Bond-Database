{
 "cells": [
  {
   "cell_type": "code",
   "execution_count": 1,
   "metadata": {},
   "outputs": [],
   "source": [
    "# set up\n",
    "import pandas as pd\n",
    "import numpy as np\n",
    "import pickle\n",
    "import time \n",
    "import os\n",
    "import matplotlib.pyplot as plt\n",
    "import datetime\n",
    "from operator import itemgetter\n",
    "import matplotlib.pyplot as plt\n",
    "import matplotlib.ticker as ticker\n",
    "from pylab import *\n",
    "from matplotlib.font_manager import FontProperties  \n",
    "data_folder_path = 'C:\\\\Users\\\\goodluck\\\\Desktop\\\\DB'\n",
    "raw_data_path =  \"C:\\\\Users\\\\goodluck\\\\Desktop\\\\DB\\\\raw_data\"\n",
    "storage_path =  \"C:\\\\Users\\\\goodluck\\\\Desktop\\\\DB\\\\database_storage\"\n",
    "DTBS_path = os.path.join(storage_path, \"DTBS.pkl\")\n",
    "font = FontProperties(fname=r\"simsun.ttf\", size=14)  \n",
    "matplotlib.rcParams['axes.unicode_minus'] =False\n",
    "mpl.rcParams['font.sans-serif'] = ['SimHei']\n",
    "tick_spacing = 4\n",
    "\n",
    "# re-open\n",
    "with open(DTBS_path, 'rb') as f:  \n",
    "    DTBS = pickle.load(f)"
   ]
  },
  {
   "cell_type": "code",
   "execution_count": 114,
   "metadata": {},
   "outputs": [],
   "source": [
    "# helper -- days\n",
    "def select_days(s_d, e_d, wkd, gap):\n",
    "    days = []\n",
    "    flag = 0\n",
    "    sdt = datetime.datetime.strptime(s_d, '%Y-%m-%d').date()\n",
    "    edt = datetime.datetime.strptime(e_d, '%Y-%m-%d').date()\n",
    "    for day in DTBS['D']['day']:\n",
    "        cdt =  datetime.datetime.strptime(day, '%Y-%m-%d').date()\n",
    "        if cdt >= sdt:\n",
    "            flag = 1\n",
    "        \n",
    "        if cdt == edt:\n",
    "            days.append(day)\n",
    "            break\n",
    "        \n",
    "        if cdt > edt:\n",
    "            break \n",
    "            \n",
    "        if flag == 1:\n",
    "            days.append(day)\n",
    "            \n",
    "    s_days = []\n",
    "    count = 0\n",
    "    for day in days:\n",
    "        if day in DTBS['D'][wkd]:\n",
    "            if count % gap == 0:\n",
    "                s_days.append(day)\n",
    "                \n",
    "            count += 1\n",
    "    \n",
    "    \n",
    "    return s_days\n",
    "\n",
    "f20wm = select_days('2020-01-01', '2020-06-30', 'mon', 1)\n",
    "f20fm = select_days('2020-01-01', '2020-06-30', 'mon', 2)\n",
    "s20wm = select_days('2020-07-01', '2020-12-31', 'mon', 1)\n",
    "s20fm = select_days('2020-07-01', '2020-12-31', 'mon', 2)\n",
    "f21wm = select_days('2021-01-01', '2021-06-30', 'mon', 1)\n",
    "f21fm = select_days('2021-01-01', '2021-06-30', 'mon', 2)\n",
    "s21wm = select_days('2021-07-01', '2021-12-31', 'mon', 1)\n",
    "s21fm = select_days('2021-07-01', '2021-12-31', 'mon', 2)\n",
    "f22wm = select_days('2022-01-01', '2022-06-30', 'mon', 1)\n",
    "f22fm = select_days('2022-01-01', '2022-06-30', 'mon', 2)\n",
    "s22wm = select_days('2022-07-01', '2022-12-31', 'mon', 1)\n",
    "s22fm = select_days('2022-07-01', '2022-12-31', 'mon', 2)\n",
    "f23wm = select_days('2023-01-01', '2023-03-29', 'mon', 1)\n",
    "f23fm = select_days('2023-01-01', '2023-03-29', 'mon', 2)\n",
    "a20wm = select_days('2020-01-01', '2020-12-31', 'mon', 1)\n",
    "a20fm = select_days('2020-01-01', '2020-12-31', 'mon', 2)\n",
    "a21wm = select_days('2021-01-01', '2021-12-31', 'mon', 1)\n",
    "a21fm = select_days('2021-01-01', '2021-12-31', 'mon', 2)\n",
    "a22wm = select_days('2022-01-01', '2022-12-31', 'mon', 1)\n",
    "a22fm = select_days('2022-01-01', '2022-12-31', 'mon', 2)\n",
    "\n",
    "hywm = [f20wm, s20wm, f21wm, s21wm, f22wm, s22wm, f23wm]\n",
    "hyfm = [f20fm, s20fm, f21fm, s21fm, f22fm, s22fm, f23fm]\n"
   ]
  },
  {
   "cell_type": "code",
   "execution_count": 83,
   "metadata": {},
   "outputs": [],
   "source": [
    "# helper -- others\n",
    "def select_group(nm, dt, codes, grp):\n",
    "    select = []\n",
    "    if nm == 'id':\n",
    "        for code in codes:\n",
    "            if DTBS['B'][code]['cat1'] == grp:\n",
    "                select.append(code)\n",
    "    elif nm == 'pr':\n",
    "        for code in codes:\n",
    "            if DTBS['A'][code][dt]['dp'] >= grp[0] and DTBS['A'][code][dt]['dp'] <= grp[1]:\n",
    "                select.append(code)\n",
    "                \n",
    "    else:\n",
    "        for code in codes:\n",
    "            if DTBS['B'][code]['cat1']  == grp[0]:\n",
    "                if DTBS['A'][code][dt]['dp'] >= grp[1][0] and DTBS['A'][code][dt]['dp'] <= grp[1][1]:\n",
    "                    select.append(code)\n",
    "    return select\n",
    "\n",
    "\n",
    "def transform_group(grps):\n",
    "    if len(grps) == 1:\n",
    "        return grps[0]\n",
    "    else:\n",
    "        grp = ['idpr', []]\n",
    "        for cd1 in grps[0][1]:\n",
    "            for cd2 in grps[1][1]:\n",
    "                grp[1].append((cd1, cd2))\n",
    "        \n",
    "        return grp\n",
    "    \n",
    "\n",
    "def select_existing(dt):\n",
    "    exist = []\n",
    "    for code in DTBS['A'].keys():\n",
    "        if DTBS['A'][code][dt]['ia'] == 1:\n",
    "            exist.append(code)\n",
    "            \n",
    "    return exist\n",
    "\n",
    "def select_condition(codes, dt, fcd):\n",
    "    satisfy = []\n",
    "    for code in codes:\n",
    "        if DTBS['A'][code][dt][fcd[0]] <= fcd[2] and DTBS['A'][code][dt][fcd[0]] >= fcd[1]:\n",
    "                satisfy.append(code)\n",
    "    return satisfy\n",
    "\n",
    "def takeSecond(elem):\n",
    "    return elem[1]\n",
    "\n",
    "\n",
    "def retrieve_low_nodes(codes,dt,num):\n",
    "    dl_rank = []\n",
    "    for code in codes:\n",
    "        if DTBS['A'][code][dt]['dl'] != 999:\n",
    "            dl_rank.append((code, DTBS['A'][code][dt]['dl']))\n",
    "    \n",
    "    dl_rank.sort(key=takeSecond)\n",
    "    low = dl_rank[0:num]\n",
    "    return [i[0] for i in low]\n",
    "\n",
    "\n",
    "idts = [['农林牧渔(2021)', '基础化工(2021)', '美容护理(2021)', '通信(2021)', '非银金融(2021)', '电力设备(2021)', '汽车(2021)', '电子(2021)'], ['家用电器(2021)', '基础化工(2021)', '建筑材料(2021)', '建筑装饰(2021)', '机械设备(2021)', '商贸零售(2021)', '计算机(2021)', '国防军工(2021)', '钢铁(2021)', '传媒(2021)'], ['汽车(2021)', '交通运输(2021)', '农林牧渔(2021)', '煤炭(2021)', '有色金属(2021)', '商贸零售(2021)', '机械设备(2021)', '钢铁(2021)', '电力设备(2021)', '基础化工(2021)'], ['电力设备(2021)', '有色金属(2021)', '交通运输(2021)', '钢铁(2021)', '通信(2021)', '汽车(2021)', '基础化工(2021)', '轻工制造(2021)', '国防军工(2021)', '医药生物(2021)'], ['有色金属(2021)', '机械社保(2021)', '基础化工(2021)', '农林牧渔(2021)', '汽车(2021)', '交通运输(2021)', '国防军工(2021)', '医药生物(2021)', '通信(2021)', '电力设备(2021)'], ['有色金属(2021)', '农林牧渔(2021)', '汽车(2021)', '电力设备(2021)', '公用事业(2021)', '社会服务(2021)', '食品饮料(2021)', '医药生物(2021)', '轻工制造(2021)', '建筑材料(2021)'], ['建筑材料(2021)', '建筑装饰(2021)', '国防军工(2021)', '计算机(2021)', '通信(2021)', '食品饮料(2021)', '社会服务(2021)', '纺织服饰(2021)', '交通运输(2021)', '轻工制造(2021)']]"
   ]
  },
  {
   "cell_type": "code",
   "execution_count": 5,
   "metadata": {},
   "outputs": [],
   "source": [
    "# plot\n",
    "\n",
    "def plot_profit(days, profit, market = DTBS['C']):\n",
    "    plt.figure(figsize=(80,60))\n",
    "\n",
    "    fig, ax = plt.subplots(1,1)\n",
    "    plt.plot(days[1:], profit, linestyle='solid',label='双低5周换仓')\n",
    "    i_x = [days[1], days[-1]]\n",
    "\n",
    "    market_gain = (market['zi'][days[-1]]-market['zi'][days[0]])/(market['zi'][days[0]])\n",
    "    i_y = [0, market_gain]\n",
    "    plt.plot(i_x, i_y, linestyle='solid',label='中正转债指数')\n",
    "\n",
    "    ax.xaxis.set_major_locator(ticker.MultipleLocator(tick_spacing))\n",
    "    plt.ylabel('Increase per year/%')\n",
    "\n",
    "    # 'dashed'\n",
    "    #‘dotted'\n",
    "    # 'dashdot'\n",
    "    # 'solid'\n",
    "\n",
    "    \n",
    "    plt.legend(fontsize = 'x-small')\n",
    "\n",
    "    ax.xaxis.set_major_locator(ticker.MultipleLocator(tick_spacing))\n",
    "    plt.ylabel('收益率/%')\n",
    "    tt = '收益率'\n",
    "    plt.title(tt)\n",
    "    plt.savefig(tt, dpi=300)\n",
    "    plt.show()\n",
    "    print(\"Final gain\", profit[-1], ',',\"Market gain\", market_gain)\n"
   ]
  },
  {
   "cell_type": "code",
   "execution_count": 6,
   "metadata": {},
   "outputs": [],
   "source": [
    "# statistics\n",
    "\n",
    "def win_stat(res):\n",
    "    print(\"Max profit\", max(res), \", Max loss\", min(res))\n",
    "    wins = []\n",
    "    win = 0\n",
    "    count = 0\n",
    "    winm = 0\n",
    "    winsm  = []\n",
    "    summ = 0\n",
    "    \n",
    "    for i in res:\n",
    "        if i >= 0:\n",
    "            win += 1\n",
    "            wins.append(True)\n",
    "        else:\n",
    "            wins.append(False)\n",
    "        \n",
    "        summ += i\n",
    "        if (count + 1) % 4 == 0:\n",
    "            if summ >= 0:\n",
    "                winm += 1\n",
    "                winsm.append(True)\n",
    "            else:\n",
    "                winsm.append(False)\n",
    "                \n",
    "            summ = 0\n",
    "            \n",
    "        count += 1\n",
    "    win_rate = win/len(res)\n",
    "    winm_rate = winm/len(winsm)\n",
    "    print(\"Weekly win rate & details\", win_rate, \", \", wins)\n",
    "    print(\"Monthly win rate & details\", winm_rate,\", \", winsm)\n",
    "\n",
    "    "
   ]
  },
  {
   "cell_type": "code",
   "execution_count": 58,
   "metadata": {},
   "outputs": [],
   "source": [
    "# calculate\n",
    "def cumulative_profit(days, grp_cd, flt_cd, dl):\n",
    "    cm_profit = []\n",
    "    one_profit = []\n",
    "    all_select = []\n",
    "    sum_profit = 0\n",
    "    \n",
    "    for i in range(len(days)): \n",
    "        if i+1 == len(days):\n",
    "            exist = select_existing(days[i])\n",
    "            \n",
    "            \n",
    "        else: \n",
    "            exist_tr = select_existing(days[i])\n",
    "            exist_nr = select_existing(days[i+1])\n",
    "            exist =list(set(exist_tr).intersection(set(exist_nr)))\n",
    "\n",
    "        select = exist.copy()\n",
    "        candidate = []\n",
    "        if grp_cd != []:\n",
    "            grp = transform_group(grp_cd)\n",
    "            for cd in grp[1]:\n",
    "                select = exist.copy()\n",
    "                select = select_group(grp[0], days[i], select, cd)\n",
    "                for fcd in flt_cd:\n",
    "                    select = select_condition(select, days[i], fcd)\n",
    "                if dl > 0:\n",
    "                    select = retrieve_low_nodes(select, days[i], dl)                       \n",
    "                for cd in select:\n",
    "                    candidate.append(cd)\n",
    "                            \n",
    "\n",
    "        \n",
    "        else: \n",
    "            for fcd in flt_cd:\n",
    "                select = select_condition(select, days[i], fcd)\n",
    "            if dl > 0:\n",
    "                select = retrieve_low_nodes(select, days[i], dl)\n",
    "                \n",
    "            candidate = select.copy()    \n",
    "        \n",
    "#         print(candidate, days[i])\n",
    "        all_select.append(candidate)\n",
    "    \n",
    "    \n",
    "        if i >= 1:\n",
    "        \n",
    "            tr = 0\n",
    "            lr = 0\n",
    "#\n",
    "            for cd in all_select[i-1]:\n",
    "                tr += DTBS['A'][cd][days[i]]['dp']\n",
    "                lr += DTBS['A'][cd][days[i-1]]['dp']\n",
    "        \n",
    "            profit = ((tr - lr)/ lr)\n",
    "            one_profit.append(profit)\n",
    "\n",
    "            sum_profit += profit\n",
    "\n",
    "                \n",
    "            cm_profit.append(sum_profit)\n",
    "#             print(\"Availble No.\", len(all_codes[i-1]))\n",
    "\n",
    "#     print(profit)\n",
    "    return cm_profit, one_profit    \n"
   ]
  },
  {
   "cell_type": "code",
   "execution_count": 93,
   "metadata": {},
   "outputs": [
    {
     "name": "stdout",
     "output_type": "stream",
     "text": [
      "Max profit 0.02033031676839239 , Max loss -0.02166791596413352\n",
      "Weekly win rate & details 0.5 ,  [True, False, False, True, False, False, True, True, False, True]\n",
      "Monthly win rate & details 0.5 ,  [False, True]\n"
     ]
    },
    {
     "data": {
      "text/plain": [
       "<Figure size 5760x4320 with 0 Axes>"
      ]
     },
     "metadata": {},
     "output_type": "display_data"
    },
    {
     "data": {
      "image/png": "[encoded data removed]",
      "text/plain": [
       "<Figure size 432x288 with 1 Axes>"
      ]
     },
     "metadata": {},
     "output_type": "display_data"
    },
    {
     "name": "stdout",
     "output_type": "stream",
     "text": [
      "Final gain -0.012602860693028552 , Market gain 0.010569763975612713\n"
     ]
    },
    {
     "data": {
      "text/plain": [
       "-0.012602860693028552"
      ]
     },
     "execution_count": 93,
     "metadata": {},
     "output_type": "execute_result"
    }
   ],
   "source": [
    "idlst = ['农林牧渔(2021)', '基础化工(2021)', '美容护理(2021)', '通信(2021)', '非银金融(2021)', '电力设备(2021)', '汽车(2021)', '电子(2021)']\n",
    "prlst = [[110,120], [120,130], [130,140]]\n",
    "grp_cd = [['id', idlst], ['pr', prlst]]\n",
    "grp_cd = [['id', idlst]]\n",
    "grp_cd = [['pr', prlst]]\n",
    "grp_cd = []\n",
    "fil_cd = [['dp',100,10000], ['trt',2,10], ['ytm',0.5,100], ['bl',0.3,7]]\n",
    "fil_cd = []\n",
    "dl = 5\n",
    "tm = f21wm\n",
    "cm_profit, one_profit = cumulative_profit(tm, grp_cd, fil_cd, dl)\n",
    "win_stat(one_profit)\n",
    "plot_profit(tm, cm_profit)\n",
    "cm_profit[-1]"
   ]
  },
  {
   "cell_type": "code",
   "execution_count": 168,
   "metadata": {},
   "outputs": [],
   "source": [
    "grp_cd = []\n",
    "fil_cd = [['dp',100,10000]]\n",
    "fil_cd = [['dp',100,10000], ['trt',2,10], ['ytm',0.5,100], ['bl',0.3,7]]\n",
    "\n",
    "\n",
    "\n",
    "\n",
    "\n",
    "fil_cd = [['trt',2,10]]\n",
    "fil_cd = [['trt',2,10]]\n",
    "fil_cd = [['bl',0.3,7]]\n",
    "fil_cd = [['ytm',0.5,100]]\n",
    "dl = 20\n",
    "with open('log.txt','a') as f:\n",
    "    for i in range(len(hywm)):\n",
    "        cm_profit, one_profit = cumulative_profit(hywm[i], grp_cd, fil_cd, dl)\n",
    "        print(cm_profit[-1], file=f)\n",
    "\n",
    "\n",
    "    print(\"\\n\", file=f)"
   ]
  },
  {
   "cell_type": "code",
   "execution_count": 103,
   "metadata": {},
   "outputs": [
    {
     "name": "stdout",
     "output_type": "stream",
     "text": [
      "0\n",
      "1\n",
      "2\n",
      "3\n",
      "4\n",
      "5\n",
      "6\n"
     ]
    },
    {
     "data": {
      "text/plain": [
       "['2020-07-06',\n",
       " '2020-07-13',\n",
       " '2020-07-20',\n",
       " '2020-07-27',\n",
       " '2020-08-03',\n",
       " '2020-08-10',\n",
       " '2020-08-17',\n",
       " '2020-08-24',\n",
       " '2020-08-31',\n",
       " '2020-09-07',\n",
       " '2020-09-14',\n",
       " '2020-09-21',\n",
       " '2020-09-28',\n",
       " '2020-10-12',\n",
       " '2020-10-19',\n",
       " '2020-10-26',\n",
       " '2020-11-02',\n",
       " '2020-11-09',\n",
       " '2020-11-16',\n",
       " '2020-11-23',\n",
       " '2020-11-30',\n",
       " '2020-12-07',\n",
       " '2020-12-14',\n",
       " '2020-12-21',\n",
       " '2020-12-28']"
      ]
     },
     "execution_count": 103,
     "metadata": {},
     "output_type": "execute_result"
    }
   ],
   "source": [
    ","
   ]
  },
  {
   "cell_type": "code",
   "execution_count": 9,
   "metadata": {},
   "outputs": [
    {
     "name": "stdout",
     "output_type": "stream",
     "text": [
      "程序正在从列表['老乡鸡', '自选']中进行随机选择，请稍后\n",
      "选择结果为：自选\n"
     ]
    },
    {
     "data": {
      "text/plain": [
       "0"
      ]
     },
     "execution_count": 9,
     "metadata": {},
     "output_type": "execute_result"
    }
   ],
   "source": [
    "import os,random,time\n",
    "f=open(os.getcwd()+r\"/menu.txt\",\"r\",encoding=\"utf-8\")\n",
    "a=f.readlines()\n",
    "li=[]\n",
    "for aa in a:\n",
    "    li.append(aa.strip())\n",
    "print(\"程序正在从列表\"+str(li)+\"中进行随机选择，请稍后\")\n",
    "time.sleep(1)\n",
    "print(\"选择结果为：\"+random.choice(li))\n",
    "os.system(\"pause\")"
   ]
  },
  {
   "cell_type": "code",
   "execution_count": 11,
   "metadata": {},
   "outputs": [],
   "source": [
    "a = [1,2]\n",
    "b = [1,3]"
   ]
  },
  {
   "cell_type": "code",
   "execution_count": 13,
   "metadata": {},
   "outputs": [
    {
     "ename": "TypeError",
     "evalue": "can't multiply sequence by non-int of type 'list'",
     "output_type": "error",
     "traceback": [
      "\u001b[1;31m---------------------------------------------------------------------------\u001b[0m",
      "\u001b[1;31mTypeError\u001b[0m                                 Traceback (most recent call last)",
      "\u001b[1;32m<ipython-input-13-9bc1a869709f>\u001b[0m in \u001b[0;36m<module>\u001b[1;34m()\u001b[0m\n\u001b[1;32m----> 1\u001b[1;33m \u001b[0ma\u001b[0m \u001b[1;33m*\u001b[0m \u001b[0mb\u001b[0m\u001b[1;33m\u001b[0m\u001b[0m\n\u001b[0m",
      "\u001b[1;31mTypeError\u001b[0m: can't multiply sequence by non-int of type 'list'"
     ]
    }
   ],
   "source": [
    "a * b"
   ]
  },
  {
   "cell_type": "code",
   "execution_count": null,
   "metadata": {},
   "outputs": [],
   "source": []
  }
 ],
 "metadata": {
  "kernelspec": {
   "display_name": "Python 3",
   "language": "python",
   "name": "python3"
  },
  "language_info": {
   "codemirror_mode": {
    "name": "ipython",
    "version": 3
   },
   "file_extension": ".py",
   "mimetype": "text/x-python",
   "name": "python",
   "nbconvert_exporter": "python",
   "pygments_lexer": "ipython3",
   "version": "3.6.5"
  }
 },
 "nbformat": 4,
 "nbformat_minor": 2
}
