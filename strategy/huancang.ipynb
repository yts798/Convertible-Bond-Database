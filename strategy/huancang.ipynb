{
 "cells": [
  {
   "cell_type": "code",
   "execution_count": 1,
   "metadata": {},
   "outputs": [],
   "source": [
    "# set up\n",
    "import pandas as pd\n",
    "import numpy as np\n",
    "import pickle\n",
    "import time \n",
    "import os\n",
    "import matplotlib.pyplot as plt\n",
    "import datetime\n",
    "from operator import itemgetter\n",
    "import matplotlib.pyplot as plt\n",
    "import matplotlib.ticker as ticker\n",
    "from pylab import *\n",
    "from matplotlib.font_manager import FontProperties  \n",
    "data_folder_path = 'C:\\\\Users\\\\goodluck\\\\Desktop\\\\DB'\n",
    "raw_data_path =  \"C:\\\\Users\\\\goodluck\\\\Desktop\\\\DB\\\\raw_data\"\n",
    "storage_path =  \"C:\\\\Users\\\\goodluck\\\\Desktop\\\\DB\\\\database_storage\"\n",
    "DTBS_path = os.path.join(storage_path, \"DTBS.pkl\")\n",
    "font = FontProperties(fname=r\"simsun.ttf\", size=14)  \n",
    "matplotlib.rcParams['axes.unicode_minus'] =False\n",
    "mpl.rcParams['font.sans-serif'] = ['SimHei']\n",
    "tick_spacing = 4\n",
    "\n",
    "# re-open\n",
    "with open(DTBS_path, 'rb') as f:  \n",
    "    DTBS = pickle.load(f)\n",
    "    \n",
    "def takeSecond(elem):\n",
    "    return elem[1]\n",
    "\n",
    "\n",
    "def retrieve_low_nodes(codes,dt,num):\n",
    "    dl_rank = []\n",
    "    for code in codes:\n",
    "        if DTBS['A'][code][dt]['dl'] != 999:\n",
    "            dl_rank.append((code, DTBS['A'][code][dt]['dl']))\n",
    "    \n",
    "    dl_rank.sort(key=takeSecond)\n",
    "    low = dl_rank[0:num]\n",
    "    return [i[0] for i in low]\n",
    "\n",
    "def past_qs(days, code):\n",
    "    \n",
    "    for day in days:\n",
    "            \n",
    "        if DTBS['A'][code][day]['qs'] == 1:\n",
    "            return 1\n",
    "    \n",
    "    return 0\n",
    "\n",
    "def select_condition(codes, dt, fcd):\n",
    "    satisfy = []\n",
    "    if fcd[0] == 'lp':\n",
    "        lm = calculate_time(dt, 'p', 20)\n",
    "        \n",
    "        for code in codes:\n",
    "            if low_prc(code, dt, lm, fcd[1]):\n",
    "                satisfy.append(code)\n",
    "        \n",
    "    else:\n",
    "        for code in codes:\n",
    "            if DTBS['A'][code][dt][fcd[0]] <= fcd[2] and DTBS['A'][code][dt][fcd[0]] >= fcd[1]:\n",
    "                satisfy.append(code)\n",
    "                    \n",
    "    return satisfy\n",
    "\n",
    "def rank(codes, dt, idx, num, d):\n",
    "    rk = []\n",
    "    if num == -1:\n",
    "        num = len(codes)\n",
    "    for code in codes:\n",
    "        if idx == 'lp':\n",
    "            if not np.isnan(DTBS['A'][code][dt]['dp']):\n",
    "                lm = calculate_time(dt, 'p', 20)\n",
    "                prc = get_prcs(code, lm)\n",
    "                lp = absolute_low(prc, 0)\n",
    "                rk.append((code, DTBS['A'][code][dt]['dp']/lp))\n",
    "            \n",
    "            \n",
    "        elif idx != 'dl':\n",
    "            if not np.isnan(DTBS['A'][code][dt][idx]):\n",
    "                rk.append((code, DTBS['A'][code][dt][idx]))\n",
    "        else:\n",
    "            if not np.isnan(DTBS['A'][code][dt][idx]):\n",
    "                if DTBS['A'][code][dt][idx] != 999:\n",
    "                    rk.append((code, DTBS['A'][code][dt][idx]))\n",
    "    if num >= len(rk):\n",
    "        num = len(rk)\n",
    "        \n",
    "     \n",
    "#     reverse = True 降序\n",
    "    if d == 'd':\n",
    "        rk.sort(key=takeSecond, reverse = True)\n",
    "    else:\n",
    "        rk.sort(key=takeSecond, reverse = False)\n",
    "\n",
    "    if idx == 'lp':\n",
    "        lp = [i for i in rk if i[1] == 1.0]\n",
    "        ot = []\n",
    "        if num - len(lp) > 0:\n",
    "            ot = rk[len(lp):num]\n",
    "        \n",
    "        low = lp + ot\n",
    "        \n",
    "    else:    \n",
    "        low = rk[0:num]\n",
    "#     print(\"In\",dt , len(low), \"of\", len(codes),  \"is selected\")   \n",
    "\n",
    "#     print(low)\n",
    "    \n",
    "    \n",
    "    return [i[0] for i in low]\n",
    "  \n",
    "\n",
    "def get_prcs(code, dts):\n",
    "    prc = []\n",
    "    for dt in dts:\n",
    "        prc.append(DTBS['A'][code][dt]['dp'])\n",
    "    prc.sort()\n",
    "    return prc\n",
    "    \n",
    "def relative_low(lst, pos):\n",
    "    return np.quantile(a=lst, q = pos)\n",
    "    \n",
    "def absolute_low(lst, pos):\n",
    "    return min(lst) + pos * (max(lst) - min(lst))\n",
    "\n",
    "def low_prc(code, dt, lm, pos):\n",
    "    prc = get_prcs(code, lm)\n",
    "#     lp = min([relative_low(prc, pos), absolute_low(prc, pos)])\n",
    "    lp = absolute_low(prc, pos)\n",
    "    tp = DTBS['A'][code][dt]['dp']\n",
    "#     if (tp <= lp):\n",
    "#         print(code, tp, lp)\n",
    "#     if tp <= lp:\n",
    "#         print(tp, lp)\n",
    "    return tp <= lp\n",
    "\n",
    "def calculate_time(dt, d, l):\n",
    "    time = []\n",
    "    days = DTBS['D']['day']\n",
    "    if d == 'p':\n",
    "        for i in range(len(days)):\n",
    "            if days[i] == dt:\n",
    "                break\n",
    "                \n",
    "    return days[i-l+1:i+1]\n",
    "\n",
    "past_dt = DTBS['D']['day'][-20:]"
   ]
  },
  {
   "cell_type": "code",
   "execution_count": 2,
   "metadata": {},
   "outputs": [
    {
     "name": "stdout",
     "output_type": "stream",
     "text": [
      "2023-05-22\n"
     ]
    }
   ],
   "source": [
    "dt = DTBS['D']['day'][-1]\n",
    "print(dt)\n",
    "dt = DTBS['D']['day'][-1]\n",
    "past_dt = DTBS['D']['day'][-20:]\n",
    "re = retrieve_low_nodes(DTBS['A'].keys(), dt , 400)\n"
   ]
  },
  {
   "cell_type": "code",
   "execution_count": 6,
   "metadata": {},
   "outputs": [],
   "source": [
    "# # save\n",
    "# f_save = open(DTBS_path, 'wb')\n",
    "# pickle.dump(DTBS, f_save)\n",
    "# f_save.close()\n"
   ]
  },
  {
   "cell_type": "code",
   "execution_count": 7,
   "metadata": {},
   "outputs": [
    {
     "name": "stdout",
     "output_type": "stream",
     "text": [
      "{'cpr': 1.09, 'dp': 133.001, 'dl': 134.091, 'ytm': -4.57, 'bl': 17.672, 'trt': 9.77, 'yl': 3.548, 'csp': 6.21, 'ia': 1, 'qs': 0, 'xx': 0, 'hs': 0, 'csv': 131.5619967793881, 'cz': 101.0871, 'pd': 0.30147166927716884}\n",
      "{'cn': '洪城转债', 'ipo': '2020-12-17', 'sc': '600461.SH', 'sn': '洪城环境', 'cat1': '环保(2021)', 'cat2': '环境治理(2021)', 'dld': '2046-01-01'}\n",
      "{'cl': 8.17, 'pb': 1.2}\n"
     ]
    }
   ],
   "source": [
    "\n",
    "print(DTBS['A']['110077.SH']['2023-05-04'])\n",
    "print(DTBS['B']['110077.SH'])\n",
    "print(DTBS['E'][DTBS['B']['110077.SH']['sc']]['2023-05-04'])\n",
    "\n"
   ]
  },
  {
   "cell_type": "code",
   "execution_count": 8,
   "metadata": {},
   "outputs": [
    {
     "data": {
      "text/plain": [
       "8.073"
      ]
     },
     "execution_count": 8,
     "metadata": {},
     "output_type": "execute_result"
    }
   ],
   "source": [
    "6.21 * 1.3"
   ]
  },
  {
   "cell_type": "code",
   "execution_count": null,
   "metadata": {},
   "outputs": [],
   "source": []
  },
  {
   "cell_type": "code",
   "execution_count": 5,
   "metadata": {
    "scrolled": false
   },
   "outputs": [
    {
     "name": "stdout",
     "output_type": "stream",
     "text": [
      "13\n",
      "当前日期： 2023-05-22\n",
      "113526.SH 联泰转债 603797.SH 联泰环保 强赎： 0 收盘价： 126.638 转股溢价率： 24.04 到期收益率： -9.26 换手率： 4.17 市值 1.927 双低 150.678 申万一级 环保(2021) 申万二级 环境治理(2021)\n",
      "113595.SH 花王转债 603007.SH ST花王 强赎： 0 收盘价： 110.225 转股溢价率： 11.22 到期收益率： 3.88 换手率： 14.0 市值 2.707 双低 121.445 申万一级 建筑装饰(2021) 申万二级 基础建设(2021)\n",
      "113561.SH 正裕转债 603089.SH 正裕工业 强赎： 0 收盘价： 118.948 转股溢价率： 40.82 到期收益率： -0.98 换手率： 3.24 市值 1.499 双低 159.768 申万一级 汽车(2021) 申万二级 汽车零部件(2021)\n",
      "128039.SZ 三力转债 002224.SZ 三力士 强赎： 0 收盘价： 115.023 转股溢价率： 43.65 到期收益率： -6.34 换手率： 3.06 市值 2.024 双低 158.673 申万一级 基础化工(2021) 申万二级 橡胶(2021)\n",
      "128021.SZ 兄弟转债 002562.SZ 兄弟科技 强赎： 0 收盘价： 112.09 转股溢价率： 28.79 到期收益率： -10.43 换手率： 3.37 市值 2.651 双低 140.88 申万一级 基础化工(2021) 申万二级 化学制品(2021)\n",
      "113566.SH 翔港转债 603499.SH 翔港科技 强赎： 0 收盘价： 120.801 转股溢价率： 38.41 到期收益率： 0.36 换手率： 1.54 市值 1.613 双低 159.211 申万一级 轻工制造(2021) 申万二级 包装印刷(2021)\n",
      "128053.SZ 尚荣转债 002551.SZ 尚荣医疗 强赎： 0 收盘价： 126.8 转股溢价率： 47.33 到期收益率： -7.05 换手率： 3.33 市值 1.898 双低 174.13 申万一级 医药生物(2021) 申万二级 医疗器械(2021)\n",
      "128056.SZ 今飞转债 002863.SZ 今飞凯达 强赎： 0 收盘价： 128.032 转股溢价率： 34.3 到期收益率： -4.91 换手率： 5.69 市值 1.72 双低 162.332 申万一级 汽车(2021) 申万二级 汽车零部件(2021)\n",
      "128143.SZ 锋龙转债 002931.SZ 锋龙股份 强赎： 0 收盘价： 119.5 转股溢价率： 39.36 到期收益率： 0.24 换手率： 1.34 市值 2.44 双低 158.86 申万一级 机械设备(2021) 申万二级 通用设备(2021)\n",
      "123152.SZ 润禾转债 300727.SZ 润禾材料 强赎： 0 收盘价： 123.505 转股溢价率： 34.49 到期收益率： 0.16 换手率： 6.25 市值 2.92 双低 157.995 申万一级 基础化工(2021) 申万二级 化学制品(2021)\n",
      "123166.SZ 蒙泰转债 300876.SZ 蒙泰高新 强赎： 0 收盘价： 125.148 转股溢价率： 25.78 到期收益率： -0.55 换手率： 1.76 市值 3.0 双低 150.928 申万一级 基础化工(2021) 申万二级 化学纤维(2021)\n",
      "123159.SZ 崧盛转债 301002.SZ 崧盛股份 强赎： 0 收盘价： 116.012 转股溢价率： 39.63 到期收益率： 0.53 换手率： 5.84 市值 2.94 双低 155.642 申万一级 电力设备(2021) 申万二级 电网设备(2021)\n",
      "118007.SH 山石转债 688030.SH 山石网科 强赎： 0 收盘价： 126.933 转股溢价率： 41.86 到期收益率： -1.14 换手率： 5.93 市值 2.673 双低 168.793 申万一级 计算机(2021) 申万二级 软件开发(2021)\n"
     ]
    }
   ],
   "source": [
    "dt = DTBS['D']['day'][-1]\n",
    "# dt = '2023-01-30'\n",
    "# dt = '2023-04-12'\n",
    "select = list(DTBS['A'].keys())\n",
    "past_dt = DTBS['D']['day'][-40:]\n",
    "\n",
    "# flt_cd = [['lp', 0.5], ['dp', 110, 130], ['bl',0, 7], ['cpr',-999, 50]]\n",
    "\n",
    "flt_cd = [['dp', 100, 130]]\n",
    "\n",
    "flt_cd = [['dp', 100, 130], ['bl',0, 3]]\n",
    "flt_cd = [['lp', 0.5], ['dp', 100, 130], ['bl',0, 3], ['cpr', -999, 50]]\n",
    "flt_cd = [['dp', 100, 130], ['bl',0, 7], ['trt', 2, 10], ['ytm', -1, 9999]]\n",
    "flt_cd = [['dp', 100, 130], ['bl',0, 7], ['trt', 2, 10], ['ytm', 0.5, 9999]]\n",
    "\n",
    "flt_cd = []\n",
    "flt_cd = [['lp', 0.5], ['dp', 100, 130], ['bl',0, 3], ['cpr', -999, 50]]\n",
    "for fcd in flt_cd:\n",
    "    select = select_condition(select, dt, fcd)\n",
    "    \n",
    "    \n",
    "# rk_cd = [['lp', 10, 'a']]\n",
    "rk_cd = [['dl', 600, 'a']]\n",
    "rk_cd = [['ytm', 20, 'd']]\n",
    "rk_cd = [['dl', 20, 'a']]\n",
    "    \n",
    "\n",
    "rk_cd = [['dl', 400, 'a']]\n",
    "rk_cd = [['lp', 20, 'a']]\n",
    "lp = rank(select, dt, rk_cd[0][0], rk_cd[0][1], rk_cd[0][2])\n",
    "print(len(lp))\n",
    "print(\"当前日期：\", dt)\n",
    "for r in lp:\n",
    "    print(r, DTBS['B'][r]['cn'], DTBS['B'][r]['sc'],  DTBS['B'][r]['sn'],  '强赎：' , past_qs(past_dt, r), \"收盘价：\", DTBS['A'][r][dt]['dp'],  \"转股溢价率：\", DTBS['A'][r][dt]['cpr'], \"到期收益率：\", DTBS['A'][r][dt]['ytm'],\"换手率：\", DTBS['A'][r][dt]['trt'], '市值',  DTBS['A'][r][dt]['bl'], '双低', DTBS['A'][r][dt]['dl'], '申万一级', DTBS['B'][r]['cat1'],'申万二级', DTBS['B'][r]['cat2'])"
   ]
  },
  {
   "cell_type": "code",
   "execution_count": 4,
   "metadata": {},
   "outputs": [
    {
     "name": "stdout",
     "output_type": "stream",
     "text": [
      "当前日期： 2023-05-12\n",
      "113566.SH 翔港转债 603499.SH 翔港科技 强赎： 0 收盘价： 119.385 转股溢价率： 38.26 到期收益率： 0.79 换手率： 5.1 市值 1.613 双低 157.645 申万一级 轻工制造(2021) 申万二级 包装印刷(2021)\n",
      "123152.SZ 润禾转债 300727.SZ 润禾材料 强赎： 0 收盘价： 121.0 转股溢价率： 36.22 到期收益率： 0.56 换手率： 12.09 市值 2.92 双低 157.22 申万一级 基础化工(2021) 申万二级 化学制品(2021)\n",
      "123166.SZ 蒙泰转债 300876.SZ 蒙泰高新 强赎： 0 收盘价： 122.536 转股溢价率： 29.79 到期收益率： -0.16 换手率： 3.22 市值 3.0 双低 152.326 申万一级 基础化工(2021) 申万二级 化学纤维(2021)\n",
      "128039.SZ 三力转债 002224.SZ 三力士 强赎： 0 收盘价： 115.058 转股溢价率： 45.27 到期收益率： -6.21 换手率： 3.87 市值 2.024 双低 160.328 申万一级 基础化工(2021) 申万二级 橡胶(2021)\n",
      "128071.SZ 合兴转债 002228.SZ 合兴包装 强赎： 0 收盘价： 112.396 转股溢价率： 38.86 到期收益率： 0.36 换手率： 3.7 市值 2.999 双低 151.256 申万一级 轻工制造(2021) 申万二级 包装印刷(2021)\n",
      "113030.SH 东风转债 601515.SH 东风股份 强赎： 0 收盘价： 118.424 转股溢价率： 33.5 到期收益率： -1.03 换手率： 5.48 市值 2.945 双低 151.924 申万一级 轻工制造(2021) 申万二级 包装印刷(2021)\n",
      "113526.SH 联泰转债 603797.SH 联泰环保 强赎： 0 收盘价： 125.79 转股溢价率： 23.21 到期收益率： -8.75 换手率： 5.69 市值 1.927 双低 149.0 申万一级 环保(2021) 申万二级 环境治理(2021)\n",
      "123061.SZ 航新转债 300424.SZ 航新科技 强赎： 0 收盘价： 121.778 转股溢价率： 39.77 到期收益率： 0.45 换手率： 4.32 市值 2.496 双低 161.548 申万一级 国防军工(2021) 申万二级 航空装备Ⅱ(2021)\n",
      "123080.SZ 海波转债 300517.SZ 海波重科 强赎： 0 收盘价： 129.441 转股溢价率： 22.03 到期收益率： -0.95 换手率： 8.3 市值 1.489 双低 151.471 申万一级 建筑装饰(2021) 申万二级 专业工程(2021)\n",
      "123112.SZ 万讯转债 300112.SZ 万讯自控 强赎： 0 收盘价： 125.807 转股溢价率： 21.22 到期收益率： -0.52 换手率： 11.42 市值 2.266 双低 147.027 申万一级 机械设备(2021) 申万二级 通用设备(2021)\n",
      "123159.SZ 崧盛转债 301002.SZ 崧盛股份 强赎： 0 收盘价： 113.5 转股溢价率： 47.57 到期收益率： 0.95 换手率： 4.0 市值 2.94 双低 161.07 申万一级 电力设备(2021) 申万二级 电网设备(2021)\n",
      "128070.SZ 智能转债 002877.SZ 智能自控 强赎： 0 收盘价： 128.76 转股溢价率： 40.71 到期收益率： -5.01 换手率： 14.72 市值 2.292 双低 169.47 申万一级 机械设备(2021) 申万二级 通用设备(2021)\n",
      "128076.SZ 金轮转债 002722.SZ 物产金轮 强赎： 0 收盘价： 124.107 转股溢价率： 25.74 到期收益率： -3.75 换手率： 5.43 市值 2.136 双低 149.847 申万一级 纺织服饰(2021) 申万二级 纺织制造(2021)\n",
      "128143.SZ 锋龙转债 002931.SZ 锋龙股份 强赎： 0 收盘价： 117.64 转股溢价率： 47.55 到期收益率： 0.67 换手率： 4.02 市值 2.44 双低 165.19 申万一级 机械设备(2021) 申万二级 通用设备(2021)\n",
      "113561.SH 正裕转债 603089.SH 正裕工业 强赎： 0 收盘价： 118.375 转股溢价率： 43.55 到期收益率： -0.78 换手率： 9.62 市值 1.499 双低 161.925 申万一级 汽车(2021) 申万二级 汽车零部件(2021)\n",
      "113565.SH 宏辉转债 603336.SH 宏辉果蔬 强赎： 0 收盘价： 115.97 转股溢价率： 37.79 到期收益率： 0.01 换手率： 3.24 市值 2.249 双低 153.76 申万一级 农林牧渔(2021) 申万二级 种植业(2021)\n",
      "128021.SZ 兄弟转债 002562.SZ 兄弟科技 强赎： 0 收盘价： 110.989 转股溢价率： 24.71 到期收益率： -8.2 换手率： 9.09 市值 2.651 双低 135.699 申万一级 基础化工(2021) 申万二级 化学制品(2021)\n",
      "118007.SH 山石转债 688030.SH 山石网科 强赎： 0 收盘价： 123.99 转股溢价率： 42.67 到期收益率： -0.65 换手率： 6.76 市值 2.673 双低 166.66 申万一级 计算机(2021) 申万二级 软件开发(2021)\n",
      "123022.SZ 长信转债 300088.SZ 长信科技 强赎： 0 收盘价： 129.8 转股溢价率： 27.88 到期收益率： -7.81 换手率： 6.87 市值 2.562 双低 157.68 申万一级 电子(2021) 申万二级 光学光电子(2021)\n"
     ]
    }
   ],
   "source": [
    "dt = DTBS['D']['day'][-1]\n",
    "# dt = '2023-04-12'\n",
    "select = list(DTBS['A'].keys())\n",
    "\n",
    "# flt_cd = [['lp', 0.5], ['dp', 110, 130], ['bl',0, 7], ['cpr',-999, 50]]\n",
    "flt_cd = [['lp', 0.5], ['dp', 100, 130], ['bl',0, 3], ['cpr', -999, 50]]\n",
    "# flt_cd = [['dp', 100, 130]]\n",
    "# flt_cd = [['dp', 100, 130], ['bl',0, 3]]\n",
    "for fcd in flt_cd:\n",
    "    select = select_condition(select, dt, fcd)\n",
    "    \n",
    "    \n",
    "rk_cd = [['lp', 10, 'a']]\n",
    "# rk_cd = [['dl', 600, 'a']]\n",
    "# rk_cd = [['dl', 10, 'a']]\n",
    "lp = rank(select, dt, rk_cd[0][0], rk_cd[0][1], rk_cd[0][2])\n",
    "len(lp)\n",
    "print(\"当前日期：\", dt)\n",
    "for r in lp:\n",
    "    print(r, DTBS['B'][r]['cn'], DTBS['B'][r]['sc'],  DTBS['B'][r]['sn'],  '强赎：' , past_qs(past_dt, r), \"收盘价：\", DTBS['A'][r][dt]['dp'],  \"转股溢价率：\", DTBS['A'][r][dt]['cpr'], \"到期收益率：\", DTBS['A'][r][dt]['ytm'],\"换手率：\", DTBS['A'][r][dt]['trt'], '市值',  DTBS['A'][r][dt]['bl'], '双低', DTBS['A'][r][dt]['dl'], '申万一级', DTBS['B'][r]['cat1'],'申万二级', DTBS['B'][r]['cat2'])"
   ]
  },
  {
   "cell_type": "code",
   "execution_count": 5,
   "metadata": {},
   "outputs": [
    {
     "data": {
      "text/plain": [
       "'2023-04-11'"
      ]
     },
     "execution_count": 5,
     "metadata": {},
     "output_type": "execute_result"
    }
   ],
   "source": [
    "dt = DTBS['D']['day'][-1]\n",
    "dt"
   ]
  },
  {
   "cell_type": "code",
   "execution_count": 6,
   "metadata": {},
   "outputs": [],
   "source": [
    "lm =  DTBS['D']['day'][-20:]"
   ]
  },
  {
   "cell_type": "code",
   "execution_count": 4,
   "metadata": {},
   "outputs": [
    {
     "data": {
      "text/plain": [
       "-0.0051796722487252546"
      ]
     },
     "execution_count": 4,
     "metadata": {},
     "output_type": "execute_result"
    }
   ],
   "source": [
    "(196.96 - 197.9855) / 197.9855"
   ]
  },
  {
   "cell_type": "code",
   "execution_count": 61,
   "metadata": {},
   "outputs": [],
   "source": [
    "\n",
    "# code = '118016.SH'\n",
    "# prc = []\n",
    "# for dt in lm:\n",
    "#     prc.append(DTBS['A'][code][dt]['dp'])\n",
    "# prc.sort()    \n",
    "# max_prc = max(prc)\n",
    "# min_prc = min(prc)\n",
    "# print(prc)\n",
    "# print(max_prc, min_prc)\n",
    "\n",
    "def get_prcs(code, dts):\n",
    "    prc = []\n",
    "    for dt in dts:\n",
    "        prc.append(DTBS['A'][code][dt]['dp'])\n",
    "    prc.sort()\n",
    "    return prc\n",
    "    \n",
    "def relative_low(lst, pos):\n",
    "    return np.quantile(a=lst, q = pos)\n",
    "    \n",
    "def absolute_low(lst, pos):\n",
    "    return min(lst) + pos * (max(lst) - min(lst))\n",
    "\n",
    "def low_prc(code, dt, lm, pos):\n",
    "    prc = get_prcs(code, lm)\n",
    "#     lp = min([relative_low(prc, pos), absolute_low(prc, pos)])\n",
    "    lp = absolute_low(prc, pos)\n",
    "    tp = DTBS['A'][code][dt]['dp']\n",
    "#     print(code, tp, lp, tp <= lp)\n",
    "#     if tp <= lp:\n",
    "#         print(tp, lp)\n",
    "    return tp <= lp"
   ]
  },
  {
   "cell_type": "code",
   "execution_count": 62,
   "metadata": {},
   "outputs": [
    {
     "ename": "SyntaxError",
     "evalue": "invalid decimal literal (3743447309.py, line 1)",
     "output_type": "error",
     "traceback": [
      "\u001b[1;36m  Cell \u001b[1;32mIn[62], line 1\u001b[1;36m\u001b[0m\n\u001b[1;33m    113600.SH\u001b[0m\n\u001b[1;37m          ^\u001b[0m\n\u001b[1;31mSyntaxError\u001b[0m\u001b[1;31m:\u001b[0m invalid decimal literal\n"
     ]
    }
   ],
   "source": [
    "113600.SH"
   ]
  },
  {
   "cell_type": "code",
   "execution_count": 63,
   "metadata": {},
   "outputs": [
    {
     "data": {
      "text/plain": [
       "3"
      ]
     },
     "execution_count": 63,
     "metadata": {},
     "output_type": "execute_result"
    }
   ],
   "source": [
    "max([1,2,3])"
   ]
  },
  {
   "cell_type": "code",
   "execution_count": 64,
   "metadata": {},
   "outputs": [
    {
     "name": "stdout",
     "output_type": "stream",
     "text": [
      "123128.SZ 102.006 100.96039999999999 False\n"
     ]
    },
    {
     "data": {
      "text/plain": [
       "False"
      ]
     },
     "execution_count": 64,
     "metadata": {},
     "output_type": "execute_result"
    }
   ],
   "source": [
    "low_prc('123128.SZ', DTBS['D']['day'][-1], DTBS['D']['day'][-20:], 0.2)\n"
   ]
  },
  {
   "cell_type": "code",
   "execution_count": 65,
   "metadata": {},
   "outputs": [
    {
     "ename": "NameError",
     "evalue": "name 'prc' is not defined",
     "output_type": "error",
     "traceback": [
      "\u001b[1;31m---------------------------------------------------------------------------\u001b[0m",
      "\u001b[1;31mNameError\u001b[0m                                 Traceback (most recent call last)",
      "Cell \u001b[1;32mIn[65], line 1\u001b[0m\n\u001b[1;32m----> 1\u001b[0m \u001b[38;5;28mprint\u001b[39m(\u001b[38;5;28mmin\u001b[39m(\u001b[43mprc\u001b[49m))\n\u001b[0;32m      2\u001b[0m \u001b[38;5;28mprint\u001b[39m(np\u001b[38;5;241m.\u001b[39mquantile(a\u001b[38;5;241m=\u001b[39mprc, q\u001b[38;5;241m=\u001b[39m\u001b[38;5;241m1\u001b[39m))\n",
      "\u001b[1;31mNameError\u001b[0m: name 'prc' is not defined"
     ]
    }
   ],
   "source": [
    "print(min(prc))\n",
    "print(np.quantile(a=prc, q=1))"
   ]
  },
  {
   "cell_type": "code",
   "execution_count": 66,
   "metadata": {},
   "outputs": [
    {
     "ename": "NameError",
     "evalue": "name 'prc' is not defined",
     "output_type": "error",
     "traceback": [
      "\u001b[1;31m---------------------------------------------------------------------------\u001b[0m",
      "\u001b[1;31mNameError\u001b[0m                                 Traceback (most recent call last)",
      "Cell \u001b[1;32mIn[66], line 1\u001b[0m\n\u001b[1;32m----> 1\u001b[0m relative_low(\u001b[43mprc\u001b[49m, \u001b[38;5;241m0.20\u001b[39m)\n\u001b[0;32m      2\u001b[0m absolute_low(prc, \u001b[38;5;241m0.20\u001b[39m)\n",
      "\u001b[1;31mNameError\u001b[0m: name 'prc' is not defined"
     ]
    }
   ],
   "source": [
    "\n",
    "\n",
    "relative_low(prc, 0.20)\n",
    "absolute_low(prc, 0.20)"
   ]
  },
  {
   "cell_type": "code",
   "execution_count": 25,
   "metadata": {},
   "outputs": [
    {
     "name": "stdout",
     "output_type": "stream",
     "text": [
      "87\n",
      "31\n",
      "['113566.SH', '123012.SZ', '123013.SZ', '123118.SZ', '128039.SZ', '113030.SH', '113574.SH', '123014.SZ', '123034.SZ', '123067.SZ', '123080.SZ', '123159.SZ', '128070.SZ', '128076.SZ', '128120.SZ', '128143.SZ', '113537.SH', '113575.SH', '123011.SZ', '123072.SZ', '127004.SZ', '128056.SZ', '128082.SZ', '113565.SH', '123018.SZ', '128021.SZ', '128025.SZ', '128053.SZ', '113573.SH', '127080.SZ', '128033.SZ']\n"
     ]
    }
   ],
   "source": [
    "lm =  DTBS['D']['day'][-22:]\n",
    "dt = DTBS['D']['day'][-1]\n",
    "pos = 0\n",
    "low_code = []\n",
    "for code in DTBS['A'].keys():\n",
    "    flag = 0\n",
    "    for odt in lm:\n",
    "        if DTBS['A'][code][odt]['ia'] == 0:\n",
    "            flag = 1\n",
    "    if flag == 0:\n",
    "        if low_prc(code, dt, lm, pos):\n",
    "            low_code.append(code)\n",
    "    \n",
    "\n",
    "print(len(low_code))\n",
    "\n",
    "lowlow = []\n",
    "for code in low_code:\n",
    "    if DTBS['A'][code][dt]['bl'] <3:\n",
    "        lowlow.append(code)\n",
    "        \n",
    "print(len(lowlow))\n",
    "print(lowlow)"
   ]
  },
  {
   "cell_type": "code",
   "execution_count": null,
   "metadata": {},
   "outputs": [],
   "source": []
  },
  {
   "cell_type": "code",
   "execution_count": 49,
   "metadata": {},
   "outputs": [
    {
     "name": "stdout",
     "output_type": "stream",
     "text": [
      "['110088.SH', '113631.SH', '123128.SZ', '113046.SH', '113535.SH', '113623.SH', '113641.SH', '118000.SH', '118005.SH', '118010.SH']\n"
     ]
    }
   ],
   "source": [
    "print(low_code)"
   ]
  },
  {
   "cell_type": "code",
   "execution_count": 30,
   "metadata": {},
   "outputs": [
    {
     "data": {
      "text/plain": [
       "117.89200000000001"
      ]
     },
     "execution_count": 30,
     "metadata": {},
     "output_type": "execute_result"
    }
   ],
   "source": [
    "DTBS['A'][code][dt]['dp']"
   ]
  },
  {
   "cell_type": "code",
   "execution_count": 40,
   "metadata": {},
   "outputs": [
    {
     "data": {
      "text/plain": [
       "119.941"
      ]
     },
     "execution_count": 40,
     "metadata": {},
     "output_type": "execute_result"
    }
   ],
   "source": [
    "DTBS['A']['113600.SH'][DTBS['D']['day'][-1]]['dp']"
   ]
  },
  {
   "cell_type": "code",
   "execution_count": 88,
   "metadata": {},
   "outputs": [
    {
     "name": "stdout",
     "output_type": "stream",
     "text": [
      "128105.SZ 106.208 106.4964 106.6056 106.4964\n"
     ]
    },
    {
     "data": {
      "text/plain": [
       "True"
      ]
     },
     "execution_count": 88,
     "metadata": {},
     "output_type": "execute_result"
    }
   ],
   "source": [
    "\n",
    "\n",
    "\n",
    "low_prc('128105.SZ', DTBS['D']['day'][-1], DTBS['D']['day'][-20:], 0.2)\n",
    "\n"
   ]
  },
  {
   "cell_type": "code",
   "execution_count": 22,
   "metadata": {},
   "outputs": [
    {
     "name": "stdout",
     "output_type": "stream",
     "text": [
      "26\n"
     ]
    }
   ],
   "source": [
    "dt = DTBS['D']['day'][-1]\n",
    "can = []\n",
    "for code in DTBS['A'].keys():\n",
    "\n",
    "    if DTBS['A'][code][dt]['ia'] == 1:\n",
    "#         print(DTBS['A'][code][dt]['bl'])\n",
    "        if DTBS['A'][code][dt]['bl'] <= 7:\n",
    "            if DTBS['A'][code][dt]['trt'] >= 2:\n",
    "                if DTBS['A'][code][dt]['trt'] <= 10:\n",
    "                    if DTBS['A'][code][dt]['ytm'] >= -1:\n",
    "                        can.append(code)\n",
    "\n",
    "print(len(can))\n",
    "re = retrieve_low_nodes(can, dt , 400)"
   ]
  },
  {
   "cell_type": "code",
   "execution_count": null,
   "metadata": {},
   "outputs": [],
   "source": [
    "%matplotlib notebook"
   ]
  }
 ],
 "metadata": {
  "kernelspec": {
   "display_name": "Python 3 (ipykernel)",
   "language": "python",
   "name": "python3"
  },
  "language_info": {
   "codemirror_mode": {
    "name": "ipython",
    "version": 3
   },
   "file_extension": ".py",
   "mimetype": "text/x-python",
   "name": "python",
   "nbconvert_exporter": "python",
   "pygments_lexer": "ipython3",
   "version": "3.10.9"
  }
 },
 "nbformat": 4,
 "nbformat_minor": 2
}
