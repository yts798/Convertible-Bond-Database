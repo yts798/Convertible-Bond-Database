{
 "cells": [
  {
   "cell_type": "code",
   "execution_count": 2,
   "metadata": {},
   "outputs": [],
   "source": [
    "# set up\n",
    "import pandas as pd\n",
    "import numpy as np\n",
    "import pickle\n",
    "import time \n",
    "import os\n",
    "import matplotlib.pyplot as plt\n",
    "import datetime\n",
    "from operator import itemgetter\n",
    "import matplotlib.pyplot as plt\n",
    "import matplotlib.ticker as ticker\n",
    "from pylab import *\n",
    "from matplotlib.font_manager import FontProperties  \n",
    "data_folder_path = 'C:\\\\Users\\\\goodluck\\\\Desktop\\\\DB'\n",
    "raw_data_path =  \"C:\\\\Users\\\\goodluck\\\\Desktop\\\\DB\\\\raw_data\"\n",
    "storage_path =  \"C:\\\\Users\\\\goodluck\\\\Desktop\\\\DB\\\\database_storage\"\n",
    "DTBS_path = os.path.join(storage_path, \"DTBS.pkl\")\n",
    "font = FontProperties(fname=r\"simsun.ttf\", size=14)  \n",
    "matplotlib.rcParams['axes.unicode_minus'] =False\n",
    "mpl.rcParams['font.sans-serif'] = ['SimHei']\n",
    "tick_spacing = 4\n",
    "\n",
    "# re-open\n",
    "with open(DTBS_path, 'rb') as f:  \n",
    "    DTBS = pickle.load(f)\n",
    "    \n",
    "def takeSecond(elem):\n",
    "    return elem[1]\n",
    "\n",
    "\n",
    "def retrieve_low_nodes(codes,dt,num):\n",
    "    dl_rank = []\n",
    "    for code in codes:\n",
    "        if DTBS['A'][code][dt]['dl'] != 999:\n",
    "            dl_rank.append((code, DTBS['A'][code][dt]['dl']))\n",
    "    \n",
    "    dl_rank.sort(key=takeSecond)\n",
    "    low = dl_rank[0:num]\n",
    "    return [i[0] for i in low]\n",
    "\n",
    "def past_qs(days, code):\n",
    "    \n",
    "    for day in days:\n",
    "            \n",
    "        if DTBS['A'][code][day]['qs'] == 1:\n",
    "            return 1\n",
    "    \n",
    "    return 0\n",
    "\n",
    "def select_condition(codes, dt, fcd):\n",
    "    satisfy = []\n",
    "    if fcd[0] == 'lp':\n",
    "        lm = calculate_time(dt, 'p', 20)\n",
    "        \n",
    "        for code in codes:\n",
    "            if low_prc(code, dt, lm, fcd[1]):\n",
    "                satisfy.append(code)\n",
    "        \n",
    "    else:\n",
    "        for code in codes:\n",
    "            if DTBS['A'][code][dt][fcd[0]] <= fcd[2] and DTBS['A'][code][dt][fcd[0]] >= fcd[1]:\n",
    "                satisfy.append(code)\n",
    "                    \n",
    "    return satisfy\n",
    "\n",
    "def rank(codes, dt, idx, num, d):\n",
    "    rk = []\n",
    "    if num == -1:\n",
    "        num = len(codes)\n",
    "    for code in codes:\n",
    "        if idx == 'lp':\n",
    "            if not np.isnan(DTBS['A'][code][dt]['dp']):\n",
    "                lm = calculate_time(dt, 'p', 20)\n",
    "                prc = get_prcs(code, lm)\n",
    "                lp = absolute_low(prc, 0)\n",
    "                rk.append((code, DTBS['A'][code][dt]['dp']/lp))\n",
    "            \n",
    "            \n",
    "        elif idx != 'dl':\n",
    "            if not np.isnan(DTBS['A'][code][dt][idx]):\n",
    "                rk.append((code, DTBS['A'][code][dt][idx]))\n",
    "        else:\n",
    "            if not np.isnan(DTBS['A'][code][dt][idx]):\n",
    "                if DTBS['A'][code][dt][idx] != 999:\n",
    "                    rk.append((code, DTBS['A'][code][dt][idx]))\n",
    "    if num >= len(rk):\n",
    "        num = len(rk)\n",
    "        \n",
    "     \n",
    "#     reverse = True 降序\n",
    "    if d == 'd':\n",
    "        rk.sort(key=takeSecond, reverse = True)\n",
    "    else:\n",
    "        rk.sort(key=takeSecond, reverse = False)\n",
    "\n",
    "    if idx == 'lp':\n",
    "        lp = [i for i in rk if i[1] == 1.0]\n",
    "        ot = []\n",
    "        if num - len(lp) > 0:\n",
    "            ot = rk[len(lp):num]\n",
    "        \n",
    "        low = lp + ot\n",
    "        \n",
    "    else:    \n",
    "        low = rk[0:num]\n",
    "#     print(\"In\",dt , len(low), \"of\", len(codes),  \"is selected\")   \n",
    "\n",
    "#     print(low)\n",
    "    \n",
    "    \n",
    "    return [i[0] for i in low]\n",
    "  \n",
    "\n",
    "def get_prcs(code, dts):\n",
    "    prc = []\n",
    "    for dt in dts:\n",
    "        prc.append(DTBS['A'][code][dt]['dp'])\n",
    "    prc.sort()\n",
    "    return prc\n",
    "    \n",
    "def relative_low(lst, pos):\n",
    "    return np.quantile(a=lst, q = pos)\n",
    "    \n",
    "def absolute_low(lst, pos):\n",
    "    return min(lst) + pos * (max(lst) - min(lst))\n",
    "\n",
    "def low_prc(code, dt, lm, pos):\n",
    "    prc = get_prcs(code, lm)\n",
    "#     lp = min([relative_low(prc, pos), absolute_low(prc, pos)])\n",
    "    lp = absolute_low(prc, pos)\n",
    "    tp = DTBS['A'][code][dt]['dp']\n",
    "#     if (tp <= lp):\n",
    "#         print(code, tp, lp)\n",
    "#     if tp <= lp:\n",
    "#         print(tp, lp)\n",
    "    return tp <= lp\n",
    "\n",
    "def calculate_time(dt, d, l):\n",
    "    time = []\n",
    "    days = DTBS['D']['day']\n",
    "    if d == 'p':\n",
    "        for i in range(len(days)):\n",
    "            if days[i] == dt:\n",
    "                break\n",
    "                \n",
    "    return days[i-l+1:i+1]\n",
    "\n",
    "past_dt = DTBS['D']['day'][-20:]"
   ]
  },
  {
   "cell_type": "code",
   "execution_count": 2,
   "metadata": {},
   "outputs": [
    {
     "name": "stdout",
     "output_type": "stream",
     "text": [
      "2023-05-22\n"
     ]
    }
   ],
   "source": [
    "dt = DTBS['D']['day'][-1]\n",
    "print(dt)\n",
    "dt = DTBS['D']['day'][-1]\n",
    "past_dt = DTBS['D']['day'][-20:]\n",
    "re = retrieve_low_nodes(DTBS['A'].keys(), dt , 400)\n"
   ]
  },
  {
   "cell_type": "code",
   "execution_count": 6,
   "metadata": {},
   "outputs": [],
   "source": [
    "# # save\n",
    "# f_save = open(DTBS_path, 'wb')\n",
    "# pickle.dump(DTBS, f_save)\n",
    "# f_save.close()\n"
   ]
  },
  {
   "cell_type": "code",
   "execution_count": 7,
   "metadata": {},
   "outputs": [
    {
     "name": "stdout",
     "output_type": "stream",
     "text": [
      "{'cpr': 1.09, 'dp': 133.001, 'dl': 134.091, 'ytm': -4.57, 'bl': 17.672, 'trt': 9.77, 'yl': 3.548, 'csp': 6.21, 'ia': 1, 'qs': 0, 'xx': 0, 'hs': 0, 'csv': 131.5619967793881, 'cz': 101.0871, 'pd': 0.30147166927716884}\n",
      "{'cn': '洪城转债', 'ipo': '2020-12-17', 'sc': '600461.SH', 'sn': '洪城环境', 'cat1': '环保(2021)', 'cat2': '环境治理(2021)', 'dld': '2046-01-01'}\n",
      "{'cl': 8.17, 'pb': 1.2}\n"
     ]
    }
   ],
   "source": [
    "\n",
    "print(DTBS['A']['110077.SH']['2023-05-04'])\n",
    "print(DTBS['B']['110077.SH'])\n",
    "print(DTBS['E'][DTBS['B']['110077.SH']['sc']]['2023-05-04'])\n",
    "\n"
   ]
  },
  {
   "cell_type": "code",
   "execution_count": 8,
   "metadata": {},
   "outputs": [
    {
     "data": {
      "text/plain": [
       "8.073"
      ]
     },
     "execution_count": 8,
     "metadata": {},
     "output_type": "execute_result"
    }
   ],
   "source": [
    "6.21 * 1.3"
   ]
  },
  {
   "cell_type": "code",
   "execution_count": null,
   "metadata": {},
   "outputs": [],
   "source": []
  },
  {
   "cell_type": "code",
   "execution_count": 4,
   "metadata": {
    "scrolled": false
   },
   "outputs": [
    {
     "name": "stdout",
     "output_type": "stream",
     "text": [
      "498\n",
      "当前日期： 2023-06-02\n",
      "128034.SZ 江银转债 002807.SZ 江阴银行 强赎： 0 收盘价： 110.79 转股溢价率： 14.38 到期收益率： -6.63 换手率： 1.36 市值 17.579 双低 125.17 申万一级 银行(2021) 申万二级 农商行Ⅱ(2021)\n",
      "110043.SH 无锡转债 600908.SH 无锡银行 强赎： 0 收盘价： 112.415 转股溢价率： 15.07 到期收益率： -8.61 换手率： 0.73 市值 29.213 双低 127.48500000000001 申万一级 银行(2021) 申万二级 农商行Ⅱ(2021)\n",
      "110053.SH 苏银转债 600919.SH 江苏银行 强赎： 1 收盘价： 127.217 转股溢价率： 1.54 到期收益率： -5.84 换手率： 1.01 市值 161.511 双低 128.757 申万一级 银行(2021) 申万二级 城商行Ⅱ(2021)\n",
      "113021.SH 中信转债 601998.SH 中信银行 强赎： 0 收盘价： 117.907 转股溢价率： 15.04 到期收益率： -1.84 换手率： 0.25 市值 397.92 双低 132.947 申万一级 银行(2021) 申万二级 股份制银行Ⅱ(2021)\n",
      "128048.SZ 张行转债 002839.SZ 张家港行 强赎： 0 收盘价： 117.129 转股溢价率： 17.4 到期收益率： -3.8 换手率： 1.41 市值 24.97 双低 134.529 申万一级 银行(2021) 申万二级 农商行Ⅱ(2021)\n",
      "113056.SH 重银转债 601963.SH 重庆银行 强赎： 0 收盘价： 101.488 转股溢价率： 33.96 到期收益率： 2.8 换手率： 0.67 市值 129.995 双低 135.448 申万一级 银行(2021) 申万二级 城商行Ⅱ(2021)\n",
      "127032.SZ 苏行转债 002966.SZ 苏州银行 强赎： 0 收盘价： 120.169 转股溢价率： 18.77 到期收益率： -1.27 换手率： 0.99 市值 49.995 双低 138.939 申万一级 银行(2021) 申万二级 城商行Ⅱ(2021)\n",
      "113065.SH 齐鲁转债 601665.SH 齐鲁银行 强赎： 0 收盘价： 99.988 转股溢价率： 39.2 到期收益率： 2.56 换手率： 1.46 市值 80.0 双低 139.188 申万一级 银行(2021) 申万二级 城商行Ⅱ(2021)\n",
      "110079.SH 杭银转债 600926.SH 杭州银行 强赎： 0 收盘价： 116.401 转股溢价率： 23.23 到期收益率： -1.07 换手率： 1.0 市值 149.985 双低 139.631 申万一级 银行(2021) 申万二级 城商行Ⅱ(2021)\n",
      "113516.SH 苏农转债 603323.SH 苏农银行 强赎： 0 收盘价： 113.058 转股溢价率： 28.33 到期收益率： -0.97 换手率： 1.01 市值 12.885 双低 141.388 申万一级 银行(2021) 申万二级 农商行Ⅱ(2021)\n",
      "113050.SH 南银转债 601009.SH 南京银行 强赎： 0 收盘价： 114.33 转股溢价率： 28.01 到期收益率： -0.74 换手率： 0.55 市值 166.16 双低 142.34 申万一级 银行(2021) 申万二级 城商行Ⅱ(2021)\n",
      "113062.SH 常银转债 601128.SH 常熟银行 强赎： 0 收盘价： 115.6 转股溢价率： 32.49 到期收益率： -0.84 换手率： 0.22 市值 59.998 双低 148.09 申万一级 银行(2021) 申万二级 农商行Ⅱ(2021)\n",
      "113055.SH 成银转债 601838.SH 成都银行 强赎： 0 收盘价： 119.674 转股溢价率： 30.98 到期收益率： -1.59 换手率： 0.52 市值 51.968 双低 150.654 申万一级 银行(2021) 申万二级 城商行Ⅱ(2021)\n",
      "113052.SH 兴业转债 601166.SH 兴业银行 强赎： 0 收盘价： 103.046 转股溢价率： 51.05 到期收益率： 2.32 换手率： 0.26 市值 499.981 双低 154.096 申万一级 银行(2021) 申万二级 股份制银行Ⅱ(2021)\n",
      "128129.SZ 青农转债 002958.SZ 青农商行 强赎： 0 收盘价： 102.252 转股溢价率： 55.22 到期收益率： 2.8 换手率： 1.11 市值 49.997 双低 157.47199999999998 申万一级 银行(2021) 申万二级 农商行Ⅱ(2021)\n",
      "113037.SH 紫银转债 601860.SH 紫金银行 强赎： 0 收盘价： 104.744 转股溢价率： 56.72 到期收益率： 3.1 换手率： 0.36 市值 44.995 双低 161.464 申万一级 银行(2021) 申万二级 农商行Ⅱ(2021)\n",
      "113042.SH 上银转债 601229.SH 上海银行 强赎： 0 收盘价： 107.948 转股溢价率： 77.83 到期收益率： 2.99 换手率： 0.33 市值 199.98 双低 185.778 申万一级 银行(2021) 申万二级 城商行Ⅱ(2021)\n",
      "110059.SH 浦发转债 600000.SH 浦发银行 强赎： 0 收盘价： 107.681 转股溢价率： 98.66 到期收益率： 2.97 换手率： 0.22 市值 499.986 双低 206.341 申万一级 银行(2021) 申万二级 股份制银行Ⅱ(2021)\n"
     ]
    }
   ],
   "source": [
    "dt = DTBS['D']['day'][-1]\n",
    "# dt = '2023-01-30'\n",
    "# dt = '2023-04-12'\n",
    "select = list(DTBS['A'].keys())\n",
    "past_dt = DTBS['D']['day'][-40:]\n",
    "\n",
    "# flt_cd = [['lp', 0.5], ['dp', 110, 130], ['bl',0, 7], ['cpr',-999, 50]]\n",
    "\n",
    "flt_cd = [['dp', 100, 130]]\n",
    "\n",
    "flt_cd = [['dp', 100, 130], ['bl',0, 3]]\n",
    "flt_cd = [['lp', 0.5], ['dp', 100, 130], ['bl',0, 3], ['cpr', -999, 50]]\n",
    "flt_cd = [['dp', 100, 130], ['bl',0, 7], ['trt', 2, 10], ['ytm', -1, 9999]]\n",
    "flt_cd = [['dp', 100, 130], ['bl',0, 7], ['trt', 2, 10], ['ytm', 0.5, 9999]]\n",
    "\n",
    "flt_cd = []\n",
    "flt_cd = [['lp', 0.5], ['dp', 100, 130], ['bl',0, 3], ['cpr', -999, 50]]\n",
    "flt_cd = []\n",
    "for fcd in flt_cd:\n",
    "    select = select_condition(select, dt, fcd)\n",
    "    \n",
    "    \n",
    "# rk_cd = [['lp', 10, 'a']]\n",
    "rk_cd = [['dl', 600, 'a']]\n",
    "rk_cd = [['ytm', 20, 'd']]\n",
    "rk_cd = [['dl', 20, 'a']]\n",
    "    \n",
    "\n",
    "rk_cd = [['dl', 400, 'a']]\n",
    "rk_cd = [['lp', 20, 'a']]\n",
    "rk_cd = [['dl', 500, 'a']]\n",
    "lp = rank(select, dt, rk_cd[0][0], rk_cd[0][1], rk_cd[0][2])\n",
    "print(len(lp))\n",
    "print(\"当前日期：\", dt)\n",
    "for r in lp:\n",
    "    if  DTBS['B'][r]['cat1'] == '银行(2021)':\n",
    "        print(r, DTBS['B'][r]['cn'], DTBS['B'][r]['sc'],  DTBS['B'][r]['sn'],  '强赎：' , past_qs(past_dt, r), \"收盘价：\", DTBS['A'][r][dt]['dp'],  \"转股溢价率：\", DTBS['A'][r][dt]['cpr'], \"到期收益率：\", DTBS['A'][r][dt]['ytm'],\"换手率：\", DTBS['A'][r][dt]['trt'], '市值',  DTBS['A'][r][dt]['bl'], '双低', DTBS['A'][r][dt]['dl'], '申万一级', DTBS['B'][r]['cat1'],'申万二级', DTBS['B'][r]['cat2'])"
   ]
  },
  {
   "cell_type": "code",
   "execution_count": 3,
   "metadata": {},
   "outputs": [
    {
     "name": "stdout",
     "output_type": "stream",
     "text": [
      "当前日期： 2023-06-02\n",
      "113595.SH 花王转债 603007.SH ST花王 强赎： 0 收盘价： 103.175 转股溢价率： 14.7 到期收益率： 6.19 换手率： 13.9 市值 2.707 双低 117.875 申万一级 建筑装饰(2021) 申万二级 基础建设(2021)\n",
      "113566.SH 翔港转债 603499.SH 翔港科技 强赎： 0 收盘价： 120.005 转股溢价率： 42.97 到期收益率： 0.61 换手率： 3.48 市值 1.613 双低 162.975 申万一级 轻工制造(2021) 申万二级 包装印刷(2021)\n",
      "128021.SZ 兄弟转债 002562.SZ 兄弟科技 强赎： 0 收盘价： 110.909 转股溢价率： 33.46 到期收益率： -9.03 换手率： 3.48 市值 2.651 双低 144.369 申万一级 基础化工(2021) 申万二级 化学制品(2021)\n",
      "110070.SH 凌钢转债 600231.SH 凌钢股份 强赎： 0 收盘价： 116.635 转股溢价率： 36.69 到期收益率： -0.32 换手率： 4.56 市值 2.17 双低 153.325 申万一级 钢铁(2021) 申万二级 普钢(2021)\n",
      "113526.SH 联泰转债 603797.SH 联泰环保 强赎： 0 收盘价： 125.814 转股溢价率： 28.74 到期收益率： -9.06 换手率： 4.86 市值 1.927 双低 154.554 申万一级 环保(2021) 申万二级 环境治理(2021)\n",
      "123136.SZ 城市转债 300778.SZ 新城市 强赎： 1 收盘价： 129.4 转股溢价率： 1.93 到期收益率： nan 换手率： 210.66 市值 1.825 双低 131.33 申万一级 建筑装饰(2021) 申万二级 工程咨询服务Ⅱ(2021)\n"
     ]
    }
   ],
   "source": [
    "dt = DTBS['D']['day'][-1]\n",
    "# dt = '2023-04-12'\n",
    "select = list(DTBS['A'].keys())\n",
    "\n",
    "# flt_cd = [['lp', 0.5], ['dp', 110, 130], ['bl',0, 7], ['cpr',-999, 50]]\n",
    "flt_cd = [['lp', 0.5], ['dp', 100, 130], ['bl',0, 3], ['cpr', -999, 50]]\n",
    "# flt_cd = [['dp', 100, 130]]\n",
    "# flt_cd = [['dp', 100, 130], ['bl',0, 3]]\n",
    "for fcd in flt_cd:\n",
    "    select = select_condition(select, dt, fcd)\n",
    "    \n",
    "    \n",
    "rk_cd = [['lp', 10, 'a']]\n",
    "# rk_cd = [['dl', 600, 'a']]\n",
    "# rk_cd = [['dl', 10, 'a']]\n",
    "lp = rank(select, dt, rk_cd[0][0], rk_cd[0][1], rk_cd[0][2])\n",
    "len(lp)\n",
    "print(\"当前日期：\", dt)\n",
    "for r in lp:\n",
    "    print(r, DTBS['B'][r]['cn'], DTBS['B'][r]['sc'],  DTBS['B'][r]['sn'],  '强赎：' , past_qs(past_dt, r), \"收盘价：\", DTBS['A'][r][dt]['dp'],  \"转股溢价率：\", DTBS['A'][r][dt]['cpr'], \"到期收益率：\", DTBS['A'][r][dt]['ytm'],\"换手率：\", DTBS['A'][r][dt]['trt'], '市值',  DTBS['A'][r][dt]['bl'], '双低', DTBS['A'][r][dt]['dl'], '申万一级', DTBS['B'][r]['cat1'],'申万二级', DTBS['B'][r]['cat2'])"
   ]
  },
  {
   "cell_type": "code",
   "execution_count": 5,
   "metadata": {},
   "outputs": [
    {
     "data": {
      "text/plain": [
       "'2023-04-11'"
      ]
     },
     "execution_count": 5,
     "metadata": {},
     "output_type": "execute_result"
    }
   ],
   "source": [
    "dt = DTBS['D']['day'][-1]\n",
    "dt"
   ]
  },
  {
   "cell_type": "code",
   "execution_count": 6,
   "metadata": {},
   "outputs": [],
   "source": [
    "lm =  DTBS['D']['day'][-20:]"
   ]
  },
  {
   "cell_type": "code",
   "execution_count": 4,
   "metadata": {},
   "outputs": [
    {
     "data": {
      "text/plain": [
       "-0.0051796722487252546"
      ]
     },
     "execution_count": 4,
     "metadata": {},
     "output_type": "execute_result"
    }
   ],
   "source": [
    "(196.96 - 197.9855) / 197.9855"
   ]
  },
  {
   "cell_type": "code",
   "execution_count": 61,
   "metadata": {},
   "outputs": [],
   "source": [
    "\n",
    "# code = '118016.SH'\n",
    "# prc = []\n",
    "# for dt in lm:\n",
    "#     prc.append(DTBS['A'][code][dt]['dp'])\n",
    "# prc.sort()    \n",
    "# max_prc = max(prc)\n",
    "# min_prc = min(prc)\n",
    "# print(prc)\n",
    "# print(max_prc, min_prc)\n",
    "\n",
    "def get_prcs(code, dts):\n",
    "    prc = []\n",
    "    for dt in dts:\n",
    "        prc.append(DTBS['A'][code][dt]['dp'])\n",
    "    prc.sort()\n",
    "    return prc\n",
    "    \n",
    "def relative_low(lst, pos):\n",
    "    return np.quantile(a=lst, q = pos)\n",
    "    \n",
    "def absolute_low(lst, pos):\n",
    "    return min(lst) + pos * (max(lst) - min(lst))\n",
    "\n",
    "def low_prc(code, dt, lm, pos):\n",
    "    prc = get_prcs(code, lm)\n",
    "#     lp = min([relative_low(prc, pos), absolute_low(prc, pos)])\n",
    "    lp = absolute_low(prc, pos)\n",
    "    tp = DTBS['A'][code][dt]['dp']\n",
    "#     print(code, tp, lp, tp <= lp)\n",
    "#     if tp <= lp:\n",
    "#         print(tp, lp)\n",
    "    return tp <= lp"
   ]
  },
  {
   "cell_type": "code",
   "execution_count": 62,
   "metadata": {},
   "outputs": [
    {
     "ename": "SyntaxError",
     "evalue": "invalid decimal literal (3743447309.py, line 1)",
     "output_type": "error",
     "traceback": [
      "\u001b[1;36m  Cell \u001b[1;32mIn[62], line 1\u001b[1;36m\u001b[0m\n\u001b[1;33m    113600.SH\u001b[0m\n\u001b[1;37m          ^\u001b[0m\n\u001b[1;31mSyntaxError\u001b[0m\u001b[1;31m:\u001b[0m invalid decimal literal\n"
     ]
    }
   ],
   "source": [
    "113600.SH"
   ]
  },
  {
   "cell_type": "code",
   "execution_count": 63,
   "metadata": {},
   "outputs": [
    {
     "data": {
      "text/plain": [
       "3"
      ]
     },
     "execution_count": 63,
     "metadata": {},
     "output_type": "execute_result"
    }
   ],
   "source": [
    "max([1,2,3])"
   ]
  },
  {
   "cell_type": "code",
   "execution_count": 64,
   "metadata": {},
   "outputs": [
    {
     "name": "stdout",
     "output_type": "stream",
     "text": [
      "123128.SZ 102.006 100.96039999999999 False\n"
     ]
    },
    {
     "data": {
      "text/plain": [
       "False"
      ]
     },
     "execution_count": 64,
     "metadata": {},
     "output_type": "execute_result"
    }
   ],
   "source": [
    "low_prc('123128.SZ', DTBS['D']['day'][-1], DTBS['D']['day'][-20:], 0.2)\n"
   ]
  },
  {
   "cell_type": "code",
   "execution_count": 65,
   "metadata": {},
   "outputs": [
    {
     "ename": "NameError",
     "evalue": "name 'prc' is not defined",
     "output_type": "error",
     "traceback": [
      "\u001b[1;31m---------------------------------------------------------------------------\u001b[0m",
      "\u001b[1;31mNameError\u001b[0m                                 Traceback (most recent call last)",
      "Cell \u001b[1;32mIn[65], line 1\u001b[0m\n\u001b[1;32m----> 1\u001b[0m \u001b[38;5;28mprint\u001b[39m(\u001b[38;5;28mmin\u001b[39m(\u001b[43mprc\u001b[49m))\n\u001b[0;32m      2\u001b[0m \u001b[38;5;28mprint\u001b[39m(np\u001b[38;5;241m.\u001b[39mquantile(a\u001b[38;5;241m=\u001b[39mprc, q\u001b[38;5;241m=\u001b[39m\u001b[38;5;241m1\u001b[39m))\n",
      "\u001b[1;31mNameError\u001b[0m: name 'prc' is not defined"
     ]
    }
   ],
   "source": [
    "print(min(prc))\n",
    "print(np.quantile(a=prc, q=1))"
   ]
  },
  {
   "cell_type": "code",
   "execution_count": 66,
   "metadata": {},
   "outputs": [
    {
     "ename": "NameError",
     "evalue": "name 'prc' is not defined",
     "output_type": "error",
     "traceback": [
      "\u001b[1;31m---------------------------------------------------------------------------\u001b[0m",
      "\u001b[1;31mNameError\u001b[0m                                 Traceback (most recent call last)",
      "Cell \u001b[1;32mIn[66], line 1\u001b[0m\n\u001b[1;32m----> 1\u001b[0m relative_low(\u001b[43mprc\u001b[49m, \u001b[38;5;241m0.20\u001b[39m)\n\u001b[0;32m      2\u001b[0m absolute_low(prc, \u001b[38;5;241m0.20\u001b[39m)\n",
      "\u001b[1;31mNameError\u001b[0m: name 'prc' is not defined"
     ]
    }
   ],
   "source": [
    "\n",
    "\n",
    "relative_low(prc, 0.20)\n",
    "absolute_low(prc, 0.20)"
   ]
  },
  {
   "cell_type": "code",
   "execution_count": 25,
   "metadata": {},
   "outputs": [
    {
     "name": "stdout",
     "output_type": "stream",
     "text": [
      "87\n",
      "31\n",
      "['113566.SH', '123012.SZ', '123013.SZ', '123118.SZ', '128039.SZ', '113030.SH', '113574.SH', '123014.SZ', '123034.SZ', '123067.SZ', '123080.SZ', '123159.SZ', '128070.SZ', '128076.SZ', '128120.SZ', '128143.SZ', '113537.SH', '113575.SH', '123011.SZ', '123072.SZ', '127004.SZ', '128056.SZ', '128082.SZ', '113565.SH', '123018.SZ', '128021.SZ', '128025.SZ', '128053.SZ', '113573.SH', '127080.SZ', '128033.SZ']\n"
     ]
    }
   ],
   "source": [
    "lm =  DTBS['D']['day'][-22:]\n",
    "dt = DTBS['D']['day'][-1]\n",
    "pos = 0\n",
    "low_code = []\n",
    "for code in DTBS['A'].keys():\n",
    "    flag = 0\n",
    "    for odt in lm:\n",
    "        if DTBS['A'][code][odt]['ia'] == 0:\n",
    "            flag = 1\n",
    "    if flag == 0:\n",
    "        if low_prc(code, dt, lm, pos):\n",
    "            low_code.append(code)\n",
    "    \n",
    "\n",
    "print(len(low_code))\n",
    "\n",
    "lowlow = []\n",
    "for code in low_code:\n",
    "    if DTBS['A'][code][dt]['bl'] <3:\n",
    "        lowlow.append(code)\n",
    "        \n",
    "print(len(lowlow))\n",
    "print(lowlow)"
   ]
  },
  {
   "cell_type": "code",
   "execution_count": null,
   "metadata": {},
   "outputs": [],
   "source": []
  },
  {
   "cell_type": "code",
   "execution_count": 49,
   "metadata": {},
   "outputs": [
    {
     "name": "stdout",
     "output_type": "stream",
     "text": [
      "['110088.SH', '113631.SH', '123128.SZ', '113046.SH', '113535.SH', '113623.SH', '113641.SH', '118000.SH', '118005.SH', '118010.SH']\n"
     ]
    }
   ],
   "source": [
    "print(low_code)"
   ]
  },
  {
   "cell_type": "code",
   "execution_count": 30,
   "metadata": {},
   "outputs": [
    {
     "data": {
      "text/plain": [
       "117.89200000000001"
      ]
     },
     "execution_count": 30,
     "metadata": {},
     "output_type": "execute_result"
    }
   ],
   "source": [
    "DTBS['A'][code][dt]['dp']"
   ]
  },
  {
   "cell_type": "code",
   "execution_count": 40,
   "metadata": {},
   "outputs": [
    {
     "data": {
      "text/plain": [
       "119.941"
      ]
     },
     "execution_count": 40,
     "metadata": {},
     "output_type": "execute_result"
    }
   ],
   "source": [
    "DTBS['A']['113600.SH'][DTBS['D']['day'][-1]]['dp']"
   ]
  },
  {
   "cell_type": "code",
   "execution_count": 88,
   "metadata": {},
   "outputs": [
    {
     "name": "stdout",
     "output_type": "stream",
     "text": [
      "128105.SZ 106.208 106.4964 106.6056 106.4964\n"
     ]
    },
    {
     "data": {
      "text/plain": [
       "True"
      ]
     },
     "execution_count": 88,
     "metadata": {},
     "output_type": "execute_result"
    }
   ],
   "source": [
    "\n",
    "\n",
    "\n",
    "low_prc('128105.SZ', DTBS['D']['day'][-1], DTBS['D']['day'][-20:], 0.2)\n",
    "\n"
   ]
  },
  {
   "cell_type": "code",
   "execution_count": 22,
   "metadata": {},
   "outputs": [
    {
     "name": "stdout",
     "output_type": "stream",
     "text": [
      "26\n"
     ]
    }
   ],
   "source": [
    "dt = DTBS['D']['day'][-1]\n",
    "can = []\n",
    "for code in DTBS['A'].keys():\n",
    "\n",
    "    if DTBS['A'][code][dt]['ia'] == 1:\n",
    "#         print(DTBS['A'][code][dt]['bl'])\n",
    "        if DTBS['A'][code][dt]['bl'] <= 7:\n",
    "            if DTBS['A'][code][dt]['trt'] >= 2:\n",
    "                if DTBS['A'][code][dt]['trt'] <= 10:\n",
    "                    if DTBS['A'][code][dt]['ytm'] >= -1:\n",
    "                        can.append(code)\n",
    "\n",
    "print(len(can))\n",
    "re = retrieve_low_nodes(can, dt , 400)"
   ]
  },
  {
   "cell_type": "code",
   "execution_count": null,
   "metadata": {},
   "outputs": [],
   "source": [
    "%matplotlib notebook"
   ]
  }
 ],
 "metadata": {
  "kernelspec": {
   "display_name": "Python 3 (ipykernel)",
   "language": "python",
   "name": "python3"
  },
  "language_info": {
   "codemirror_mode": {
    "name": "ipython",
    "version": 3
   },
   "file_extension": ".py",
   "mimetype": "text/x-python",
   "name": "python",
   "nbconvert_exporter": "python",
   "pygments_lexer": "ipython3",
   "version": "3.10.9"
  }
 },
 "nbformat": 4,
 "nbformat_minor": 2
}
