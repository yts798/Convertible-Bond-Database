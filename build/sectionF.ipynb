{
 "cells": [
  {
   "cell_type": "code",
   "execution_count": null,
   "id": "04338ad4",
   "metadata": {},
   "outputs": [],
   "source": [
    "# set up\n",
    "import pandas as pd\n",
    "import numpy as np\n",
    "import pickle\n",
    "import time \n",
    "import os\n",
    "from datetime import datetime\n",
    "from operator import itemgetter\n",
    "data_folder_path = 'C:\\\\Users\\\\goodluck\\\\Desktop\\\\DB'\n",
    "raw_data_path =  \"C:\\\\Users\\\\goodluck\\\\Desktop\\\\DB\\\\raw_data\"\n",
    "storage_path =  \"C:\\\\Users\\\\goodluck\\\\Desktop\\\\DB\\\\database_storage\"\n",
    "DTBS_path = os.path.join(storage_path, \"DTBS.pkl\")\n",
    "with open(DTBS_path, 'rb') as f:  \n",
    "    DTBS = pickle.load(f)\n",
    "    \n",
    "    "
   ]
  },
  {
   "cell_type": "code",
   "execution_count": null,
   "id": "c29b93ed",
   "metadata": {},
   "outputs": [],
   "source": [
    "hb_path =  os.path.join(raw_data_path, \"hbzj.CSV\")\n",
    "hb_df = pd.read_csv(hb_path)\n",
    "hb_df.set_index('Date',inplace=True)\n",
    "hb_df\n",
    "hb_df.info()"
   ]
  },
  {
   "cell_type": "code",
   "execution_count": null,
   "id": "7f27dd9e",
   "metadata": {},
   "outputs": [],
   "source": [
    "for x in hb_df.index:\n",
    "    for y in hb_df.columns:\n",
    "        e = hb_df[y][x]\n",
    "        if not isinstance(e,float):\n",
    "            hb_df[y][x] = float(e.replace(\",\",\"\"))\n",
    "#             print(y,x)\n",
    "hb_df"
   ]
  },
  {
   "cell_type": "code",
   "execution_count": null,
   "id": "4327389d",
   "metadata": {},
   "outputs": [],
   "source": [
    "# hb_df.replace(0,np.nan,inplace=True)\n",
    "# hb_df.fillna(method = 'bfill', inplace = True)\n",
    "# hb_df.replace(np.nan,0,inplace=True)"
   ]
  },
  {
   "cell_type": "code",
   "execution_count": null,
   "id": "254aa35f",
   "metadata": {},
   "outputs": [],
   "source": [
    "for x in hb_df.index:\n",
    "    xd = x.replace(\"/\",\"-\")\n",
    "    if xd[5] == '1':\n",
    "        \n",
    "        newxd = xd[:7]\n",
    "    else:\n",
    "        newxd = xd[:5] + '0'+ xd[5]\n",
    "    print(newxd)"
   ]
  },
  {
   "cell_type": "code",
   "execution_count": null,
   "id": "31d8ab31",
   "metadata": {},
   "outputs": [],
   "source": [
    "#存的代码弄丢了 不过很简单，按照code+季度时间存的"
   ]
  }
 ],
 "metadata": {
  "kernelspec": {
   "display_name": "Python 3 (ipykernel)",
   "language": "python",
   "name": "python3"
  },
  "language_info": {
   "codemirror_mode": {
    "name": "ipython",
    "version": 3
   },
   "file_extension": ".py",
   "mimetype": "text/x-python",
   "name": "python",
   "nbconvert_exporter": "python",
   "pygments_lexer": "ipython3",
   "version": "3.10.9"
  }
 },
 "nbformat": 4,
 "nbformat_minor": 5
}
