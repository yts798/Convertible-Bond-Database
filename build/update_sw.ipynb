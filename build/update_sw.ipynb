{
 "cells": [
  {
   "cell_type": "code",
   "execution_count": null,
   "id": "3715d6ff",
   "metadata": {},
   "outputs": [],
   "source": []
  },
  {
   "cell_type": "code",
   "execution_count": null,
   "id": "f44f5128",
   "metadata": {},
   "outputs": [],
   "source": [
    "sw_path =  os.path.join(raw_data_path, \"binfo.CSV\")\n",
    "\n",
    "sw_df = pd.read_csv(sw_path, encoding=\"python\")\n",
    "sw_df.set_index('Date',inplace=True)\n",
    "sw_df"
   ]
  },
  {
   "cell_type": "code",
   "execution_count": null,
   "id": "8c629aef",
   "metadata": {},
   "outputs": [],
   "source": []
  }
 ],
 "metadata": {
  "kernelspec": {
   "display_name": "Python 3 (ipykernel)",
   "language": "python",
   "name": "python3"
  },
  "language_info": {
   "codemirror_mode": {
    "name": "ipython",
    "version": 3
   },
   "file_extension": ".py",
   "mimetype": "text/x-python",
   "name": "python",
   "nbconvert_exporter": "python",
   "pygments_lexer": "ipython3",
   "version": "3.10.9"
  }
 },
 "nbformat": 4,
 "nbformat_minor": 5
}
