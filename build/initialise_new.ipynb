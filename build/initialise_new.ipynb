{
 "cells": [
  {
   "cell_type": "code",
   "execution_count": 3,
   "id": "f0228f3d",
   "metadata": {},
   "outputs": [],
   "source": [
    "import pandas as pd\n",
    "import numpy as np\n",
    "import pickle\n",
    "import time \n",
    "import os\n",
    "from datetime import datetime\n",
    "from operator import itemgetter\n",
    "data_folder_path = 'C:\\\\Users\\\\goodluck\\\\Desktop\\\\DB'\n",
    "raw_data_path =  \"C:\\\\Users\\\\goodluck\\\\Desktop\\\\DB\\\\raw_data\"\n",
    "storage_path =  \"C:\\\\Users\\\\goodluck\\\\Desktop\\\\DB\\\\database_storage\"\n",
    "daily_path =  \"C:\\\\Users\\\\goodluck\\\\Desktop\\\\DB\\\\daily\"\n",
    "DCBS_path = os.path.join(storage_path, \"DCBS.pkl\")"
   ]
  },
  {
   "cell_type": "code",
   "execution_count": 4,
   "id": "36586e80",
   "metadata": {},
   "outputs": [],
   "source": [
    "DCBS = dict()"
   ]
  },
  {
   "cell_type": "code",
   "execution_count": 6,
   "id": "71008a45",
   "metadata": {},
   "outputs": [],
   "source": [
    "\n",
    "f_save = open(DCBS_path, 'wb')\n",
    "pickle.dump(DCBS, f_save)\n",
    "f_save.close()\n"
   ]
  },
  {
   "cell_type": "code",
   "execution_count": null,
   "id": "b874c818",
   "metadata": {},
   "outputs": [],
   "source": [
    "for r in lp:\n",
    "    print(r, DTBS['B'][r]['cn'], DTBS['B'][r]['sc'],  DTBS['B'][r]['sn'], \"收盘价：\", DTBS['A'][r][dt]['dp'],  \"转股溢价率：\", DTBS['A'][r][dt]['cpr'], \"到期收益率：\", DTBS['A'][r][dt]['ytm'],\"换手率：\", DTBS['A'][r][dt]['trt'], '市值',  DTBS['A'][r][dt]['bl'], '双低', DTBS['A'][r][dt]['dl'])"
   ]
  }
 ],
 "metadata": {
  "kernelspec": {
   "display_name": "Python 3 (ipykernel)",
   "language": "python",
   "name": "python3"
  },
  "language_info": {
   "codemirror_mode": {
    "name": "ipython",
    "version": 3
   },
   "file_extension": ".py",
   "mimetype": "text/x-python",
   "name": "python",
   "nbconvert_exporter": "python",
   "pygments_lexer": "ipython3",
   "version": "3.10.9"
  }
 },
 "nbformat": 4,
 "nbformat_minor": 5
}
