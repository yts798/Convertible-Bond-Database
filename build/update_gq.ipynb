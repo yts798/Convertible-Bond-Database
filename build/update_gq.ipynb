{
 "cells": [
  {
   "cell_type": "code",
   "execution_count": 1,
   "id": "4c3c4228",
   "metadata": {},
   "outputs": [],
   "source": [
    "# set up\n",
    "import pandas as pd\n",
    "import numpy as np\n",
    "import pickle\n",
    "import time \n",
    "import os\n",
    "from datetime import datetime\n",
    "from operator import itemgetter\n",
    "data_folder_path = 'C:\\\\Users\\\\goodluck\\\\Desktop\\\\DB'\n",
    "raw_data_path =  \"C:\\\\Users\\\\goodluck\\\\Desktop\\\\DB\\\\raw_data\"\n",
    "storage_path =  \"C:\\\\Users\\\\goodluck\\\\Desktop\\\\DB\\\\database_storage\"\n",
    "DTBS_path = os.path.join(storage_path, \"DTBS.pkl\")\n",
    "with open(DTBS_path, 'rb') as f:  \n",
    "    DTBS = pickle.load(f)\n",
    "    "
   ]
  },
  {
   "cell_type": "code",
   "execution_count": 2,
   "id": "f8bd7b3b",
   "metadata": {},
   "outputs": [
    {
     "data": {
      "text/html": [
       "<div>\n",
       "<style scoped>\n",
       "    .dataframe tbody tr th:only-of-type {\n",
       "        vertical-align: middle;\n",
       "    }\n",
       "\n",
       "    .dataframe tbody tr th {\n",
       "        vertical-align: top;\n",
       "    }\n",
       "\n",
       "    .dataframe thead th {\n",
       "        text-align: right;\n",
       "    }\n",
       "</style>\n",
       "<table border=\"1\" class=\"dataframe\">\n",
       "  <thead>\n",
       "    <tr style=\"text-align: right;\">\n",
       "      <th></th>\n",
       "      <th>110088.SH</th>\n",
       "      <th>113545.SH</th>\n",
       "      <th>113631.SH</th>\n",
       "      <th>123128.SZ</th>\n",
       "      <th>123156.SZ</th>\n",
       "      <th>127027.SZ</th>\n",
       "      <th>127061.SZ</th>\n",
       "      <th>110047.SH</th>\n",
       "      <th>110063.SH</th>\n",
       "      <th>110070.SH</th>\n",
       "      <th>...</th>\n",
       "      <th>111013.SH</th>\n",
       "      <th>123195.SZ</th>\n",
       "      <th>123193.SZ</th>\n",
       "      <th>113669.SH</th>\n",
       "      <th>123192.SZ</th>\n",
       "      <th>113670.SH</th>\n",
       "      <th>118034.SH</th>\n",
       "      <th>123196.SZ</th>\n",
       "      <th>127085.SZ</th>\n",
       "      <th>123197.SZ</th>\n",
       "    </tr>\n",
       "    <tr>\n",
       "      <th>id</th>\n",
       "      <th></th>\n",
       "      <th></th>\n",
       "      <th></th>\n",
       "      <th></th>\n",
       "      <th></th>\n",
       "      <th></th>\n",
       "      <th></th>\n",
       "      <th></th>\n",
       "      <th></th>\n",
       "      <th></th>\n",
       "      <th></th>\n",
       "      <th></th>\n",
       "      <th></th>\n",
       "      <th></th>\n",
       "      <th></th>\n",
       "      <th></th>\n",
       "      <th></th>\n",
       "      <th></th>\n",
       "      <th></th>\n",
       "      <th></th>\n",
       "      <th></th>\n",
       "    </tr>\n",
       "  </thead>\n",
       "  <tbody>\n",
       "    <tr>\n",
       "      <th>name</th>\n",
       "      <td>淮北矿业(集团)有限责任公司</td>\n",
       "      <td>0</td>\n",
       "      <td>安徽省能源集团有限公司</td>\n",
       "      <td>0</td>\n",
       "      <td>0</td>\n",
       "      <td>靖远煤业集团有限责任公司</td>\n",
       "      <td>0</td>\n",
       "      <td>0</td>\n",
       "      <td>0</td>\n",
       "      <td>凌源钢铁集团有限责任公司</td>\n",
       "      <td>...</td>\n",
       "      <td>0</td>\n",
       "      <td>0</td>\n",
       "      <td>0</td>\n",
       "      <td>0</td>\n",
       "      <td>中信证券股份有限公司</td>\n",
       "      <td>0</td>\n",
       "      <td>0</td>\n",
       "      <td>0</td>\n",
       "      <td>0</td>\n",
       "      <td>0</td>\n",
       "    </tr>\n",
       "  </tbody>\n",
       "</table>\n",
       "<p>1 rows × 787 columns</p>\n",
       "</div>"
      ],
      "text/plain": [
       "           110088.SH  113545.SH    113631.SH  123128.SZ  123156.SZ  \\\n",
       "id                                                                   \n",
       "name  淮北矿业(集团)有限责任公司          0  安徽省能源集团有限公司          0          0   \n",
       "\n",
       "         127027.SZ  127061.SZ  110047.SH  110063.SH     110070.SH  ...  \\\n",
       "id                                                                 ...   \n",
       "name  靖远煤业集团有限责任公司          0          0          0  凌源钢铁集团有限责任公司  ...   \n",
       "\n",
       "     111013.SH 123195.SZ 123193.SZ 113669.SH   123192.SZ  113670.SH  \\\n",
       "id                                                                    \n",
       "name         0         0         0         0  中信证券股份有限公司          0   \n",
       "\n",
       "      118034.SH  123196.SZ  127085.SZ  123197.SZ  \n",
       "id                                                \n",
       "name          0          0          0          0  \n",
       "\n",
       "[1 rows x 787 columns]"
      ]
     },
     "execution_count": 2,
     "metadata": {},
     "output_type": "execute_result"
    }
   ],
   "source": [
    "cz_path =  os.path.join(raw_data_path, \"gq.CSV\")\n",
    "cz_df = pd.read_csv(cz_path, encoding=\"gbk\")\n",
    "cz_df.set_index('id',inplace=True)\n",
    "cz_df"
   ]
  },
  {
   "cell_type": "code",
   "execution_count": 6,
   "id": "30b68e92",
   "metadata": {},
   "outputs": [
    {
     "name": "stdout",
     "output_type": "stream",
     "text": [
      "<class 'pandas.core.frame.DataFrame'>\n",
      "Index: 1 entries, name to name\n",
      "Columns: 787 entries, 110088.SH to 123197.SZ\n",
      "dtypes: int64(487), object(300)\n",
      "memory usage: 6.3+ KB\n"
     ]
    }
   ],
   "source": [
    "cz_df.info()"
   ]
  },
  {
   "cell_type": "code",
   "execution_count": 5,
   "id": "d7da59b3",
   "metadata": {
    "scrolled": false
   },
   "outputs": [],
   "source": [
    "for code in cz_df.columns:\n",
    "    if cz_df[code]['name'] != 0:\n",
    "#         print(cz_df[code]['name'])\n",
    "        DTBS['B'][code]['gq'] = 1\n",
    "    else:\n",
    "        DTBS['B'][code]['gq'] = 0"
   ]
  },
  {
   "cell_type": "code",
   "execution_count": 11,
   "id": "d96ac27f",
   "metadata": {},
   "outputs": [
    {
     "data": {
      "text/html": [
       "<div>\n",
       "<style scoped>\n",
       "    .dataframe tbody tr th:only-of-type {\n",
       "        vertical-align: middle;\n",
       "    }\n",
       "\n",
       "    .dataframe tbody tr th {\n",
       "        vertical-align: top;\n",
       "    }\n",
       "\n",
       "    .dataframe thead th {\n",
       "        text-align: right;\n",
       "    }\n",
       "</style>\n",
       "<table border=\"1\" class=\"dataframe\">\n",
       "  <thead>\n",
       "    <tr style=\"text-align: right;\">\n",
       "      <th></th>\n",
       "      <th>600985.SH</th>\n",
       "      <th>603113.SH</th>\n",
       "      <th>603689.SH</th>\n",
       "      <th>300483.SZ</th>\n",
       "      <th>300839.SZ</th>\n",
       "      <th>000552.SZ</th>\n",
       "      <th>000723.SZ</th>\n",
       "      <th>600567.SH</th>\n",
       "      <th>600567.SH.1</th>\n",
       "      <th>600231.SH</th>\n",
       "      <th>...</th>\n",
       "      <th>605162.SH</th>\n",
       "      <th>300487.SZ.1</th>\n",
       "      <th>300787.SZ</th>\n",
       "      <th>603228.SH.2</th>\n",
       "      <th>300856.SZ</th>\n",
       "      <th>603180.SH.1</th>\n",
       "      <th>688223.SH</th>\n",
       "      <th>300645.SZ.1</th>\n",
       "      <th>002120.SZ</th>\n",
       "      <th>300480.SZ</th>\n",
       "    </tr>\n",
       "    <tr>\n",
       "      <th>Date</th>\n",
       "      <th></th>\n",
       "      <th></th>\n",
       "      <th></th>\n",
       "      <th></th>\n",
       "      <th></th>\n",
       "      <th></th>\n",
       "      <th></th>\n",
       "      <th></th>\n",
       "      <th></th>\n",
       "      <th></th>\n",
       "      <th></th>\n",
       "      <th></th>\n",
       "      <th></th>\n",
       "      <th></th>\n",
       "      <th></th>\n",
       "      <th></th>\n",
       "      <th></th>\n",
       "      <th></th>\n",
       "      <th></th>\n",
       "      <th></th>\n",
       "      <th></th>\n",
       "    </tr>\n",
       "  </thead>\n",
       "  <tbody>\n",
       "    <tr>\n",
       "      <th>2023/6/7</th>\n",
       "      <td>淮北矿业(集团)有限责任公司</td>\n",
       "      <td>秦庆平</td>\n",
       "      <td>安徽省能源集团有限公司</td>\n",
       "      <td>赣州海德投资合伙企业(有限合伙)</td>\n",
       "      <td>宁波市文魁控股集团有限公司</td>\n",
       "      <td>甘肃能源化工投资集团有限公司</td>\n",
       "      <td>美锦能源集团有限公司</td>\n",
       "      <td>福建泰盛实业有限公司</td>\n",
       "      <td>福建泰盛实业有限公司</td>\n",
       "      <td>凌源钢铁集团有限责任公司</td>\n",
       "      <td>...</td>\n",
       "      <td>浙江越盛集团有限公司</td>\n",
       "      <td>寇晓康</td>\n",
       "      <td>周洪亮</td>\n",
       "      <td>深圳市景鸿永泰投资控股有限公司</td>\n",
       "      <td>南京科思投资发展有限公司</td>\n",
       "      <td>厦门市建潘集团有限公司</td>\n",
       "      <td>晶科能源投资有限公司</td>\n",
       "      <td>杭州正元企业管理咨询有限公司</td>\n",
       "      <td>上海罗颉思投资管理有限公司</td>\n",
       "      <td>赵彤宇</td>\n",
       "    </tr>\n",
       "  </tbody>\n",
       "</table>\n",
       "<p>1 rows × 787 columns</p>\n",
       "</div>"
      ],
      "text/plain": [
       "               600985.SH 603113.SH    603689.SH         300483.SZ  \\\n",
       "Date                                                                \n",
       "2023/6/7  淮北矿业(集团)有限责任公司       秦庆平  安徽省能源集团有限公司  赣州海德投资合伙企业(有限合伙)   \n",
       "\n",
       "              300839.SZ       000552.SZ   000723.SZ   600567.SH 600567.SH.1  \\\n",
       "Date                                                                          \n",
       "2023/6/7  宁波市文魁控股集团有限公司  甘肃能源化工投资集团有限公司  美锦能源集团有限公司  福建泰盛实业有限公司  福建泰盛实业有限公司   \n",
       "\n",
       "             600231.SH  ...   605162.SH 300487.SZ.1 300787.SZ  \\\n",
       "Date                    ...                                     \n",
       "2023/6/7  凌源钢铁集团有限责任公司  ...  浙江越盛集团有限公司         寇晓康       周洪亮   \n",
       "\n",
       "              603228.SH.2     300856.SZ  603180.SH.1   688223.SH  \\\n",
       "Date                                                               \n",
       "2023/6/7  深圳市景鸿永泰投资控股有限公司  南京科思投资发展有限公司  厦门市建潘集团有限公司  晶科能源投资有限公司   \n",
       "\n",
       "             300645.SZ.1      002120.SZ 300480.SZ  \n",
       "Date                                               \n",
       "2023/6/7  杭州正元企业管理咨询有限公司  上海罗颉思投资管理有限公司       赵彤宇  \n",
       "\n",
       "[1 rows x 787 columns]"
      ]
     },
     "execution_count": 11,
     "metadata": {},
     "output_type": "execute_result"
    }
   ],
   "source": [
    "dgd_path =  os.path.join(raw_data_path, \"dgdnm.CSV\")\n",
    "dgd_df = pd.read_csv(dgd_path, encoding=\"gbk\")\n",
    "dgd_df.set_index('Date',inplace=True)\n",
    "dgd_df"
   ]
  },
  {
   "cell_type": "code",
   "execution_count": 12,
   "id": "94b66521",
   "metadata": {},
   "outputs": [
    {
     "ename": "KeyError",
     "evalue": "'600985.SH'",
     "output_type": "error",
     "traceback": [
      "\u001b[1;31m---------------------------------------------------------------------------\u001b[0m",
      "\u001b[1;31mKeyError\u001b[0m                                  Traceback (most recent call last)",
      "Cell \u001b[1;32mIn[12], line 2\u001b[0m\n\u001b[0;32m      1\u001b[0m \u001b[38;5;28;01mfor\u001b[39;00m code \u001b[38;5;129;01min\u001b[39;00m dgd_df\u001b[38;5;241m.\u001b[39mcolumns:\n\u001b[1;32m----> 2\u001b[0m     \u001b[43mDTBS\u001b[49m\u001b[43m[\u001b[49m\u001b[38;5;124;43m'\u001b[39;49m\u001b[38;5;124;43mB\u001b[39;49m\u001b[38;5;124;43m'\u001b[39;49m\u001b[43m]\u001b[49m\u001b[43m[\u001b[49m\u001b[43mcode\u001b[49m\u001b[43m]\u001b[49m[\u001b[38;5;124m'\u001b[39m\u001b[38;5;124mdgd\u001b[39m\u001b[38;5;124m'\u001b[39m] \u001b[38;5;241m=\u001b[39m dgd_df[code][\u001b[38;5;124m'\u001b[39m\u001b[38;5;124m2023/6/7\u001b[39m\u001b[38;5;124m'\u001b[39m]\n",
      "\u001b[1;31mKeyError\u001b[0m: '600985.SH'"
     ]
    }
   ],
   "source": [
    "for code in dgd_df.columns:\n",
    "    DTBS['B'][code]['dgd'] = dgd_df[code]['2023/6/7']\n"
   ]
  },
  {
   "cell_type": "code",
   "execution_count": 8,
   "id": "1d31fefb",
   "metadata": {},
   "outputs": [
    {
     "name": "stdout",
     "output_type": "stream",
     "text": [
      "1\n",
      "0\n"
     ]
    }
   ],
   "source": [
    "print(DTBS['B']['110088.SH']['gq'])\n",
    "print(DTBS['B']['113545.SH']['gq'])\n"
   ]
  },
  {
   "cell_type": "code",
   "execution_count": 13,
   "id": "d51788fb",
   "metadata": {},
   "outputs": [],
   "source": [
    "# save\n",
    "f_save = open(DTBS_path, 'wb')\n",
    "pickle.dump(DTBS, f_save)\n",
    "f_save.close()\n"
   ]
  },
  {
   "cell_type": "code",
   "execution_count": null,
   "id": "139da880",
   "metadata": {},
   "outputs": [],
   "source": []
  }
 ],
 "metadata": {
  "kernelspec": {
   "display_name": "Python 3 (ipykernel)",
   "language": "python",
   "name": "python3"
  },
  "language_info": {
   "codemirror_mode": {
    "name": "ipython",
    "version": 3
   },
   "file_extension": ".py",
   "mimetype": "text/x-python",
   "name": "python",
   "nbconvert_exporter": "python",
   "pygments_lexer": "ipython3",
   "version": "3.10.9"
  }
 },
 "nbformat": 4,
 "nbformat_minor": 5
}
