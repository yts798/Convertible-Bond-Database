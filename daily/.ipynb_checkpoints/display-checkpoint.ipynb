{
 "cells": [
  {
   "cell_type": "code",
   "execution_count": 10,
   "id": "488e68c1",
   "metadata": {},
   "outputs": [],
   "source": [
    "import pandas as pd\n",
    "import numpy as np\n",
    "import pickle\n",
    "import time \n",
    "import os\n",
    "from datetime import datetime\n",
    "from operator import itemgetter\n",
    "data_folder_path = 'C:\\\\Users\\\\goodluck\\\\Desktop\\\\DB'\n",
    "raw_data_path =  \"C:\\\\Users\\\\goodluck\\\\Desktop\\\\DB\\\\raw_data\"\n",
    "storage_path =  \"C:\\\\Users\\\\goodluck\\\\Desktop\\\\DB\\\\database_storage\"\n",
    "daily_path =  \"C:\\\\Users\\\\goodluck\\\\Desktop\\\\DB\\\\daily\"\n",
    "DTBS_path = os.path.join(storage_path, \"DTBS.pkl\")\n",
    "DCBS_path = os.path.join(storage_path, \"DCBS.pkl\")\n",
    "# re-open\n",
    "with open(DCBS_path, 'rb') as f:  \n",
    "    DCBS = pickle.load(f)\n",
    "# re-open\n",
    "with open(DTBS_path, 'rb') as f:  \n",
    "    DTBS = pickle.load(f)"
   ]
  },
  {
   "cell_type": "code",
   "execution_count": 11,
   "id": "ea030051",
   "metadata": {},
   "outputs": [],
   "source": [
    "def select_condition(codes, dt, fcd):\n",
    "    satisfy = []\n",
    "    if fcd[0] == 'lp':\n",
    "        lm = calculate_time(dt, 'p', 20)\n",
    "        \n",
    "        for code in codes:\n",
    "            if DCBS[lm[0]].__contains__(code):\n",
    "                if low_prc(code, dt, lm, fcd[1]):\n",
    "                    satisfy.append(code)\n",
    "        \n",
    "    else:\n",
    "        for code in codes:\n",
    "            if DCBS[dt][code][fcd[0]] <= fcd[2] and  DCBS[dt][code][fcd[0]] >= fcd[1]:\n",
    "                satisfy.append(code)\n",
    "                    \n",
    "    return satisfy\n",
    "\n",
    "\n",
    "def takeSecond(elem):\n",
    "    return elem[1]\n",
    "\n",
    "def rank(codes, dt, idx, num, d):\n",
    "    rk = []\n",
    "    if num == -1:\n",
    "        num = len(codes)\n",
    "    for code in codes:\n",
    "        if idx == 'lp':\n",
    "            if not np.isnan(DCBS[dt][code]['dp']):\n",
    "                lm = calculate_time(dt, 'p', 20)\n",
    "                if DCBS[lm[0]].__contains__(code):\n",
    "                    prc = get_prcs(code, lm)\n",
    "                    lp = absolute_low(prc, 0)\n",
    "                    rk.append((code,  DCBS[dt][code]['dp']/lp))\n",
    "            \n",
    "            \n",
    "        elif idx != 'dl':\n",
    "            if not np.isnan( DCBS[dt][code][idx]):\n",
    "                rk.append((code,  DCBS[dt][code][idx]))\n",
    "        else:\n",
    "            if not np.isnan( DCBS[dt][code][idx]):\n",
    "                if  DCBS[dt][code][idx] != 999:\n",
    "                    rk.append((code,  DCBS[dt][code][idx]))\n",
    "    if num >= len(rk):\n",
    "        num = len(rk)\n",
    "        \n",
    "     \n",
    "#     reverse = True 降序\n",
    "    if d == 'd':\n",
    "        rk.sort(key=takeSecond, reverse = True)\n",
    "    else:\n",
    "        rk.sort(key=takeSecond, reverse = False)\n",
    "\n",
    "    if idx == 'lp':\n",
    "        lp = [i for i in rk if i[1] == 1.0]\n",
    "        ot = []\n",
    "        if num - len(lp) > 0:\n",
    "            ot = rk[len(lp):num]\n",
    "        \n",
    "        low = lp + ot\n",
    "        \n",
    "    else:    \n",
    "        low = rk[0:num]\n",
    "#     print(\"In\",dt , len(low), \"of\", len(codes),  \"is selected\")   \n",
    "\n",
    "#     print(low)\n",
    "    \n",
    "    \n",
    "    return [i[0] for i in low]\n",
    "\n",
    "def get_prcs(code, dts):\n",
    "    prc = []\n",
    "    \n",
    "    for dt in dts:\n",
    "        prc.append(DCBS[dt][code]['dp'])\n",
    "    prc.sort()\n",
    "    return prc\n",
    "    \n",
    "def relative_low(lst, pos):\n",
    "    return np.quantile(a=lst, q = pos)\n",
    "    \n",
    "def absolute_low(lst, pos):\n",
    "    return min(lst) + pos * (max(lst) - min(lst))\n",
    "\n",
    "def low_prc(code, dt, lm, pos):\n",
    "    prc = get_prcs(code, lm)\n",
    "#     lp = min([relative_low(prc, pos), absolute_low(prc, pos)])\n",
    "    lp = absolute_low(prc, pos)\n",
    "    tp = DCBS[dt][code]['dp']\n",
    "#     if (tp <= lp):\n",
    "#         print(code, tp, lp)\n",
    "#     if tp <= lp:\n",
    "#         print(tp, lp)\n",
    "    return tp <= lp\n",
    "\n",
    "def calculate_time(dt, d, l):\n",
    "    time = []\n",
    "    days = list(DCBS.keys())\n",
    "    if d == 'p':\n",
    "        for i in range(len(days)):\n",
    "            if days[i] == dt:\n",
    "                break\n",
    "                \n",
    "    return days[i-l+1:i+1]\n",
    "\n"
   ]
  },
  {
   "cell_type": "code",
   "execution_count": 12,
   "id": "8c7d4c2b",
   "metadata": {},
   "outputs": [
    {
     "data": {
      "text/plain": [
       "dict_keys(['2023-04-27', '2023-04-28', '2023-05-04', '2023-05-05', '2023-05-08', '2023-05-09', '2023-05-10', '2023-05-11', '2023-05-12', '2023-05-15', '2023-05-16', '2023-05-17', '2023-05-18', '2023-05-19', '2023-05-22', '2023-05-23', '2023-05-24', '2023-05-25', '2023-05-26', '2023-05-29', '2023-05-30', '2023-05-31', '2023-06-01', '2023-06-02', '2023-06-05', '2023-06-06', '2023-06-07', '2023-06-08', '2023-06-09', '2023-06-12', '2023-06-13'])"
      ]
     },
     "execution_count": 12,
     "metadata": {},
     "output_type": "execute_result"
    }
   ],
   "source": [
    "tdd =datetime.today()\n",
    "td = tdd.strftime('%Y-%m-%d')\n",
    "td\n",
    "DCBS.keys()\n"
   ]
  },
  {
   "cell_type": "code",
   "execution_count": 13,
   "id": "2283428d",
   "metadata": {},
   "outputs": [
    {
     "name": "stdout",
     "output_type": "stream",
     "text": [
      "36\n"
     ]
    },
    {
     "data": {
      "text/plain": [
       "30"
      ]
     },
     "execution_count": 13,
     "metadata": {},
     "output_type": "execute_result"
    }
   ],
   "source": [
    "select = list(DCBS[td].keys())\n",
    "\n",
    "flt_cd = [['dp', 100, 130]]\n",
    "\n",
    "flt_cd = [['dp', 100, 130], ['bl',0, 3]]\n",
    "\n",
    "flt_cd = [['dp', 100, 130], ['bl',0, 3]]\n",
    "\n",
    "flt_cd = [['dp', 100, 130], ['bl',0, 7], ['trt', 2, 10], ['ytm', -1, 9999]]\n",
    "\n",
    "\n",
    "\n",
    "\n",
    "\n",
    "\n",
    "\n",
    "\n",
    "\n",
    "# flt_cd = [['dp', 100, 130], ['bl',0, 7], ['trt', 2, 10], ['ytm', -1, 9999]]\n",
    "\n",
    "\n",
    "# flt_cd = [['dp', 100, 130], ['bl',0, 3]]\n",
    "# flt_cd = [['dp', 100, 130], ['bl',0, 7], ['trt', 2, 10], ['ytm', 0.5, 9999]]\n",
    "\n",
    "# flt_cd = [['dp', 100, 130], ['bl',0, 3]]\n",
    "# flt_cd = [['dp', 100, 130], ['bl',0, 7], ['trt', 2, 10], ['ytm', 0.5, 9999]]\n",
    "# flt_cd = [['dp', 100, 130], ['bl',0, 7], ['trt', 2, 10], ['ytm', -1, 9999]]\n",
    "\n",
    "# flt_cd = [['lp', 0.5], ['dp', 100, 130], ['bl',0, 3], ['cpr', -999, 50]]\n",
    "\n",
    "# fil_cd = [['dp',100,130],['ytm', -1, 999], ['bl', 0, 7], ['trt',2,10]]\n",
    "    \n",
    "for fcd in flt_cd:\n",
    "    select = select_condition(select, td, fcd)\n",
    "\n",
    "print(len(select))\n",
    "    \n",
    "\n",
    "\n",
    "\n",
    "\n",
    "\n",
    "\n",
    "\n",
    "\n",
    "rk_cd = [['ytm', 20, 'd']]\n",
    "\n",
    "\n",
    "rk_cd = [['lp', 30, 'a']]\n",
    "rk_cd = [['dl', 30, 'a']]\n",
    "codes = rank(select, td, rk_cd[0][0], rk_cd[0][1], rk_cd[0][2])\n",
    "len(codes)"
   ]
  },
  {
   "cell_type": "code",
   "execution_count": 15,
   "id": "b99a3e1d",
   "metadata": {},
   "outputs": [
    {
     "ename": "KeyError",
     "evalue": "'hb'",
     "output_type": "error",
     "traceback": [
      "\u001b[1;31m---------------------------------------------------------------------------\u001b[0m",
      "\u001b[1;31mKeyError\u001b[0m                                  Traceback (most recent call last)",
      "Cell \u001b[1;32mIn[15], line 2\u001b[0m\n\u001b[0;32m      1\u001b[0m \u001b[38;5;28;01mfor\u001b[39;00m r \u001b[38;5;129;01min\u001b[39;00m codes:\n\u001b[1;32m----> 2\u001b[0m     \u001b[38;5;28mprint\u001b[39m(r, DCBS[td][r][\u001b[38;5;124m'\u001b[39m\u001b[38;5;124mcn\u001b[39m\u001b[38;5;124m'\u001b[39m], DCBS[td][r][\u001b[38;5;124m'\u001b[39m\u001b[38;5;124msc\u001b[39m\u001b[38;5;124m'\u001b[39m],  DCBS[td][r][\u001b[38;5;124m'\u001b[39m\u001b[38;5;124msn\u001b[39m\u001b[38;5;124m'\u001b[39m], \u001b[38;5;124m\"\u001b[39m\u001b[38;5;124m收盘价：\u001b[39m\u001b[38;5;124m\"\u001b[39m, DCBS[td][r][\u001b[38;5;124m'\u001b[39m\u001b[38;5;124mdp\u001b[39m\u001b[38;5;124m'\u001b[39m],  \u001b[38;5;124m\"\u001b[39m\u001b[38;5;124m转股溢价率：\u001b[39m\u001b[38;5;124m\"\u001b[39m, DCBS[td][r][\u001b[38;5;124m'\u001b[39m\u001b[38;5;124mcpr\u001b[39m\u001b[38;5;124m'\u001b[39m], \u001b[38;5;124m\"\u001b[39m\u001b[38;5;124m到期收益率：\u001b[39m\u001b[38;5;124m\"\u001b[39m, DCBS[td][r][\u001b[38;5;124m'\u001b[39m\u001b[38;5;124mytm\u001b[39m\u001b[38;5;124m'\u001b[39m],\u001b[38;5;124m\"\u001b[39m\u001b[38;5;124m换手率：\u001b[39m\u001b[38;5;124m\"\u001b[39m, DCBS[td][r][\u001b[38;5;124m'\u001b[39m\u001b[38;5;124mtrt\u001b[39m\u001b[38;5;124m'\u001b[39m], \u001b[38;5;124m'\u001b[39m\u001b[38;5;124m市值\u001b[39m\u001b[38;5;124m'\u001b[39m,  DCBS[td][r][\u001b[38;5;124m'\u001b[39m\u001b[38;5;124mbl\u001b[39m\u001b[38;5;124m'\u001b[39m], \u001b[38;5;124m'\u001b[39m\u001b[38;5;124m货币资金\u001b[39m\u001b[38;5;124m'\u001b[39m,  \u001b[43mDTBS\u001b[49m\u001b[43m[\u001b[49m\u001b[38;5;124;43m'\u001b[39;49m\u001b[38;5;124;43mF\u001b[39;49m\u001b[38;5;124;43m'\u001b[39;49m\u001b[43m]\u001b[49m\u001b[43m[\u001b[49m\u001b[43mDTBS\u001b[49m\u001b[43m[\u001b[49m\u001b[38;5;124;43m'\u001b[39;49m\u001b[38;5;124;43mB\u001b[39;49m\u001b[38;5;124;43m'\u001b[39;49m\u001b[43m]\u001b[49m\u001b[43m[\u001b[49m\u001b[43mr\u001b[49m\u001b[43m]\u001b[49m\u001b[43m[\u001b[49m\u001b[38;5;124;43m'\u001b[39;49m\u001b[38;5;124;43msc\u001b[39;49m\u001b[38;5;124;43m'\u001b[39;49m\u001b[43m]\u001b[49m\u001b[43m]\u001b[49m\u001b[43m[\u001b[49m\u001b[38;5;124;43m'\u001b[39;49m\u001b[38;5;124;43mhb\u001b[39;49m\u001b[38;5;124;43m'\u001b[39;49m\u001b[43m]\u001b[49m, \u001b[38;5;124m'\u001b[39m\u001b[38;5;124m双低\u001b[39m\u001b[38;5;124m'\u001b[39m, DCBS[td][r][\u001b[38;5;124m'\u001b[39m\u001b[38;5;124mdl\u001b[39m\u001b[38;5;124m'\u001b[39m])\n",
      "\u001b[1;31mKeyError\u001b[0m: 'hb'"
     ]
    }
   ],
   "source": [
    "for r in codes:\n",
    "    print(r, DCBS[td][r]['cn'], DCBS[td][r]['sc'],  DCBS[td][r]['sn'], \"收盘价：\", DCBS[td][r]['dp'],  \"转股溢价率：\", DCBS[td][r]['cpr'], \"到期收益率：\", DCBS[td][r]['ytm'],\"换手率：\", DCBS[td][r]['trt'], '市值',  DCBS[td][r]['bl'], '货币资金',  DTBS['F'][DTBS['B'][r]['sc']], '双低', DCBS[td][r]['dl'])"
   ]
  },
  {
   "cell_type": "code",
   "execution_count": 41,
   "id": "d12a69ea",
   "metadata": {},
   "outputs": [],
   "source": [
    "tdd =datetime.today()\n",
    "td = tdd.strftime('%Y-%m-%d')\n",
    "select = list(DCBS[td].keys())\n",
    "for code in select:\n",
    "    DCBS[td][code]['cat1'] = DTBS['B'][code]['cat1']\n",
    "    DCBS[td][code]['cat2'] = DTBS['B'][code]['cat2']\n",
    "    \n",
    "# save\n",
    "f_save = open(DCBS_path, 'wb')\n",
    "pickle.dump(DCBS, f_save)\n",
    "f_save.close()\n"
   ]
  },
  {
   "cell_type": "code",
   "execution_count": 34,
   "id": "d77799b8",
   "metadata": {},
   "outputs": [
    {
     "ename": "KeyError",
     "evalue": "'127082.SZ'",
     "output_type": "error",
     "traceback": [
      "\u001b[1;31m---------------------------------------------------------------------------\u001b[0m",
      "\u001b[1;31mKeyError\u001b[0m                                  Traceback (most recent call last)",
      "Cell \u001b[1;32mIn[34], line 1\u001b[0m\n\u001b[1;32m----> 1\u001b[0m \u001b[43mDTBS\u001b[49m\u001b[43m[\u001b[49m\u001b[38;5;124;43m'\u001b[39;49m\u001b[38;5;124;43m127082.SZ\u001b[39;49m\u001b[38;5;124;43m'\u001b[39;49m\u001b[43m]\u001b[49m\n",
      "\u001b[1;31mKeyError\u001b[0m: '127082.SZ'"
     ]
    }
   ],
   "source": [
    "DTBS['127082.SZ']"
   ]
  },
  {
   "cell_type": "code",
   "execution_count": 9,
   "id": "38041bd2",
   "metadata": {},
   "outputs": [],
   "source": [
    "cbcodes = []\n",
    "stcodes = []\n",
    "\n",
    "cbcodes = list(DTBS['A'].keys())\n",
    "\n",
    "for cb in cbcodes:\n",
    "    st = DTBS['B'][cb]['sc']\n",
    "    if st not in stcodes:\n",
    "        stcodes.append(st)"
   ]
  },
  {
   "cell_type": "code",
   "execution_count": 11,
   "id": "86be209a",
   "metadata": {},
   "outputs": [
    {
     "data": {
      "text/plain": [
       "722"
      ]
     },
     "execution_count": 11,
     "metadata": {},
     "output_type": "execute_result"
    }
   ],
   "source": [
    "len(stcodes)"
   ]
  },
  {
   "cell_type": "code",
   "execution_count": 13,
   "id": "286a8c03",
   "metadata": {},
   "outputs": [],
   "source": [
    "df = pd.DataFrame(cbcodes)"
   ]
  },
  {
   "cell_type": "code",
   "execution_count": 15,
   "id": "4abbc3ec",
   "metadata": {},
   "outputs": [],
   "source": [
    "df2 = pd.DataFrame(stcodes)"
   ]
  },
  {
   "cell_type": "code",
   "execution_count": 16,
   "id": "c66a1942",
   "metadata": {},
   "outputs": [
    {
     "data": {
      "text/plain": [
       "',0\\r\\n0,110088.SH\\r\\n1,113545.SH\\r\\n2,113631.SH\\r\\n3,123128.SZ\\r\\n4,123156.SZ\\r\\n5,127027.SZ\\r\\n6,127061.SZ\\r\\n7,110047.SH\\r\\n8,110063.SH\\r\\n9,110070.SH\\r\\n10,110087.SH\\r\\n11,110089.SH\\r\\n12,110092.SH\\r\\n13,111001.SH\\r\\n14,111002.SH\\r\\n15,111003.SH\\r\\n16,111007.SH\\r\\n17,111012.SH\\r\\n18,113025.SH\\r\\n19,113027.SH\\r\\n20,113046.SH\\r\\n21,113047.SH\\r\\n22,113058.SH\\r\\n23,113059.SH\\r\\n24,113064.SH\\r\\n25,113534.SH\\r\\n26,113535.SH\\r\\n27,113566.SH\\r\\n28,113591.SH\\r\\n29,113600.SH\\r\\n30,113615.SH\\r\\n31,113621.SH\\r\\n32,113623.SH\\r\\n33,113632.SH\\r\\n34,113636.SH\\r\\n35,113638.SH\\r\\n36,113640.SH\\r\\n37,113641.SH\\r\\n38,113649.SH\\r\\n39,113650.SH\\r\\n40,113653.SH\\r\\n41,113657.SH\\r\\n42,113663.SH\\r\\n43,118000.SH\\r\\n44,118005.SH\\r\\n45,118006.SH\\r\\n46,118008.SH\\r\\n47,118010.SH\\r\\n48,118018.SH\\r\\n49,118020.SH\\r\\n50,118022.SH\\r\\n51,118023.SH\\r\\n52,118028.SH\\r\\n53,118029.SH\\r\\n54,123012.SZ\\r\\n55,123013.SZ\\r\\n56,123031.SZ\\r\\n57,123046.SZ\\r\\n58,123052.SZ\\r\\n59,123057.SZ\\r\\n60,123076.SZ\\r\\n61,123078.SZ\\r\\n62,123085.SZ\\r\\n63,123091.SZ\\r\\n64,123106.SZ\\r\\n65,123118.SZ\\r\\n66,123124.SZ\\r\\n67,123126.SZ\\r\\n68,123129.SZ\\r\\n69,123144.SZ\\r\\n70,123152.SZ\\r\\n71,123158.SZ\\r\\n72,123165.SZ\\r\\n73,123166.SZ\\r\\n74,123168.SZ\\r\\n75,123169.SZ\\r\\n76,127017.SZ\\r\\n77,127018.SZ\\r\\n78,127019.SZ\\r\\n79,127020.SZ\\r\\n80,127022.SZ\\r\\n81,127025.SZ\\r\\n82,127030.SZ\\r\\n83,127031.SZ\\r\\n84,127035.SZ\\r\\n85,127042.SZ\\r\\n86,127043.SZ\\r\\n87,127053.SZ\\r\\n88,127054.SZ\\r\\n89,127056.SZ\\r\\n90,127059.SZ\\r\\n91,127062.SZ\\r\\n92,127067.SZ\\r\\n93,127068.SZ\\r\\n94,127070.SZ\\r\\n95,127073.SZ\\r\\n96,127075.SZ\\r\\n97,127078.SZ\\r\\n98,128014.SZ\\r\\n99,128039.SZ\\r\\n100,128049.SZ\\r\\n101,128063.SZ\\r\\n102,128071.SZ\\r\\n103,128072.SZ\\r\\n104,128079.SZ\\r\\n105,128081.SZ\\r\\n106,128085.SZ\\r\\n107,128095.SZ\\r\\n108,128109.SZ\\r\\n109,128111.SZ\\r\\n110,128117.SZ\\r\\n111,128123.SZ\\r\\n112,128128.SZ\\r\\n113,128130.SZ\\r\\n114,128144.SZ\\r\\n115,110060.SH\\r\\n116,110064.SH\\r\\n117,110068.SH\\r\\n118,110074.SH\\r\\n119,110075.SH\\r\\n120,110080.SH\\r\\n121,110082.SH\\r\\n122,110086.SH\\r\\n123,110091.SH\\r\\n124,111000.SH\\r\\n125,113024.SH\\r\\n126,113030.SH\\r\\n127,113044.SH\\r\\n128,113054.SH\\r\\n129,113505.SH\\r\\n130,113519.SH\\r\\n131,113526.SH\\r\\n132,113530.SH\\r\\n133,113546.SH\\r\\n134,113549.SH\\r\\n135,113570.SH\\r\\n136,113574.SH\\r\\n137,113578.SH\\r\\n138,113593.SH\\r\\n139,113595.SH\\r\\n140,113597.SH\\r\\n141,113598.SH\\r\\n142,113608.SH\\r\\n143,113609.SH\\r\\n144,113622.SH\\r\\n145,113637.SH\\r\\n146,113644.SH\\r\\n147,113646.SH\\r\\n148,113651.SH\\r\\n149,113652.SH\\r\\n150,113654.SH\\r\\n151,113656.SH\\r\\n152,113658.SH\\r\\n153,113664.SH\\r\\n154,113665.SH\\r\\n155,118009.SH\\r\\n156,118014.SH\\r\\n157,118016.SH\\r\\n158,118017.SH\\r\\n159,118019.SH\\r\\n160,118025.SH\\r\\n161,118026.SH\\r\\n162,123002.SZ\\r\\n163,123004.SZ\\r\\n164,123010.SZ\\r\\n165,123014.SZ\\r\\n166,123034.SZ\\r\\n167,123038.SZ\\r\\n168,123044.SZ\\r\\n169,123048.SZ\\r\\n170,123049.SZ\\r\\n171,123061.SZ\\r\\n172,123063.SZ\\r\\n173,123067.SZ\\r\\n174,123071.SZ\\r\\n175,123080.SZ\\r\\n176,123089.SZ\\r\\n177,123101.SZ\\r\\n178,123103.SZ\\r\\n179,123109.SZ\\r\\n180,123112.SZ\\r\\n181,123114.SZ\\r\\n182,123120.SZ\\r\\n183,123127.SZ\\r\\n184,123130.SZ\\r\\n185,123134.SZ\\r\\n186,123136.SZ\\r\\n187,123141.SZ\\r\\n188,123142.SZ\\r\\n189,123146.SZ\\r\\n190,123147.SZ\\r\\n191,123148.SZ\\r\\n192,123149.SZ\\r\\n193,123155.SZ\\r\\n194,123159.SZ\\r\\n195,123160.SZ\\r\\n196,123161.SZ\\r\\n197,123162.SZ\\r\\n198,123163.SZ\\r\\n199,127012.SZ\\r\\n200,127014.SZ\\r\\n201,127024.SZ\\r\\n202,127029.SZ\\r\\n203,127033.SZ\\r\\n204,127034.SZ\\r\\n205,127036.SZ\\r\\n206,127039.SZ\\r\\n207,127040.SZ\\r\\n208,127041.SZ\\r\\n209,127044.SZ\\r\\n210,127047.SZ\\r\\n211,127051.SZ\\r\\n212,127052.SZ\\r\\n213,127055.SZ\\r\\n214,127064.SZ\\r\\n215,127066.SZ\\r\\n216,127071.SZ\\r\\n217,127072.SZ\\r\\n218,127074.SZ\\r\\n219,127077.SZ\\r\\n220,127079.SZ\\r\\n221,128037.SZ\\r\\n222,128041.SZ\\r\\n223,128042.SZ\\r\\n224,128044.SZ\\r\\n225,128066.SZ\\r\\n226,128070.SZ\\r\\n227,128076.SZ\\r\\n228,128120.SZ\\r\\n229,128121.SZ\\r\\n230,128125.SZ\\r\\n231,128127.SZ\\r\\n232,128132.SZ\\r\\n233,128134.SZ\\r\\n234,128138.SZ\\r\\n235,128141.SZ\\r\\n236,128143.SZ\\r\\n237,110044.SH\\r\\n238,110045.SH\\r\\n239,110052.SH\\r\\n240,110072.SH\\r\\n241,110090.SH\\r\\n242,111004.SH\\r\\n243,111005.SH\\r\\n244,111006.SH\\r\\n245,111008.SH\\r\\n246,111009.SH\\r\\n247,111011.SH\\r\\n248,113016.SH\\r\\n249,113017.SH\\r\\n250,113033.SH\\r\\n251,113049.SH\\r\\n252,113061.SH\\r\\n253,113063.SH\\r\\n254,113524.SH\\r\\n255,113527.SH\\r\\n256,113537.SH\\r\\n257,113542.SH\\r\\n258,113561.SH\\r\\n259,113575.SH\\r\\n260,113576.SH\\r\\n261,113589.SH\\r\\n262,113625.SH\\r\\n263,113626.SH\\r\\n264,113627.SH\\r\\n265,113628.SH\\r\\n266,113629.SH\\r\\n267,113633.SH\\r\\n268,113643.SH\\r\\n269,113655.SH\\r\\n270,113659.SH\\r\\n271,113662.SH\\r\\n272,123011.SZ\\r\\n273,123039.SZ\\r\\n274,123072.SZ\\r\\n275,123075.SZ\\r\\n276,123088.SZ\\r\\n277,123093.SZ\\r\\n278,123154.SZ\\r\\n279,123174.SZ\\r\\n280,127004.SZ\\r\\n281,127007.SZ\\r\\n282,127016.SZ\\r\\n283,127037.SZ\\r\\n284,127050.SZ\\r\\n285,127063.SZ\\r\\n286,127065.SZ\\r\\n287,127069.SZ\\r\\n288,128023.SZ\\r\\n289,128056.SZ\\r\\n290,128075.SZ\\r\\n291,128082.SZ\\r\\n292,128087.SZ\\r\\n293,128090.SZ\\r\\n294,128100.SZ\\r\\n295,110055.SH\\r\\n296,113565.SH\\r\\n297,113584.SH\\r\\n298,113605.SH\\r\\n299,113634.SH\\r\\n300,113647.SH\\r\\n301,113648.SH\\r\\n302,123056.SZ\\r\\n303,123107.SZ\\r\\n304,123133.SZ\\r\\n305,123172.SZ\\r\\n306,127015.SZ\\r\\n307,127045.SZ\\r\\n308,127046.SZ\\r\\n309,127049.SZ\\r\\n310,127060.SZ\\r\\n311,127076.SZ\\r\\n312,128017.SZ\\r\\n313,128026.SZ\\r\\n314,128030.SZ\\r\\n315,128036.SZ\\r\\n316,128106.SZ\\r\\n317,128114.SZ\\r\\n318,128119.SZ\\r\\n319,128135.SZ\\r\\n320,128142.SZ\\r\\n321,110057.SH\\r\\n322,110076.SH\\r\\n323,113563.SH\\r\\n324,113579.SH\\r\\n325,113585.SH\\r\\n326,113588.SH\\r\\n327,113601.SH\\r\\n328,113606.SH\\r\\n329,113610.SH\\r\\n330,113618.SH\\r\\n331,113624.SH\\r\\n332,113660.SH\\r\\n333,118004.SH\\r\\n334,118012.SH\\r\\n335,123018.SZ\\r\\n336,123029.SZ\\r\\n337,123064.SZ\\r\\n338,123065.SZ\\r\\n339,123082.SZ\\r\\n340,123090.SZ\\r\\n341,123098.SZ\\r\\n342,123099.SZ\\r\\n343,123108.SZ\\r\\n344,123113.SZ\\r\\n345,123117.SZ\\r\\n346,123119.SZ\\r\\n347,123132.SZ\\r\\n348,123135.SZ\\r\\n349,123145.SZ\\r\\n350,123150.SZ\\r\\n351,123151.SZ\\r\\n352,123171.SZ\\r\\n353,127006.SZ\\r\\n354,127028.SZ\\r\\n355,127057.SZ\\r\\n356,127058.SZ\\r\\n357,128021.SZ\\r\\n358,128025.SZ\\r\\n359,128053.SZ\\r\\n360,128062.SZ\\r\\n361,128091.SZ\\r\\n362,128097.SZ\\r\\n363,128108.SZ\\r\\n364,128124.SZ\\r\\n365,128133.SZ\\r\\n366,110043.SH\\r\\n367,110053.SH\\r\\n368,110059.SH\\r\\n369,110067.SH\\r\\n370,110073.SH\\r\\n371,110079.SH\\r\\n372,110083.SH\\r\\n373,113011.SH\\r\\n374,113013.SH\\r\\n375,113021.SH\\r\\n376,113037.SH\\r\\n377,113042.SH\\r\\n378,113043.SH\\r\\n379,113050.SH\\r\\n380,113052.SH\\r\\n381,113055.SH\\r\\n382,113056.SH\\r\\n383,113057.SH\\r\\n384,113060.SH\\r\\n385,113062.SH\\r\\n386,113065.SH\\r\\n387,113516.SH\\r\\n388,127005.SZ\\r\\n389,127032.SZ\\r\\n390,128034.SZ\\r\\n391,128048.SZ\\r\\n392,128116.SZ\\r\\n393,128129.SZ\\r\\n394,110058.SH\\r\\n395,110062.SH\\r\\n396,110081.SH\\r\\n397,110085.SH\\r\\n398,111010.SH\\r\\n399,113045.SH\\r\\n400,113053.SH\\r\\n401,113504.SH\\r\\n402,113569.SH\\r\\n403,113573.SH\\r\\n404,113577.SH\\r\\n405,113582.SH\\r\\n406,113594.SH\\r\\n407,113596.SH\\r\\n408,113602.SH\\r\\n409,113604.SH\\r\\n410,113616.SH\\r\\n411,113619.SH\\r\\n412,113639.SH\\r\\n413,113661.SH\\r\\n414,118003.SH\\r\\n415,118007.SH\\r\\n416,118011.SH\\r\\n417,118013.SH\\r\\n418,118015.SH\\r\\n419,118021.SH\\r\\n420,118024.SH\\r\\n421,118027.SH\\r\\n422,118030.SH\\r\\n423,123015.SZ\\r\\n424,123022.SZ\\r\\n425,123025.SZ\\r\\n426,123035.SZ\\r\\n427,123050.SZ\\r\\n428,123054.SZ\\r\\n429,123059.SZ\\r\\n430,123077.SZ\\r\\n431,123083.SZ\\r\\n432,123087.SZ\\r\\n433,123096.SZ\\r\\n434,123100.SZ\\r\\n435,123104.SZ\\r\\n436,123115.SZ\\r\\n437,123116.SZ\\r\\n438,123121.SZ\\r\\n439,123122.SZ\\r\\n440,123131.SZ\\r\\n441,123138.SZ\\r\\n442,123140.SZ\\r\\n443,123143.SZ\\r\\n444,123153.SZ\\r\\n445,123157.SZ\\r\\n446,123164.SZ\\r\\n447,123167.SZ\\r\\n448,123170.SZ\\r\\n449,123173.SZ\\r\\n450,127021.SZ\\r\\n451,127026.SZ\\r\\n452,127038.SZ\\r\\n453,127080.SZ\\r\\n454,128033.SZ\\r\\n455,128035.SZ\\r\\n456,128074.SZ\\r\\n457,128078.SZ\\r\\n458,128083.SZ\\r\\n459,128101.SZ\\r\\n460,128118.SZ\\r\\n461,128122.SZ\\r\\n462,128131.SZ\\r\\n463,128136.SZ\\r\\n464,128137.SZ\\r\\n465,128140.SZ\\r\\n466,110048.SH\\r\\n467,110061.SH\\r\\n468,110077.SH\\r\\n469,110084.SH\\r\\n470,113039.SH\\r\\n471,113048.SH\\r\\n472,113051.SH\\r\\n473,113532.SH\\r\\n474,123092.SZ\\r\\n475,128105.SZ\\r\\n476,123175.SZ\\r\\n477,118031.SH\\r\\n478,113666.SH\\r\\n479,123176.SZ\\r\\n480,123178.SZ\\r\\n481,113567.SH\\r\\n482,123105.SZ\\r\\n483,128145.SZ\\r\\n484,128040.SZ\\r\\n485,123060.SZ\\r\\n486,123125.SZ\\r\\n487,113525.SH\\r\\n488,128029.SZ\\r\\n489,123123.SZ\\r\\n490,128022.SZ\\r\\n491,128069.SZ\\r\\n492,128015.SZ\\r\\n493,110056.SH\\r\\n494,123139.SZ\\r\\n495,123110.SZ\\r\\n496,113642.SH\\r\\n497,110038.SH\\r\\n498,128046.SZ\\r\\n499,128073.SZ\\r\\n500,123027.SZ\\r\\n501,113635.SH\\r\\n502,123137.SZ\\r\\n503,118001.SH\\r\\n504,113502.SH\\r\\n505,123023.SZ\\r\\n506,123062.SZ\\r\\n507,123097.SZ\\r\\n508,127048.SZ\\r\\n509,113620.SH\\r\\n510,123045.SZ\\r\\n511,123086.SZ\\r\\n512,123084.SZ\\r\\n513,128139.SZ\\r\\n514,123073.SZ\\r\\n515,113548.SH\\r\\n516,113630.SH\\r\\n517,123070.SZ\\r\\n518,113599.SH\\r\\n519,128013.SZ\\r\\n520,128107.SZ\\r\\n521,110071.SH\\r\\n522,127013.SZ\\r\\n523,113541.SH\\r\\n524,113568.SH\\r\\n525,127003.SZ\\r\\n526,113550.SH\\r\\n527,118002.SH\\r\\n528,113036.SH\\r\\n529,123024.SZ\\r\\n530,110066.SH\\r\\n531,113026.SH\\r\\n532,128093.SZ\\r\\n533,128103.SZ\\r\\n534,123111.SZ\\r\\n535,128096.SZ\\r\\n536,123042.SZ\\r\\n537,128094.SZ\\r\\n538,127011.SZ\\r\\n539,128113.SZ\\r\\n540,123043.SZ\\r\\n541,128050.SZ\\r\\n542,113034.SH\\r\\n543,113009.SH\\r\\n544,110034.SH\\r\\n545,113536.SH\\r\\n546,123053.SZ\\r\\n547,113607.SH\\r\\n548,113528.SH\\r\\n549,123081.SZ\\r\\n550,110051.SH\\r\\n551,123074.SZ\\r\\n552,113614.SH\\r\\n553,113603.SH\\r\\n554,123028.SZ\\r\\n555,128057.SZ\\r\\n556,113580.SH\\r\\n557,123102.SZ\\r\\n558,123069.SZ\\r\\n559,110033.SH\\r\\n560,110041.SH\\r\\n561,128018.SZ\\r\\n562,123047.SZ\\r\\n563,123051.SZ\\r\\n564,123068.SZ\\r\\n565,113014.SH\\r\\n566,113572.SH\\r\\n567,123030.SZ\\r\\n568,113612.SH\\r\\n569,123079.SZ\\r\\n570,128051.SZ\\r\\n571,123094.SZ\\r\\n572,113012.SH\\r\\n573,113508.SH\\r\\n574,123033.SZ\\r\\n575,128064.SZ\\r\\n576,113509.SH\\r\\n577,123066.SZ\\r\\n578,123007.SZ\\r\\n579,113040.SH\\r\\n580,113611.SH\\r\\n581,128032.SZ\\r\\n582,127023.SZ\\r\\n583,113543.SH\\r\\n584,123058.SZ\\r\\n585,110065.SH\\r\\n586,113041.SH\\r\\n587,113559.SH\\r\\n588,110031.SH\\r\\n589,113564.SH\\r\\n590,128126.SZ\\r\\n591,113557.SH\\r\\n592,110069.SH\\r\\n593,113038.SH\\r\\n594,128052.SZ\\r\\n595,113029.SH\\r\\n596,113590.SH\\r\\n597,113592.SH\\r\\n598,128028.SZ\\r\\n599,113583.SH\\r\\n600,127008.SZ\\r\\n601,128112.SZ\\r\\n602,128065.SZ\\r\\n603,128010.SZ\\r\\n604,123055.SZ\\r\\n605,123017.SZ\\r\\n606,128115.SZ\\r\\n607,113587.SH\\r\\n608,128110.SZ\\r\\n609,113035.SH\\r\\n610,113556.SH\\r\\n611,113586.SH\\r\\n612,113008.SH\\r\\n613,113032.SH\\r\\n614,113520.SH\\r\\n615,128019.SZ\\r\\n616,128104.SZ\\r\\n617,128102.SZ\\r\\n618,113562.SH\\r\\n619,123026.SZ\\r\\n620,113581.SH\\r\\n621,123036.SZ\\r\\n622,113553.SH\\r\\n623,113555.SH\\r\\n624,123032.SZ\\r\\n625,113020.SH\\r\\n626,113521.SH\\r\\n627,128058.SZ\\r\\n628,128099.SZ\\r\\n629,113571.SH\\r\\n630,128098.SZ\\r\\n631,128067.SZ\\r\\n632,128043.SZ\\r\\n633,113028.SH\\r\\n634,113544.SH\\r\\n635,128092.SZ\\r\\n636,113547.SH\\r\\n637,113554.SH\\r\\n638,123037.SZ\\r\\n639,128084.SZ\\r\\n640,110042.SH\\r\\n641,113019.SH\\r\\n642,123020.SZ\\r\\n643,113031.SH\\r\\n644,113514.SH\\r\\n645,113518.SH\\r\\n646,123041.SZ\\r\\n647,128045.SZ\\r\\n648,128086.SZ\\r\\n649,113022.SH\\r\\n650,123040.SZ\\r\\n651,128088.SZ\\r\\n652,113558.SH\\r\\n653,128089.SZ\\r\\n654,128059.SZ\\r\\n655,113552.SH\\r\\n656,128080.SZ\\r\\n657,113551.SH\\r\\n658,128077.SZ\\r\\n659,128054.SZ\\r\\n660,113515.SH\\r\\n661,113511.SH\\r\\n662,113503.SH\\r\\n663,128012.SZ\\r\\n664,113531.SH\\r\\n665,123021.SZ\\r\\n666,110050.SH\\r\\n667,128055.SZ\\r\\n668,113517.SH\\r\\n669,128016.SZ\\r\\n670,123019.SZ\\r\\n671,113510.SH\\r\\n672,113540.SH\\r\\n673,110046.SH\\r\\n674,123009.SZ\\r\\n675,110054.SH\\r\\n676,128038.SZ\\r\\n677,123016.SZ\\r\\n678,113539.SH\\r\\n679,128061.SZ\\r\\n680,113522.SH\\r\\n681,113538.SH\\r\\n682,128060.SZ\\r\\n683,123003.SZ\\r\\n684,113523.SH\\r\\n685,128068.SZ\\r\\n686,128020.SZ\\r\\n687,113533.SH\\r\\n688,110049.SH\\r\\n689,110030.SH\\r\\n690,113529.SH\\r\\n691,113507.SH\\r\\n692,128047.SZ\\r\\n693,127009.SZ\\r\\n694,123001.SZ\\r\\n695,128027.SZ\\r\\n696,127010.SZ\\r\\n697,113015.SH\\r\\n698,128024.SZ\\r\\n699,110040.SH\\r\\n700,113513.SH\\r\\n701,113018.SH\\r\\n702,123006.SZ\\r\\n703,113506.SH\\r\\n704,123008.SZ\\r\\n705,113512.SH\\r\\n706,110032.SH\\r\\n707,113010.SH\\r\\n708,123005.SZ\\r\\n709,110039.SH\\r\\n710,128011.SZ\\r\\n711,128009.SZ\\r\\n712,110035.SH\\r\\n713,113501.SH\\r\\n714,113007.SH\\r\\n715,110023.SH\\r\\n716,128007.SZ\\r\\n717,128008.SZ\\r\\n718,125089.SZ\\r\\n719,126729.SZ\\r\\n720,110029.SH\\r\\n721,128002.SZ\\r\\n722,128005.SZ\\r\\n723,110012.SH\\r\\n724,113006.SH\\r\\n725,110011.SH\\r\\n726,110019.SH\\r\\n727,110028.SH\\r\\n728,128006.SZ\\r\\n729,110020.SH\\r\\n730,113001.SH\\r\\n731,110022.SH\\r\\n732,110018.SH\\r\\n733,110027.SH\\r\\n734,113002.SH\\r\\n735,110015.SH\\r\\n736,110017.SH\\r\\n737,127002.SZ\\r\\n738,113005.SH\\r\\n739,110025.SH\\r\\n740,128004.SZ\\r\\n741,110024.SH\\r\\n742,113003.SH\\r\\n743,128003.SZ\\r\\n744,128001.SZ\\r\\n745,110007.SH\\r\\n746,110016.SH\\r\\n747,125887.SZ\\r\\n748,110003.SH\\r\\n749,129031.SZ\\r\\n750,125731.SZ\\r\\n751,110009.SH\\r\\n752,123177.SZ\\r\\n753,123179.SZ\\r\\n754,123180.SZ\\r\\n755,118032.SH\\r\\n756,113066.SH\\r\\n757,123181.SZ\\r\\n758,113667.SH\\r\\n759,118033.SH\\r\\n760,123182.SZ\\r\\n761,123184.SZ\\r\\n762,123183.SZ\\r\\n763,110093.SH\\r\\n764,123185.SZ\\r\\n765,127084.SZ\\r\\n766,123186.SZ\\r\\n767,123187.SZ\\r\\n768,123189.SZ\\r\\n769,127081.SZ\\r\\n770,123188.SZ\\r\\n771,123190.SZ\\r\\n772,127083.SZ\\r\\n773,113668.SH\\r\\n774,127082.SZ\\r\\n775,123191.SZ\\r\\n776,123194.SZ\\r\\n777,111013.SH\\r\\n778,123195.SZ\\r\\n779,123193.SZ\\r\\n780,113669.SH\\r\\n781,123192.SZ\\r\\n782,113670.SH\\r\\n783,118034.SH\\r\\n784,123196.SZ\\r\\n785,127085.SZ\\r\\n'"
      ]
     },
     "execution_count": 16,
     "metadata": {},
     "output_type": "execute_result"
    }
   ],
   "source": [
    "df.to_csv()"
   ]
  },
  {
   "cell_type": "code",
   "execution_count": 19,
   "id": "2aa59ebb",
   "metadata": {},
   "outputs": [],
   "source": [
    "df.to_csv('cb.csv')\n",
    "df2.to_csv('st.csv')"
   ]
  },
  {
   "cell_type": "code",
   "execution_count": null,
   "id": "b2db529d",
   "metadata": {},
   "outputs": [],
   "source": []
  }
 ],
 "metadata": {
  "kernelspec": {
   "display_name": "Python 3 (ipykernel)",
   "language": "python",
   "name": "python3"
  },
  "language_info": {
   "codemirror_mode": {
    "name": "ipython",
    "version": 3
   },
   "file_extension": ".py",
   "mimetype": "text/x-python",
   "name": "python",
   "nbconvert_exporter": "python",
   "pygments_lexer": "ipython3",
   "version": "3.10.9"
  }
 },
 "nbformat": 4,
 "nbformat_minor": 5
}
