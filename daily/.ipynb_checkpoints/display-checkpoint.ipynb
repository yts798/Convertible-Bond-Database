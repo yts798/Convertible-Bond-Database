{
 "cells": [
  {
   "cell_type": "code",
   "execution_count": 7,
   "id": "488e68c1",
   "metadata": {},
   "outputs": [],
   "source": [
    "import pandas as pd\n",
    "import numpy as np\n",
    "import pickle\n",
    "import time \n",
    "import os\n",
    "from datetime import datetime\n",
    "from operator import itemgetter\n",
    "data_folder_path = 'C:\\\\Users\\\\goodluck\\\\Desktop\\\\DB'\n",
    "raw_data_path =  \"C:\\\\Users\\\\goodluck\\\\Desktop\\\\DB\\\\raw_data\"\n",
    "storage_path =  \"C:\\\\Users\\\\goodluck\\\\Desktop\\\\DB\\\\database_storage\"\n",
    "daily_path =  \"C:\\\\Users\\\\goodluck\\\\Desktop\\\\DB\\\\daily\"\n",
    "DTBS_path = os.path.join(storage_path, \"DTBS.pkl\")\n",
    "DCBS_path = os.path.join(storage_path, \"DCBS.pkl\")"
   ]
  },
  {
   "cell_type": "code",
   "execution_count": 8,
   "id": "166954c6",
   "metadata": {},
   "outputs": [],
   "source": [
    "# re-open\n",
    "with open(DCBS_path, 'rb') as f:  \n",
    "    DCBS = pickle.load(f)\n",
    "# re-open\n",
    "with open(DTBS_path, 'rb') as f:  \n",
    "    DTBS = pickle.load(f)"
   ]
  },
  {
   "cell_type": "code",
   "execution_count": 18,
   "id": "ea030051",
   "metadata": {},
   "outputs": [],
   "source": [
    "def select_condition(codes, dt, fcd):\n",
    "    satisfy = []\n",
    "    if fcd[0] == 'lp':\n",
    "        lm = calculate_time(dt, 'p', 10)\n",
    "        \n",
    "        for code in codes:\n",
    "            if low_prc(code, dt, lm, fcd[1]):\n",
    "                satisfy.append(code)\n",
    "        \n",
    "    else:\n",
    "        for code in codes:\n",
    "            if DCBS[dt][code][fcd[0]] <= fcd[2] and  DCBS[dt][code][fcd[0]] >= fcd[1]:\n",
    "                satisfy.append(code)\n",
    "                    \n",
    "    return satisfy\n",
    "\n",
    "\n",
    "def takeSecond(elem):\n",
    "    return elem[1]\n",
    "\n",
    "def rank(codes, dt, idx, num, d):\n",
    "    rk = []\n",
    "    if num == -1:\n",
    "        num = len(codes)\n",
    "    for code in codes:\n",
    "        if idx == 'lp':\n",
    "            if not np.isnan(DCBS[dt][code]['dp']):\n",
    "                lm = calculate_time(dt, 'p', 20)\n",
    "                prc = get_prcs(code, lm)\n",
    "                lp = absolute_low(prc, 0)\n",
    "                rk.append((code,  DCBS[dt][code]['dp']/lp))\n",
    "            \n",
    "            \n",
    "        elif idx != 'dl':\n",
    "            if not np.isnan( DCBS[dt][code][idx]):\n",
    "                rk.append((code,  DCBS[dt][code][idx]))\n",
    "        else:\n",
    "            if not np.isnan( DCBS[dt][code][idx]):\n",
    "                if  DCBS[dt][code][idx] != 999:\n",
    "                    rk.append((code,  DCBS[dt][code][idx]))\n",
    "    if num >= len(rk):\n",
    "        num = len(rk)\n",
    "        \n",
    "     \n",
    "#     reverse = True 降序\n",
    "    if d == 'd':\n",
    "        rk.sort(key=takeSecond, reverse = True)\n",
    "    else:\n",
    "        rk.sort(key=takeSecond, reverse = False)\n",
    "\n",
    "    if idx == 'lp':\n",
    "        lp = [i for i in rk if i[1] == 1.0]\n",
    "        ot = []\n",
    "        if num - len(lp) > 0:\n",
    "            ot = rk[len(lp):num]\n",
    "        \n",
    "        low = lp + ot\n",
    "        \n",
    "    else:    \n",
    "        low = rk[0:num]\n",
    "#     print(\"In\",dt , len(low), \"of\", len(codes),  \"is selected\")   \n",
    "\n",
    "#     print(low)\n",
    "    \n",
    "    \n",
    "    return [i[0] for i in low]\n",
    "\n",
    "def get_prcs(code, dts):\n",
    "    prc = []\n",
    "    for dt in dts:\n",
    "        prc.append(DCBS[dt][code]['dp'])\n",
    "    prc.sort()\n",
    "    return prc\n",
    "    \n",
    "def relative_low(lst, pos):\n",
    "    return np.quantile(a=lst, q = pos)\n",
    "    \n",
    "def absolute_low(lst, pos):\n",
    "    return min(lst) + pos * (max(lst) - min(lst))\n",
    "\n",
    "def low_prc(code, dt, lm, pos):\n",
    "    prc = get_prcs(code, lm)\n",
    "#     lp = min([relative_low(prc, pos), absolute_low(prc, pos)])\n",
    "    lp = absolute_low(prc, pos)\n",
    "    tp = DCBS[dt][code]['dp']\n",
    "#     if (tp <= lp):\n",
    "#         print(code, tp, lp)\n",
    "#     if tp <= lp:\n",
    "#         print(tp, lp)\n",
    "    return tp <= lp\n",
    "\n",
    "def calculate_time(dt, d, l):\n",
    "    time = []\n",
    "    days = list(DCBS.keys())\n",
    "    if d == 'p':\n",
    "        for i in range(len(days)):\n",
    "            if days[i] == dt:\n",
    "                break\n",
    "                \n",
    "    return days[i-l+1:i+1]\n",
    "\n"
   ]
  },
  {
   "cell_type": "code",
   "execution_count": 19,
   "id": "8c7d4c2b",
   "metadata": {},
   "outputs": [
    {
     "data": {
      "text/plain": [
       "dict_keys(['2023-04-27', '2023-04-28', '2023-05-04', '2023-05-05', '2023-05-08', '2023-05-09', '2023-05-10', '2023-05-11', '2023-05-12', '2023-05-15', '2023-05-16', '2023-05-17', '2023-05-18', '2023-05-19', '2023-05-22'])"
      ]
     },
     "execution_count": 19,
     "metadata": {},
     "output_type": "execute_result"
    }
   ],
   "source": [
    "tdd =datetime.today()\n",
    "td = tdd.strftime('%Y-%m-%d')\n",
    "td\n",
    "DCBS.keys()"
   ]
  },
  {
   "cell_type": "code",
   "execution_count": 20,
   "id": "2283428d",
   "metadata": {},
   "outputs": [
    {
     "data": {
      "text/plain": [
       "30"
      ]
     },
     "execution_count": 20,
     "metadata": {},
     "output_type": "execute_result"
    }
   ],
   "source": [
    "select = list(DCBS[td].keys())\n",
    "\n",
    "flt_cd = [['dp', 100, 130]]\n",
    "\n",
    "flt_cd = [['dp', 100, 130], ['bl',0, 3]]\n",
    "\n",
    "flt_cd = [['dp', 100, 130], ['bl',0, 3]]\n",
    "\n",
    "flt_cd = [['dp', 100, 130], ['bl',0, 7], ['trt', 2, 10], ['ytm', -1, 9999]]\n",
    "\n",
    "\n",
    "\n",
    "flt_cd = [['dp', 100, 130], ['bl',0, 7], ['trt', 2, 10], ['ytm', 0.5, 9999]]\n",
    "flt_cd = [['dp', 100, 130], ['bl',0, 3]]\n",
    "flt_cd = [['dp', 100, 130], ['bl',0, 7], ['trt', 2, 10], ['ytm', -1, 9999]]\n",
    "for fcd in flt_cd:\n",
    "    select = select_condition(select, td, fcd)\n",
    "    \n",
    "    \n",
    "# rk_cd = [['lp', 10, 'a']]\n",
    "rk_cd = [['dl', 600, 'a']]\n",
    "\n",
    "\n",
    "\n",
    "rk_cd = [['dl', 30, 'a']]\n",
    "\n",
    "\n",
    "rk_cd = [['ytm', 20, 'd']]\n",
    "rk_cd = [['dl', 30, 'a']]\n",
    "rk_cd = [['lp', 30, 'a']]\n",
    "codes = rank(select, td, rk_cd[0][0], rk_cd[0][1], rk_cd[0][2])\n",
    "len(codes)"
   ]
  },
  {
   "cell_type": "code",
   "execution_count": 21,
   "id": "b99a3e1d",
   "metadata": {},
   "outputs": [
    {
     "name": "stdout",
     "output_type": "stream",
     "text": [
      "113651.SH 松霖转债 603992.SH 松霖科技 收盘价： 119.237 转股溢价率： 22.11 到期收益率： -0.36 换手率： 4.05 市值 6.1 双低 141.34699999999998\n",
      "128125.SZ 华阳转债 002949.SZ 华阳国际 收盘价： 109.501 转股溢价率： 86.38 到期收益率： 2.29 换手率： 2.82 市值 4.498 双低 195.881\n",
      "113657.SH 再22转债 603601.SH 再升科技 收盘价： 109.325 转股溢价率： 53.2 到期收益率： 0.98 换手率： 3.08 市值 5.1 双低 162.525\n",
      "123063.SZ 大禹转债 300021.SZ 大禹节水 收盘价： 124.071 转股溢价率： 14.64 到期收益率： 0.37 换手率： 2.37 市值 6.346 双低 138.711\n",
      "123072.SZ 乐歌转债 300729.SZ 乐歌股份 收盘价： 126.962 转股溢价率： 191.73 到期收益率： 0.32 换手率： 2.51 市值 1.419 双低 318.692\n",
      "118014.SH 高测转债 688556.SH 高测股份 收盘价： 118.417 转股溢价率： 57.18 到期收益率： -0.71 换手率： 2.64 市值 4.833 双低 175.597\n",
      "123167.SZ 商络转债 300975.SZ 商络电子 收盘价： 124.22 转股溢价率： 31.02 到期收益率： -0.41 换手率： 2.37 市值 3.965 双低 155.24\n",
      "128123.SZ 国光转债 002749.SZ 国光股份 收盘价： 116.666 转股溢价率： 42.35 到期收益率： -0.46 换手率： 2.5 市值 3.199 双低 159.016\n",
      "123159.SZ 崧盛转债 301002.SZ 崧盛股份 收盘价： 116.34 转股溢价率： 40.22 到期收益率： 0.48 换手率： 4.16 市值 2.94 双低 156.56\n",
      "123061.SZ 航新转债 300424.SZ 航新科技 收盘价： 124.946 转股溢价率： 32.26 到期收益率： -0.38 换手率： 3.86 市值 2.496 双低 157.206\n",
      "118032.SH 建龙转债 688357.SH 建龙微纳 收盘价： 121.213 转股溢价率： 57.28 到期收益率： -0.13 换手率： 4.44 市值 7.0 双低 178.493\n",
      "118016.SH 京源转债 688096.SH 京源环保 收盘价： 116.788 转股溢价率： 16.11 到期收益率： 0.81 换手率： 3.57 市值 3.33 双低 132.898\n",
      "123185.SZ 能辉转债 301046.SZ 能辉科技 收盘价： 119.98 转股溢价率： 37.81 到期收益率： -0.42 换手率： 7.2 市值 3.479 双低 157.79000000000002\n",
      "123189.SZ 晓鸣转债 300967.SZ 晓鸣股份 收盘价： 118.1 转股溢价率： 44.04 到期收益率： 0.16 换手率： 4.7 市值 3.29 双低 162.14\n",
      "113569.SH 科达转债 603660.SH 苏州科达 收盘价： 110.567 转股溢价率： 117.01 到期收益率： 2.55 换手率： 2.8 市值 5.153 双低 227.577\n",
      "123093.SZ 金陵转债 300651.SZ 金陵体育 收盘价： 120.388 转股溢价率： 146.55 到期收益率： 1.74 换手率： 5.97 市值 2.485 双低 266.938\n",
      "123152.SZ 润禾转债 300727.SZ 润禾材料 收盘价： 123.602 转股溢价率： 34.75 到期收益率： 0.14 换手率： 5.49 市值 2.92 双低 158.352\n",
      "113601.SH 塞力转债 603716.SH 塞力医疗 收盘价： 100.47 转股溢价率： 76.05 到期收益率： 5.76 换手率： 2.6 市值 5.425 双低 176.51999999999998\n",
      "123193.SZ 海能转债 300787.SZ 海能实业 收盘价： 121.144 转股溢价率： 31.05 到期收益率： -0.12 换手率： 6.15 市值 6.0 双低 152.19400000000002\n",
      "123101.SZ 拓斯转债 300607.SZ 拓斯达 收盘价： 115.102 转股溢价率： 124.06 到期收益率： -0.19 换手率： 2.21 市值 6.698 双低 239.162\n",
      "123154.SZ 火星转债 300894.SZ 火星人 收盘价： 120.509 转股溢价率： 54.8 到期收益率： -0.03 换手率： 2.58 市值 5.29 双低 175.309\n",
      "123160.SZ 泰福转债 300992.SZ 泰福泵业 收盘价： 118.12 转股溢价率： 22.37 到期收益率： 0.54 换手率： 5.58 市值 3.349 双低 140.49\n",
      "118017.SH 深科转债 688328.SH 深科达 收盘价： 117.745 转股溢价率： 45.71 到期收益率： 0.55 换手率： 2.06 市值 3.6 双低 163.455\n",
      "123056.SZ 雪榕转债 300511.SZ 雪榕生物 收盘价： 113.046 转股溢价率： 56.7 到期收益率： 2.0 换手率： 2.09 市值 5.84 双低 169.746\n",
      "123153.SZ 英力转债 300956.SZ 英力股份 收盘价： 110.5 转股溢价率： 45.13 到期收益率： 1.9 换手率： 2.13 市值 3.4 双低 155.63\n",
      "123171.SZ 共同转债 300966.SZ 共同药业 收盘价： 124.088 转股溢价率： 37.4 到期收益率： -0.4 换手率： 3.82 市值 3.8 双低 161.488\n",
      "113591.SH 胜达转债 603687.SH 大胜达 收盘价： 121.075 转股溢价率： 23.91 到期收益率： -0.02 换手率： 2.17 市值 4.743 双低 144.985\n",
      "123122.SZ 富瀚转债 300613.SZ 富瀚微 收盘价： 118.91 转股溢价率： 89.29 到期收益率： 0.22 换手率： 3.22 市值 5.806 双低 208.2\n",
      "123175.SZ 百畅转债 300614.SZ 百川畅银 收盘价： 119.686 转股溢价率： 28.24 到期收益率： -0.24 换手率： 6.96 市值 4.2 双低 147.92600000000002\n",
      "127077.SZ 华宏转债 002645.SZ 华宏科技 收盘价： 119.6 转股溢价率： 47.86 到期收益率： 0.2 换手率： 3.33 市值 5.15 双低 167.45999999999998\n"
     ]
    }
   ],
   "source": [
    "for r in codes:\n",
    "    print(r, DCBS[td][r]['cn'], DCBS[td][r]['sc'],  DCBS[td][r]['sn'], \"收盘价：\", DCBS[td][r]['dp'],  \"转股溢价率：\", DCBS[td][r]['cpr'], \"到期收益率：\", DCBS[td][r]['ytm'],\"换手率：\", DCBS[td][r]['trt'], '市值',  DCBS[td][r]['bl'], '双低', DCBS[td][r]['dl'])"
   ]
  },
  {
   "cell_type": "code",
   "execution_count": 41,
   "id": "d12a69ea",
   "metadata": {},
   "outputs": [],
   "source": [
    "tdd =datetime.today()\n",
    "td = tdd.strftime('%Y-%m-%d')\n",
    "select = list(DCBS[td].keys())\n",
    "for code in select:\n",
    "    DCBS[td][code]['cat1'] = DTBS['B'][code]['cat1']\n",
    "    DCBS[td][code]['cat2'] = DTBS['B'][code]['cat2']\n",
    "    \n",
    "# save\n",
    "f_save = open(DCBS_path, 'wb')\n",
    "pickle.dump(DCBS, f_save)\n",
    "f_save.close()\n"
   ]
  },
  {
   "cell_type": "code",
   "execution_count": 34,
   "id": "d77799b8",
   "metadata": {},
   "outputs": [
    {
     "ename": "KeyError",
     "evalue": "'127082.SZ'",
     "output_type": "error",
     "traceback": [
      "\u001b[1;31m---------------------------------------------------------------------------\u001b[0m",
      "\u001b[1;31mKeyError\u001b[0m                                  Traceback (most recent call last)",
      "Cell \u001b[1;32mIn[34], line 1\u001b[0m\n\u001b[1;32m----> 1\u001b[0m \u001b[43mDTBS\u001b[49m\u001b[43m[\u001b[49m\u001b[38;5;124;43m'\u001b[39;49m\u001b[38;5;124;43m127082.SZ\u001b[39;49m\u001b[38;5;124;43m'\u001b[39;49m\u001b[43m]\u001b[49m\n",
      "\u001b[1;31mKeyError\u001b[0m: '127082.SZ'"
     ]
    }
   ],
   "source": [
    "DTBS['127082.SZ']"
   ]
  },
  {
   "cell_type": "code",
   "execution_count": null,
   "id": "38041bd2",
   "metadata": {},
   "outputs": [],
   "source": []
  }
 ],
 "metadata": {
  "kernelspec": {
   "display_name": "Python 3 (ipykernel)",
   "language": "python",
   "name": "python3"
  },
  "language_info": {
   "codemirror_mode": {
    "name": "ipython",
    "version": 3
   },
   "file_extension": ".py",
   "mimetype": "text/x-python",
   "name": "python",
   "nbconvert_exporter": "python",
   "pygments_lexer": "ipython3",
   "version": "3.10.9"
  }
 },
 "nbformat": 4,
 "nbformat_minor": 5
}
