{
 "cells": [
  {
   "cell_type": "code",
   "execution_count": 38,
   "id": "488e68c1",
   "metadata": {},
   "outputs": [],
   "source": [
    "import pandas as pd\n",
    "import numpy as np\n",
    "import pickle\n",
    "import time \n",
    "import os\n",
    "from datetime import datetime\n",
    "from operator import itemgetter\n",
    "data_folder_path = 'C:\\\\Users\\\\goodluck\\\\Desktop\\\\DB'\n",
    "raw_data_path =  \"C:\\\\Users\\\\goodluck\\\\Desktop\\\\DB\\\\raw_data\"\n",
    "storage_path =  \"C:\\\\Users\\\\goodluck\\\\Desktop\\\\DB\\\\database_storage\"\n",
    "daily_path =  \"C:\\\\Users\\\\goodluck\\\\Desktop\\\\DB\\\\daily\"\n",
    "DTBS_path = os.path.join(storage_path, \"DTBS.pkl\")\n",
    "DCBS_path = os.path.join(storage_path, \"DCBS.pkl\")"
   ]
  },
  {
   "cell_type": "code",
   "execution_count": 39,
   "id": "166954c6",
   "metadata": {},
   "outputs": [],
   "source": [
    "# re-open\n",
    "with open(DCBS_path, 'rb') as f:  \n",
    "    DCBS = pickle.load(f)\n",
    "# re-open\n",
    "with open(DTBS_path, 'rb') as f:  \n",
    "    DTBS = pickle.load(f)"
   ]
  },
  {
   "cell_type": "code",
   "execution_count": 25,
   "id": "ea030051",
   "metadata": {},
   "outputs": [],
   "source": [
    "def select_condition(codes, dt, fcd):\n",
    "    satisfy = []\n",
    "    if fcd[0] == 'lp':\n",
    "        lm = calculate_time(dt, 'p', 20)\n",
    "        \n",
    "        for code in codes:\n",
    "            if low_prc(code, dt, lm, fcd[1]):\n",
    "                satisfy.append(code)\n",
    "        \n",
    "    else:\n",
    "        for code in codes:\n",
    "            if DCBS[dt][code][fcd[0]] <= fcd[2] and  DCBS[dt][code][fcd[0]] >= fcd[1]:\n",
    "                satisfy.append(code)\n",
    "                    \n",
    "    return satisfy\n",
    "\n",
    "\n",
    "def takeSecond(elem):\n",
    "    return elem[1]\n",
    "\n",
    "def rank(codes, dt, idx, num, d):\n",
    "    rk = []\n",
    "    if num == -1:\n",
    "        num = len(codes)\n",
    "    for code in codes:\n",
    "        if idx == 'lp':\n",
    "            if not np.isnan(DTBS['A'][code][dt]['dp']):\n",
    "                lm = calculate_time(dt, 'p', 20)\n",
    "                prc = get_prcs(code, lm)\n",
    "                lp = absolute_low(prc, 0)\n",
    "                rk.append((code,  DCBS[dt][code]['dp']/lp))\n",
    "            \n",
    "            \n",
    "        elif idx != 'dl':\n",
    "            if not np.isnan( DCBS[dt][code][idx]):\n",
    "                rk.append((code,  DCBS[dt][code][idx]))\n",
    "        else:\n",
    "            if not np.isnan( DCBS[dt][code][idx]):\n",
    "                if  DCBS[dt][code][idx] != 999:\n",
    "                    rk.append((code,  DCBS[dt][code][idx]))\n",
    "    if num >= len(rk):\n",
    "        num = len(rk)\n",
    "        \n",
    "     \n",
    "#     reverse = True 降序\n",
    "    if d == 'd':\n",
    "        rk.sort(key=takeSecond, reverse = True)\n",
    "    else:\n",
    "        rk.sort(key=takeSecond, reverse = False)\n",
    "\n",
    "    if idx == 'lp':\n",
    "        lp = [i for i in rk if i[1] == 1.0]\n",
    "        ot = []\n",
    "        if num - len(lp) > 0:\n",
    "            ot = rk[len(lp):num]\n",
    "        \n",
    "        low = lp + ot\n",
    "        \n",
    "    else:    \n",
    "        low = rk[0:num]\n",
    "#     print(\"In\",dt , len(low), \"of\", len(codes),  \"is selected\")   \n",
    "\n",
    "#     print(low)\n",
    "    \n",
    "    \n",
    "    return [i[0] for i in low]\n",
    "  "
   ]
  },
  {
   "cell_type": "code",
   "execution_count": 26,
   "id": "8c7d4c2b",
   "metadata": {},
   "outputs": [
    {
     "data": {
      "text/plain": [
       "'2023-04-27'"
      ]
     },
     "execution_count": 26,
     "metadata": {},
     "output_type": "execute_result"
    }
   ],
   "source": [
    "tdd =datetime.today()\n",
    "td = tdd.strftime('%Y-%m-%d')\n",
    "td\n"
   ]
  },
  {
   "cell_type": "code",
   "execution_count": 27,
   "id": "2283428d",
   "metadata": {},
   "outputs": [
    {
     "data": {
      "text/plain": [
       "30"
      ]
     },
     "execution_count": 27,
     "metadata": {},
     "output_type": "execute_result"
    }
   ],
   "source": [
    "select = list(DCBS[td].keys())\n",
    "\n",
    "flt_cd = [['dp', 100, 130]]\n",
    "\n",
    "flt_cd = [['dp', 100, 130], ['bl',0, 3]]\n",
    "flt_cd = [['dp', 100, 130], ['bl',0, 7], ['trt', 2, 10], ['ytm', -1, 9999]]\n",
    "for fcd in flt_cd:\n",
    "    select = select_condition(select, td, fcd)\n",
    "    \n",
    "    \n",
    "# rk_cd = [['lp', 10, 'a']]\n",
    "rk_cd = [['dl', 600, 'a']]\n",
    "rk_cd = [['ytm', 20, 'd']]\n",
    "rk_cd = [['dl', 30, 'a']]\n",
    "codes = rank(select, td, rk_cd[0][0], rk_cd[0][1], rk_cd[0][2])\n",
    "len(codes)"
   ]
  },
  {
   "cell_type": "code",
   "execution_count": 28,
   "id": "b99a3e1d",
   "metadata": {},
   "outputs": [
    {
     "name": "stdout",
     "output_type": "stream",
     "text": [
      "123063.SZ 大禹转债 300021.SZ 大禹节水 收盘价： 126.1 转股溢价率： 17.86 到期收益率： -0.15 换手率： 4.21 市值 6.346 双低 143.95999999999998\n",
      "113649.SH 丰山转债 603810.SH 丰山集团 收盘价： 124.874 转股溢价率： 21.44 到期收益率： -0.72 换手率： 3.06 市值 4.994 双低 146.314\n",
      "118016.SH 京源转债 688096.SH 京源环保 收盘价： 117.0 转股溢价率： 30.94 到期收益率： 0.77 换手率： 2.07 市值 3.33 双低 147.94\n",
      "123141.SZ 宏丰转债 300283.SZ 温州宏丰 收盘价： 121.333 转股溢价率： 27.98 到期收益率： -0.02 换手率： 2.46 市值 3.211 双低 149.313\n",
      "113532.SH 海环转债 603817.SH 海峡环保 收盘价： 110.25 转股溢价率： 39.14 到期收益率： -0.21 换手率： 2.51 市值 4.585 双低 149.39\n",
      "111004.SH 明新转债 605068.SH 明新旭腾 收盘价： 120.754 转股溢价率： 28.91 到期收益率： -0.03 换手率： 4.7 市值 6.729 双低 149.66400000000002\n",
      "113651.SH 松霖转债 603992.SH 松霖科技 收盘价： 119.244 转股溢价率： 31.54 到期收益率： -0.35 换手率： 3.56 市值 6.1 双低 150.784\n",
      "113628.SH 晨丰转债 603685.SH 晨丰科技 收盘价： 114.072 转股溢价率： 38.73 到期收益率： 1.45 换手率： 2.38 市值 4.15 双低 152.802\n",
      "127081.SZ 中旗转债 001212.SZ 中旗新材 收盘价： 122.717 转股溢价率： 30.16 到期收益率： -0.91 换手率： 6.53 市值 5.4 双低 152.877\n",
      "123175.SZ 百畅转债 300614.SZ 百川畅银 收盘价： 122.516 转股溢价率： 30.39 到期收益率： -0.64 换手率： 3.35 市值 4.2 双低 152.906\n",
      "113665.SH 汇通转债 603176.SH 汇通集团 收盘价： 118.298 转股溢价率： 35.98 到期收益率： 0.3 换手率： 3.25 市值 3.6 双低 154.278\n",
      "123087.SZ 明电转债 300739.SZ 明阳电路 收盘价： 118.92 转股溢价率： 43.53 到期收益率： 0.25 换手率： 3.66 市值 4.189 双低 162.45\n",
      "123186.SZ 志特转债 300986.SZ 志特新材 收盘价： 120.917 转股溢价率： 43.31 到期收益率： 0.0 换手率： 5.92 市值 6.14 双低 164.227\n",
      "123157.SZ 科蓝转债 300663.SZ 科蓝软件 收盘价： 123.232 转股溢价率： 42.23 到期收益率： -0.46 换手率： 4.18 市值 4.945 双低 165.462\n",
      "111011.SH 冠盛转债 605088.SH 冠盛股份 收盘价： 123.343 转股溢价率： 43.37 到期收益率： -0.49 换手率： 4.29 市值 6.02 双低 166.713\n",
      "123061.SZ 航新转债 300424.SZ 航新科技 收盘价： 126.209 转股溢价率： 42.21 到期收益率： -0.69 换手率： 3.62 市值 2.496 双低 168.419\n",
      "123180.SZ 浙矿转债 300837.SZ 浙矿股份 收盘价： 126.98 转股溢价率： 41.77 到期收益率： -0.96 换手率： 5.27 市值 3.2 双低 168.75\n",
      "123182.SZ 广联转债 300900.SZ 广联航空 收盘价： 124.763 转股溢价率： 44.89 到期收益率： -0.51 换手率： 3.84 市值 7.0 双低 169.65300000000002\n",
      "123154.SZ 火星转债 300894.SZ 火星人 收盘价： 122.092 转股溢价率： 47.85 到期收益率： -0.29 换手率： 3.12 市值 5.29 双低 169.942\n",
      "123059.SZ 银信转债 300231.SZ 银信科技 收盘价： 126.542 转股溢价率： 43.66 到期收益率： -0.9 换手率： 3.06 市值 3.912 双低 170.202\n",
      "127062.SZ 垒知转债 002398.SZ 垒知集团 收盘价： 118.44 转股溢价率： 51.97 到期收益率： 0.28 换手率： 2.08 市值 3.961 双低 170.41\n",
      "127026.SZ 超声转债 000823.SZ 超声电子 收盘价： 116.0 转股溢价率： 56.23 到期收益率： -0.91 换手率： 3.9 市值 6.997 双低 172.23\n",
      "123153.SZ 英力转债 300956.SZ 英力股份 收盘价： 114.716 转股溢价率： 58.79 到期收益率： 1.13 换手率： 2.58 市值 3.4 双低 173.506\n",
      "123171.SZ 共同转债 300966.SZ 共同药业 收盘价： 128.175 转股溢价率： 46.35 到期收益率： -0.99 换手率： 3.55 市值 3.8 双低 174.525\n",
      "118018.SH 瑞科转债 688323.SH 瑞华泰 收盘价： 116.1 转股溢价率： 60.14 到期收益率： -0.27 换手率： 2.1 市值 4.3 双低 176.24\n",
      "123056.SZ 雪榕转债 300511.SZ 雪榕生物 收盘价： 113.21 转股溢价率： 65.85 到期收益率： 1.91 换手率： 3.72 市值 5.84 双低 179.06\n",
      "128120.SZ 联诚转债 002921.SZ 联诚精密 收盘价： 119.712 转股溢价率： 60.22 到期收益率： -0.67 换手率： 3.0 市值 2.597 双低 179.93200000000002\n",
      "118017.SH 深科转债 688328.SH 深科达 收盘价： 122.895 转股溢价率： 57.79 到期收益率： -0.28 换手率： 4.62 市值 3.6 双低 180.685\n",
      "118015.SH 芯海转债 688595.SH 芯海科技 收盘价： 117.821 转股溢价率： 77.69 到期收益率： 0.6 换手率： 4.81 市值 4.1 双低 195.511\n",
      "123109.SZ 昌红转债 300151.SZ 昌红科技 收盘价： 117.503 转股溢价率： 86.24 到期收益率： 0.55 换手率： 2.4 市值 4.595 双低 203.743\n"
     ]
    }
   ],
   "source": [
    "for r in codes:\n",
    "    print(r, DCBS[td][r]['cn'], DCBS[td][r]['sc'],  DCBS[td][r]['sn'], \"收盘价：\", DCBS[td][r]['dp'],  \"转股溢价率：\", DCBS[td][r]['cpr'], \"到期收益率：\", DCBS[td][r]['ytm'],\"换手率：\", DCBS[td][r]['trt'], '市值',  DCBS[td][r]['bl'], '双低', DCBS[td][r]['dl'])"
   ]
  },
  {
   "cell_type": "code",
   "execution_count": 41,
   "id": "d12a69ea",
   "metadata": {},
   "outputs": [],
   "source": [
    "tdd =datetime.today()\n",
    "td = tdd.strftime('%Y-%m-%d')\n",
    "select = list(DCBS[td].keys())\n",
    "for code in select:\n",
    "    DCBS[td][code]['cat1'] = DTBS['B'][code]['cat1']\n",
    "    DCBS[td][code]['cat2'] = DTBS['B'][code]['cat2']\n",
    "    \n",
    "# save\n",
    "f_save = open(DCBS_path, 'wb')\n",
    "pickle.dump(DCBS, f_save)\n",
    "f_save.close()\n"
   ]
  },
  {
   "cell_type": "code",
   "execution_count": 34,
   "id": "d77799b8",
   "metadata": {},
   "outputs": [
    {
     "ename": "KeyError",
     "evalue": "'127082.SZ'",
     "output_type": "error",
     "traceback": [
      "\u001b[1;31m---------------------------------------------------------------------------\u001b[0m",
      "\u001b[1;31mKeyError\u001b[0m                                  Traceback (most recent call last)",
      "Cell \u001b[1;32mIn[34], line 1\u001b[0m\n\u001b[1;32m----> 1\u001b[0m \u001b[43mDTBS\u001b[49m\u001b[43m[\u001b[49m\u001b[38;5;124;43m'\u001b[39;49m\u001b[38;5;124;43m127082.SZ\u001b[39;49m\u001b[38;5;124;43m'\u001b[39;49m\u001b[43m]\u001b[49m\n",
      "\u001b[1;31mKeyError\u001b[0m: '127082.SZ'"
     ]
    }
   ],
   "source": [
    "DTBS['127082.SZ']"
   ]
  },
  {
   "cell_type": "code",
   "execution_count": null,
   "id": "38041bd2",
   "metadata": {},
   "outputs": [],
   "source": []
  }
 ],
 "metadata": {
  "kernelspec": {
   "display_name": "Python 3 (ipykernel)",
   "language": "python",
   "name": "python3"
  },
  "language_info": {
   "codemirror_mode": {
    "name": "ipython",
    "version": 3
   },
   "file_extension": ".py",
   "mimetype": "text/x-python",
   "name": "python",
   "nbconvert_exporter": "python",
   "pygments_lexer": "ipython3",
   "version": "3.10.9"
  }
 },
 "nbformat": 4,
 "nbformat_minor": 5
}
