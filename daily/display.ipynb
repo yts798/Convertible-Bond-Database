{
 "cells": [
  {
   "cell_type": "code",
   "execution_count": 1,
   "id": "488e68c1",
   "metadata": {},
   "outputs": [],
   "source": [
    "import pandas as pd\n",
    "import numpy as np\n",
    "import pickle\n",
    "import time \n",
    "import os\n",
    "from datetime import datetime\n",
    "from operator import itemgetter\n",
    "data_folder_path = 'C:\\\\Users\\\\goodluck\\\\Desktop\\\\DB'\n",
    "raw_data_path =  \"C:\\\\Users\\\\goodluck\\\\Desktop\\\\DB\\\\raw_data\"\n",
    "storage_path =  \"C:\\\\Users\\\\goodluck\\\\Desktop\\\\DB\\\\database_storage\"\n",
    "daily_path =  \"C:\\\\Users\\\\goodluck\\\\Desktop\\\\DB\\\\daily\"\n",
    "DTBS_path = os.path.join(storage_path, \"DTBS.pkl\")\n",
    "DCBS_path = os.path.join(storage_path, \"DCBS.pkl\")"
   ]
  },
  {
   "cell_type": "code",
   "execution_count": 2,
   "id": "166954c6",
   "metadata": {},
   "outputs": [],
   "source": [
    "# re-open\n",
    "with open(DCBS_path, 'rb') as f:  \n",
    "    DCBS = pickle.load(f)\n",
    "# re-open\n",
    "with open(DTBS_path, 'rb') as f:  \n",
    "    DTBS = pickle.load(f)"
   ]
  },
  {
   "cell_type": "code",
   "execution_count": 3,
   "id": "ea030051",
   "metadata": {},
   "outputs": [],
   "source": [
    "def select_condition(codes, dt, fcd):\n",
    "    satisfy = []\n",
    "    if fcd[0] == 'lp':\n",
    "        lm = calculate_time(dt, 'p', 20)\n",
    "        \n",
    "        for code in codes:\n",
    "            if low_prc(code, dt, lm, fcd[1]):\n",
    "                satisfy.append(code)\n",
    "        \n",
    "    else:\n",
    "        for code in codes:\n",
    "            if DCBS[dt][code][fcd[0]] <= fcd[2] and  DCBS[dt][code][fcd[0]] >= fcd[1]:\n",
    "                satisfy.append(code)\n",
    "                    \n",
    "    return satisfy\n",
    "\n",
    "\n",
    "def takeSecond(elem):\n",
    "    return elem[1]\n",
    "\n",
    "def rank(codes, dt, idx, num, d):\n",
    "    rk = []\n",
    "    if num == -1:\n",
    "        num = len(codes)\n",
    "    for code in codes:\n",
    "        if idx == 'lp':\n",
    "            if not np.isnan(DTBS['A'][code][dt]['dp']):\n",
    "                lm = calculate_time(dt, 'p', 20)\n",
    "                prc = get_prcs(code, lm)\n",
    "                lp = absolute_low(prc, 0)\n",
    "                rk.append((code,  DCBS[dt][code]['dp']/lp))\n",
    "            \n",
    "            \n",
    "        elif idx != 'dl':\n",
    "            if not np.isnan( DCBS[dt][code][idx]):\n",
    "                rk.append((code,  DCBS[dt][code][idx]))\n",
    "        else:\n",
    "            if not np.isnan( DCBS[dt][code][idx]):\n",
    "                if  DCBS[dt][code][idx] != 999:\n",
    "                    rk.append((code,  DCBS[dt][code][idx]))\n",
    "    if num >= len(rk):\n",
    "        num = len(rk)\n",
    "        \n",
    "     \n",
    "#     reverse = True 降序\n",
    "    if d == 'd':\n",
    "        rk.sort(key=takeSecond, reverse = True)\n",
    "    else:\n",
    "        rk.sort(key=takeSecond, reverse = False)\n",
    "\n",
    "    if idx == 'lp':\n",
    "        lp = [i for i in rk if i[1] == 1.0]\n",
    "        ot = []\n",
    "        if num - len(lp) > 0:\n",
    "            ot = rk[len(lp):num]\n",
    "        \n",
    "        low = lp + ot\n",
    "        \n",
    "    else:    \n",
    "        low = rk[0:num]\n",
    "#     print(\"In\",dt , len(low), \"of\", len(codes),  \"is selected\")   \n",
    "\n",
    "#     print(low)\n",
    "    \n",
    "    \n",
    "    return [i[0] for i in low]\n",
    "  "
   ]
  },
  {
   "cell_type": "code",
   "execution_count": 4,
   "id": "8c7d4c2b",
   "metadata": {},
   "outputs": [
    {
     "data": {
      "text/plain": [
       "'2023-05-04'"
      ]
     },
     "execution_count": 4,
     "metadata": {},
     "output_type": "execute_result"
    }
   ],
   "source": [
    "tdd =datetime.today()\n",
    "td = tdd.strftime('%Y-%m-%d')\n",
    "td\n"
   ]
  },
  {
   "cell_type": "code",
   "execution_count": 9,
   "id": "2283428d",
   "metadata": {},
   "outputs": [
    {
     "data": {
      "text/plain": [
       "30"
      ]
     },
     "execution_count": 9,
     "metadata": {},
     "output_type": "execute_result"
    }
   ],
   "source": [
    "select = list(DCBS[td].keys())\n",
    "\n",
    "flt_cd = [['dp', 100, 130]]\n",
    "\n",
    "flt_cd = [['dp', 100, 130], ['bl',0, 3]]\n",
    "\n",
    "flt_cd = [['dp', 100, 130], ['bl',0, 3]]\n",
    "flt_cd = [['dp', 100, 130], ['bl',0, 7], ['trt', 2, 10], ['ytm', 0.5, 9999]]\n",
    "flt_cd = [['dp', 100, 130], ['bl',0, 7], ['trt', 2, 10], ['ytm', -1, 9999]]\n",
    "for fcd in flt_cd:\n",
    "    select = select_condition(select, td, fcd)\n",
    "    \n",
    "    \n",
    "# rk_cd = [['lp', 10, 'a']]\n",
    "rk_cd = [['dl', 600, 'a']]\n",
    "\n",
    "\n",
    "rk_cd = [['ytm', 20, 'd']]\n",
    "rk_cd = [['dl', 30, 'a']]\n",
    "codes = rank(select, td, rk_cd[0][0], rk_cd[0][1], rk_cd[0][2])\n",
    "len(codes)"
   ]
  },
  {
   "cell_type": "code",
   "execution_count": 10,
   "id": "b99a3e1d",
   "metadata": {},
   "outputs": [
    {
     "name": "stdout",
     "output_type": "stream",
     "text": [
      "118016.SH 京源转债 688096.SH 京源环保 收盘价： 118.697 转股溢价率： 20.87 到期收益率： 0.49 换手率： 6.28 市值 3.33 双低 139.567\n",
      "123063.SZ 大禹转债 300021.SZ 大禹节水 收盘价： 126.953 转股溢价率： 15.01 到期收益率： -0.36 换手率： 3.11 市值 6.346 双低 141.963\n",
      "123141.SZ 宏丰转债 300283.SZ 温州宏丰 收盘价： 121.536 转股溢价率： 22.67 到期收益率： -0.06 换手率： 3.28 市值 3.211 双低 144.20600000000002\n",
      "113649.SH 丰山转债 603810.SH 丰山集团 收盘价： 124.018 转股溢价率： 20.36 到期收益率： -0.58 换手率： 2.8 市值 4.994 双低 144.378\n",
      "123162.SZ 东杰转债 300486.SZ 东杰智能 收盘价： 124.948 转股溢价率： 19.61 到期收益率： -0.49 换手率： 2.75 市值 5.7 双低 144.558\n",
      "113651.SH 松霖转债 603992.SH 松霖科技 收盘价： 119.5 转股溢价率： 26.2 到期收益率： -0.4 换手率： 4.34 市值 6.1 双低 145.7\n",
      "113532.SH 海环转债 603817.SH 海峡环保 收盘价： 110.781 转股溢价率： 35.38 到期收益率： -0.47 换手率： 2.47 市值 4.585 双低 146.161\n",
      "127054.SZ 双箭转债 002381.SZ 双箭股份 收盘价： 120.805 转股溢价率： 25.87 到期收益率： -0.72 换手率： 3.17 市值 5.136 双低 146.675\n",
      "113591.SH 胜达转债 603687.SH 大胜达 收盘价： 122.925 转股溢价率： 23.92 到期收益率： -0.51 换手率： 2.2 市值 4.743 双低 146.845\n",
      "123151.SZ 康医转债 300869.SZ 康泰医学 收盘价： 118.829 转股溢价率： 30.68 到期收益率： 0.46 换手率： 3.82 市值 6.999 双低 149.509\n",
      "113628.SH 晨丰转债 603685.SH 晨丰科技 收盘价： 114.962 转股溢价率： 34.99 到期收益率： 1.27 换手率： 2.98 市值 4.15 双低 149.952\n",
      "111004.SH 明新转债 605068.SH 明新旭腾 收盘价： 118.786 转股溢价率： 33.0 到期收益率： 0.32 换手率： 4.26 市值 6.729 双低 151.786\n",
      "113665.SH 汇通转债 603176.SH 汇通集团 收盘价： 118.915 转股溢价率： 33.52 到期收益率： 0.21 换手率： 3.32 市值 3.6 双低 152.435\n",
      "127081.SZ 中旗转债 001212.SZ 中旗新材 收盘价： 121.5 转股溢价率： 31.87 到期收益率： -0.75 换手率： 5.18 市值 5.4 双低 153.37\n",
      "127059.SZ 永东转2 002753.SZ 永东股份 收盘价： 117.046 转股溢价率： 39.84 到期收益率： 0.53 换手率： 2.17 市值 3.792 双低 156.88600000000002\n",
      "123166.SZ 蒙泰转债 300876.SZ 蒙泰高新 收盘价： 125.797 转股溢价率： 33.95 到期收益率： -0.64 换手率： 2.41 市值 3.0 双低 159.747\n",
      "111011.SH 冠盛转债 605088.SH 冠盛股份 收盘价： 120.88 转股溢价率： 40.51 到期收益率： -0.13 换手率： 2.32 市值 6.02 双低 161.39\n",
      "128085.SZ 鸿达转债 002002.SZ 鸿达兴业 收盘价： 103.679 转股溢价率： 57.74 到期收益率： 6.82 换手率： 5.7 市值 3.371 双低 161.419\n",
      "123189.SZ 晓鸣转债 300967.SZ 晓鸣股份 收盘价： 119.55 转股溢价率： 44.46 到期收益率： -0.05 换手率： 7.95 市值 3.29 双低 164.01\n",
      "123187.SZ 超达转债 301186.SZ 超达装备 收盘价： 124.836 转股溢价率： 39.65 到期收益率： -0.52 换手率： 7.89 市值 4.69 双低 164.486\n",
      "123157.SZ 科蓝转债 300663.SZ 科蓝软件 收盘价： 123.532 转股溢价率： 41.46 到期收益率： -0.51 换手率： 3.49 市值 4.945 双低 164.992\n",
      "127062.SZ 垒知转债 002398.SZ 垒知集团 收盘价： 118.601 转股溢价率： 46.83 到期收益率： 0.26 换手率： 2.35 市值 3.961 双低 165.43099999999998\n",
      "123061.SZ 航新转债 300424.SZ 航新科技 收盘价： 126.412 转股溢价率： 40.0 到期收益率： -0.74 换手率： 2.93 市值 2.496 双低 166.412\n",
      "123185.SZ 能辉转债 301046.SZ 能辉科技 收盘价： 118.352 转股溢价率： 48.77 到期收益率： -0.18 换手率： 6.99 市值 3.479 双低 167.122\n",
      "113566.SH 翔港转债 603499.SH 翔港科技 收盘价： 122.88 转股溢价率： 44.64 到期收益率： -0.26 换手率： 2.26 市值 1.613 双低 167.51999999999998\n",
      "123160.SZ 泰福转债 300992.SZ 泰福泵业 收盘价： 118.194 转股溢价率： 51.05 到期收益率： 0.52 换手率： 4.9 市值 3.349 双低 169.244\n",
      "128123.SZ 国光转债 002749.SZ 国光股份 收盘价： 114.051 转股溢价率： 56.46 到期收益率： 0.26 换手率： 2.73 市值 3.199 双低 170.511\n",
      "118032.SH 建龙转债 688357.SH 建龙微纳 收盘价： 125.015 转股溢价率： 45.72 到期收益率： -0.67 换手率： 2.23 市值 7.0 双低 170.735\n",
      "123180.SZ 浙矿转债 300837.SZ 浙矿股份 收盘价： 126.415 转股溢价率： 45.43 到期收益率： -0.89 换手率： 2.72 市值 3.2 双低 171.845\n",
      "113668.SH 鹿山转债 603051.SH 鹿山新材 收盘价： 114.128 转股溢价率： 59.59 到期收益率： 1.09 换手率： 6.74 市值 5.24 双低 173.71800000000002\n"
     ]
    }
   ],
   "source": [
    "for r in codes:\n",
    "    print(r, DCBS[td][r]['cn'], DCBS[td][r]['sc'],  DCBS[td][r]['sn'], \"收盘价：\", DCBS[td][r]['dp'],  \"转股溢价率：\", DCBS[td][r]['cpr'], \"到期收益率：\", DCBS[td][r]['ytm'],\"换手率：\", DCBS[td][r]['trt'], '市值',  DCBS[td][r]['bl'], '双低', DCBS[td][r]['dl'])"
   ]
  },
  {
   "cell_type": "code",
   "execution_count": 41,
   "id": "d12a69ea",
   "metadata": {},
   "outputs": [],
   "source": [
    "tdd =datetime.today()\n",
    "td = tdd.strftime('%Y-%m-%d')\n",
    "select = list(DCBS[td].keys())\n",
    "for code in select:\n",
    "    DCBS[td][code]['cat1'] = DTBS['B'][code]['cat1']\n",
    "    DCBS[td][code]['cat2'] = DTBS['B'][code]['cat2']\n",
    "    \n",
    "# save\n",
    "f_save = open(DCBS_path, 'wb')\n",
    "pickle.dump(DCBS, f_save)\n",
    "f_save.close()\n"
   ]
  },
  {
   "cell_type": "code",
   "execution_count": 34,
   "id": "d77799b8",
   "metadata": {},
   "outputs": [
    {
     "ename": "KeyError",
     "evalue": "'127082.SZ'",
     "output_type": "error",
     "traceback": [
      "\u001b[1;31m---------------------------------------------------------------------------\u001b[0m",
      "\u001b[1;31mKeyError\u001b[0m                                  Traceback (most recent call last)",
      "Cell \u001b[1;32mIn[34], line 1\u001b[0m\n\u001b[1;32m----> 1\u001b[0m \u001b[43mDTBS\u001b[49m\u001b[43m[\u001b[49m\u001b[38;5;124;43m'\u001b[39;49m\u001b[38;5;124;43m127082.SZ\u001b[39;49m\u001b[38;5;124;43m'\u001b[39;49m\u001b[43m]\u001b[49m\n",
      "\u001b[1;31mKeyError\u001b[0m: '127082.SZ'"
     ]
    }
   ],
   "source": [
    "DTBS['127082.SZ']"
   ]
  },
  {
   "cell_type": "code",
   "execution_count": null,
   "id": "38041bd2",
   "metadata": {},
   "outputs": [],
   "source": []
  }
 ],
 "metadata": {
  "kernelspec": {
   "display_name": "Python 3 (ipykernel)",
   "language": "python",
   "name": "python3"
  },
  "language_info": {
   "codemirror_mode": {
    "name": "ipython",
    "version": 3
   },
   "file_extension": ".py",
   "mimetype": "text/x-python",
   "name": "python",
   "nbconvert_exporter": "python",
   "pygments_lexer": "ipython3",
   "version": "3.10.9"
  }
 },
 "nbformat": 4,
 "nbformat_minor": 5
}
